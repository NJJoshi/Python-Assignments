{
 "cells": [
  {
   "cell_type": "code",
   "execution_count": 1,
   "id": "905c719d",
   "metadata": {},
   "outputs": [],
   "source": [
    "## Question 1\n",
    "## What are escape characters, and how do you use them?\n",
    "## "
   ]
  },
  {
   "cell_type": "code",
   "execution_count": 2,
   "id": "2c452260",
   "metadata": {},
   "outputs": [],
   "source": [
    "## Answer 1\n",
    "## To insert characters that are illegal in a string, use an escape character.\n",
    "## An escape character is a backslash \\ followed by the character you want to insert.\n",
    "##"
   ]
  },
  {
   "cell_type": "code",
   "execution_count": 3,
   "id": "a4aff83b",
   "metadata": {},
   "outputs": [],
   "source": [
    "## Question 2\n",
    "## What do the escape characters n and t stand for?\n",
    "##"
   ]
  },
  {
   "cell_type": "code",
   "execution_count": 4,
   "id": "5bf8e8d4",
   "metadata": {},
   "outputs": [],
   "source": [
    "## Answer 2\n",
    "## \\n stands for new line\n",
    "## \\t stands for tab (3 spaces in sequence)\n",
    "##"
   ]
  },
  {
   "cell_type": "code",
   "execution_count": 5,
   "id": "9be87ef8",
   "metadata": {},
   "outputs": [],
   "source": [
    "## Question 3\n",
    "## What is the way to include backslash characters in a string?\n",
    "## "
   ]
  },
  {
   "cell_type": "code",
   "execution_count": 6,
   "id": "5fe4422d",
   "metadata": {},
   "outputs": [],
   "source": [
    "## Answer 3\n",
    "## we should prepend another backslash to include backslash characters\n",
    "##"
   ]
  },
  {
   "cell_type": "code",
   "execution_count": 7,
   "id": "7d4e7548",
   "metadata": {},
   "outputs": [],
   "source": [
    "## Question 4\n",
    "## The string \"Howl's Moving Castle\" is a correct value. \n",
    "## Why isn't the single quote character in the word Howl's not escaped a problem?\n",
    "##"
   ]
  },
  {
   "cell_type": "code",
   "execution_count": 8,
   "id": "1f51809f",
   "metadata": {},
   "outputs": [],
   "source": [
    "## Answer 4\n",
    "## It will be problem when a string is enclose with '' (single quote)\n",
    "##"
   ]
  },
  {
   "cell_type": "code",
   "execution_count": 9,
   "id": "50b7e552",
   "metadata": {},
   "outputs": [],
   "source": [
    "## Question 5\n",
    "## How do you write a string of newlines if you don't want to use the n character?\n",
    "##"
   ]
  },
  {
   "cell_type": "code",
   "execution_count": 10,
   "id": "29041e8d",
   "metadata": {},
   "outputs": [],
   "source": [
    "## Answer 5\n",
    "## we can use os package and os.linesep instead of \\n\n",
    "## for e.g.\n",
    "## import os\n",
    "## sample_str = 'Hello' + os.linesep + 'World'\n",
    "## print(sample_str)\n",
    "##"
   ]
  },
  {
   "cell_type": "code",
   "execution_count": 11,
   "id": "23884d0d",
   "metadata": {},
   "outputs": [],
   "source": [
    "## Question 6\n",
    "##\n",
    "## What are the values of the given expressions?\n",
    "## \"Hello, world!\"[1]\n",
    "## \"Hello, world!\"[0:5]\n",
    "## \"Hello, world!\"[:5]\n",
    "## \"Hello, world!\"[3:]\n",
    "##"
   ]
  },
  {
   "cell_type": "code",
   "execution_count": 12,
   "id": "1e4b5d1b",
   "metadata": {},
   "outputs": [],
   "source": [
    "## Answer 6\n",
    "## \"Hello, world!\"[1] -> o/p: 'e'\n",
    "## \"Hello, world!\"[0:5] -> o/p: 'Hello'\n",
    "## \"Hello, world!\"[:5] -> o/p: 'Hello'\n",
    "## \"Hello, world!\"[3:] -> o/p: 'lo, world!'\n",
    "##"
   ]
  },
  {
   "cell_type": "code",
   "execution_count": 13,
   "id": "bf4fc016",
   "metadata": {},
   "outputs": [],
   "source": [
    "## Question 7\n",
    "## What are the values of the following expressions?\n",
    "## \"Hello\".upper()\n",
    "## \"Hello\".upper().isupper()\n",
    "## \"Hello\".upper().lower()\n",
    "##"
   ]
  },
  {
   "cell_type": "code",
   "execution_count": 14,
   "id": "ca99ee35",
   "metadata": {},
   "outputs": [],
   "source": [
    "## Answer 7\n",
    "## \"Hello\".upper() -> o/p: 'HELLO'\n",
    "## \"Hello\".upper().isupper() -> o/p : True\n",
    "## \"Hello\".upper().lower() -> o/p: 'hello'\n",
    "##"
   ]
  },
  {
   "cell_type": "code",
   "execution_count": 15,
   "id": "686b4730",
   "metadata": {},
   "outputs": [],
   "source": [
    "## Question 8\n",
    "## What are the values of the following expressions?\n",
    "## \"Remember, remember, the fifth of July.\".split()\n",
    "## \"-\".join(\"There can only one.\".split())\n",
    "##"
   ]
  },
  {
   "cell_type": "code",
   "execution_count": 16,
   "id": "459a1bb9",
   "metadata": {},
   "outputs": [],
   "source": [
    "## Answer 8\n",
    "## \"Remember, remember, the fifth of July.\".split() -> o/p: ['Remember,', 'remember,', 'the', 'fifth', 'of', 'July.']\n",
    "## \"-\".join(\"There can only one.\".split()) -> o/p: 'There-can-only-one.'\n",
    "##"
   ]
  },
  {
   "cell_type": "code",
   "execution_count": 17,
   "id": "e7c78471",
   "metadata": {},
   "outputs": [],
   "source": [
    "## Question 9\n",
    "## What are the methods for right-justifying, left-justifying, and centering a string?\n",
    "##"
   ]
  },
  {
   "cell_type": "code",
   "execution_count": 18,
   "id": "e7a9f225",
   "metadata": {},
   "outputs": [],
   "source": [
    "## Answer 9\n",
    "## for left-justifyin , ljust(length, [character])\n",
    "## for right-justfying , rjust(lenght, [character])\n",
    "## for centring , center(length, [character])\n",
    "##"
   ]
  },
  {
   "cell_type": "code",
   "execution_count": 19,
   "id": "250050e2",
   "metadata": {},
   "outputs": [],
   "source": [
    "## Question 10\n",
    "## What is the best way to remove whitespace characters from the start or end?\n",
    "##"
   ]
  },
  {
   "cell_type": "code",
   "execution_count": 20,
   "id": "72fea1b5",
   "metadata": {},
   "outputs": [],
   "source": [
    "## Answer 10\n",
    "## string.strip([character]) method will be use.\n",
    "##"
   ]
  },
  {
   "cell_type": "code",
   "execution_count": null,
   "id": "c78e8417",
   "metadata": {},
   "outputs": [],
   "source": []
  }
 ],
 "metadata": {
  "kernelspec": {
   "display_name": "Python 3 (ipykernel)",
   "language": "python",
   "name": "python3"
  },
  "language_info": {
   "codemirror_mode": {
    "name": "ipython",
    "version": 3
   },
   "file_extension": ".py",
   "mimetype": "text/x-python",
   "name": "python",
   "nbconvert_exporter": "python",
   "pygments_lexer": "ipython3",
   "version": "3.9.7"
  }
 },
 "nbformat": 4,
 "nbformat_minor": 5
}
