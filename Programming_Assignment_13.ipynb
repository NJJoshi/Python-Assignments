{
 "cells": [
  {
   "cell_type": "markdown",
   "id": "b5d457c3",
   "metadata": {},
   "source": [
    "# Question 1\n",
    "#### Write a program that calculates and prints the value according to the given formula:\n",
    "#### Q = Square root of [(2 * C * D)/H]\n",
    "#### Following are the fixed values of C and H:\n",
    "#### C is 50. H is 30.\n",
    "#### D is the variable whose values should be input to your program in a comma-separated sequence.\n",
    "#### Example\n",
    "#### Let us assume the following comma separated input sequence is given to the program:\n",
    "#### 100,150,180\n",
    "#### The output of the program should be:\n",
    "#### 18,22,24"
   ]
  },
  {
   "cell_type": "markdown",
   "id": "369f4254",
   "metadata": {},
   "source": [
    "# Answer 1"
   ]
  },
  {
   "cell_type": "code",
   "execution_count": 6,
   "id": "d508533c",
   "metadata": {},
   "outputs": [
    {
     "name": "stdout",
     "output_type": "stream",
     "text": [
      "Please enter integer elements into comma separated sequence:100,150,180\n",
      "Provided input is: [100, 150, 180]\n",
      "Final result is: [18, 22, 24]\n"
     ]
    }
   ],
   "source": [
    "import math\n",
    "import pyinputplus as pypi\n",
    "\n",
    "\n",
    "def calculate(d):\n",
    "    c = 50\n",
    "    h = 30\n",
    "    result = []\n",
    "    for i in d:\n",
    "        result.append(int(math.sqrt((2 * c * i)/h)))\n",
    "    return result\n",
    "\n",
    "\n",
    "def main():\n",
    "    input_elements = []\n",
    "    input_val = []\n",
    "    elements = input('Please enter integer elements into comma separated sequence:')\n",
    "    input_elements = elements.split(\",\")\n",
    "    try:\n",
    "        for i in input_elements:\n",
    "            input_val.append(int(i))\n",
    "    except ValueError as e:\n",
    "        print('Error occurred while converting input values to integer value')\n",
    "        print('Please provide comma separated integer values only')\n",
    "        return\n",
    "    result = calculate(input_val)\n",
    "    print('Provided input is:', input_val)\n",
    "    print('Final result is:', result)\n",
    "\n",
    "\n",
    "main()"
   ]
  },
  {
   "cell_type": "markdown",
   "id": "c89a4897",
   "metadata": {},
   "source": [
    "# Question 2\n",
    "#### Write a program which takes 2 digits, X,Y as input and generates a 2-dimensional array. The element value in the i-th row and j-th column of the array should be i*j.\n",
    "#### Note: i=0,1.., X-1; j=0,1,¡¬Y-1.\n",
    "#### Example\n",
    "#### Suppose the following inputs are given to the program:\n",
    "#### 3,5\n",
    "#### Then, the output of the program should be:\n",
    "#### [[0, 0, 0, 0, 0], [0, 1, 2, 3, 4], [0, 2, 4, 6, 8]] "
   ]
  },
  {
   "cell_type": "markdown",
   "id": "a4a39f81",
   "metadata": {},
   "source": [
    "# Answer 2"
   ]
  },
  {
   "cell_type": "code",
   "execution_count": 11,
   "id": "4daf7dea",
   "metadata": {},
   "outputs": [
    {
     "name": "stdout",
     "output_type": "stream",
     "text": [
      "Please enter number of row:3\n",
      "Please enter number of col:5\n",
      "Please enter value for col 0:1\n",
      "Please enter value for col 1:2\n",
      "Please enter value for col 2:3\n",
      "Please enter value for col 3:4\n",
      "Please enter value for col 4:5\n",
      "Please enter value for col 0:1\n",
      "Please enter value for col 1:2\n",
      "Please enter value for col 2:3\n",
      "Please enter value for col 3:4\n",
      "Please enter value for col 4:5\n",
      "Please enter value for col 0:1\n",
      "Please enter value for col 1:2\n",
      "Please enter value for col 2:3\n",
      "Please enter value for col 3:4\n",
      "Please enter value for col 4:5\n",
      "Prepared matrix is: [[1, 2, 3, 4, 5], [1, 2, 3, 4, 5], [1, 2, 3, 4, 5]]\n",
      "Final result is: [[0, 0, 0, 0, 0], [1, 2, 3, 4, 5], [2, 4, 6, 8, 10]]\n"
     ]
    }
   ],
   "source": [
    "import pyinputplus as pypi\n",
    "\n",
    "\n",
    "def matrix_preparation(row, col, my_list):\n",
    "    count = 0\n",
    "    result = []\n",
    "    data = []\n",
    "    for i in range(0,row):\n",
    "        data = []\n",
    "        for j in range(0, col):\n",
    "            data.append(count * my_list[i][j])\n",
    "        count += 1 \n",
    "        result.append(data)\n",
    "    return result\n",
    "\n",
    "\n",
    "def main():\n",
    "    row = pypi.inputInt(prompt='Please enter number of row:', default = 0)\n",
    "    col = pypi.inputInt(prompt='Please enter number of col:', default = 0)\n",
    "    input_data = []\n",
    "    input_col = []\n",
    "    for i in range(0,row):\n",
    "        input_col = []\n",
    "        for j in range(0,col):\n",
    "            input_col.append(pypi.inputInt(prompt='Please enter value for col ' + str(j) +':', default = 0))\n",
    "        input_data.append(input_col)\n",
    "    print('Prepared matrix is:' , input_data)\n",
    "    result = matrix_preparation(row, col, input_data)\n",
    "    print('Final result is:', result)\n",
    "  \n",
    "\n",
    "main()"
   ]
  },
  {
   "cell_type": "markdown",
   "id": "5621b799",
   "metadata": {},
   "source": [
    "# Question 3\n",
    "#### Write a program that accepts a comma separated sequence of words as input and prints the words in a comma-separated sequence after sorting them alphabetically.\n",
    "#### Suppose the following input is supplied to the program:\n",
    "#### without,hello,bag,world\n",
    "#### Then, the output should be:\n",
    "#### bag,hello,without,world"
   ]
  },
  {
   "cell_type": "markdown",
   "id": "68d64a1f",
   "metadata": {},
   "source": [
    "# Answer 3"
   ]
  },
  {
   "cell_type": "code",
   "execution_count": 15,
   "id": "71a44c16",
   "metadata": {},
   "outputs": [
    {
     "name": "stdout",
     "output_type": "stream",
     "text": [
      "Please provide comma separated string:hello,bag,world,without\n",
      "Original input: ['bag', 'hello', 'without', 'world']\n",
      "Sorted list: ['bag', 'hello', 'without', 'world']\n"
     ]
    }
   ],
   "source": [
    "def sort_string_data_list(my_list):\n",
    "    my_list.sort()\n",
    "    return my_list\n",
    "\n",
    "\n",
    "def main():\n",
    "    input_str = input('Please provide comma separated string:')\n",
    "    comma_sep_str = input_str.split(\",\")\n",
    "    sorted_str = sort_string_data_list(comma_sep_str)\n",
    "    print('Original input:', comma_sep_str)\n",
    "    print('Sorted list:', sorted_str)\n",
    "\n",
    "    \n",
    "main()"
   ]
  },
  {
   "cell_type": "markdown",
   "id": "ce892c00",
   "metadata": {},
   "source": [
    "# Question 4\n",
    "#### Write a program that accepts a sequence of whitespace separated words as input and prints the words after removing all duplicate words and sorting them alphanumerically.\n",
    "#### Suppose the following input is supplied to the program:\n",
    "#### hello world and practice makes perfect and hello world again\n",
    "#### Then, the output should be:\n",
    "#### again and hello makes perfect practice world"
   ]
  },
  {
   "cell_type": "markdown",
   "id": "ffd3d41b",
   "metadata": {},
   "source": [
    "# Answer 4"
   ]
  },
  {
   "cell_type": "code",
   "execution_count": 17,
   "id": "bf58953c",
   "metadata": {},
   "outputs": [
    {
     "name": "stdout",
     "output_type": "stream",
     "text": [
      "Please enter words separated by white space:hello world and practice makes perfect and hello world again\n",
      "Original data: hello world and practice makes perfect and hello world again\n",
      "Sorted unique word: ['again', 'and', 'hello', 'makes', 'perfect', 'practice', 'world']\n"
     ]
    }
   ],
   "source": [
    "def sort_data_with_unique_elements(my_list):\n",
    "    data = list(set(my_list.split(\" \")))\n",
    "    data.sort()\n",
    "    return data\n",
    "\n",
    "def main():\n",
    "    input_data = input(\"Please enter words separated by white space:\")\n",
    "    result = sort_data_with_unique_elements(input_data)\n",
    "    print('Original data:', input_data)\n",
    "    print('Sorted unique word:', result)\n",
    "    \n",
    "main()"
   ]
  },
  {
   "cell_type": "markdown",
   "id": "957f7a30",
   "metadata": {},
   "source": [
    "# Question 5\n",
    "#### Write a program that accepts a sentence and calculate the number of letters and digits.\n",
    "#### Suppose the following input is supplied to the program:\n",
    "#### hello world! 123\n",
    "#### Then, the output should be:\n",
    "#### LETTERS 10\n",
    "#### DIGITS 3"
   ]
  },
  {
   "cell_type": "markdown",
   "id": "53936c05",
   "metadata": {},
   "source": [
    "# Answer 5"
   ]
  },
  {
   "cell_type": "code",
   "execution_count": 20,
   "id": "de241b9b",
   "metadata": {},
   "outputs": [
    {
     "name": "stdout",
     "output_type": "stream",
     "text": [
      "Please enter a string:Hi Nirav, This is 2022 year\n",
      "Total no of characters: 17\n",
      "Total no of digits: 4\n"
     ]
    }
   ],
   "source": [
    "def count_letters_digits_stmt(my_str):\n",
    "    char_count = 0\n",
    "    digi_count = 0\n",
    "    for i in my_str:\n",
    "        if i.isdecimal():\n",
    "            digi_count += 1\n",
    "        elif i.isalpha():\n",
    "            char_count += 1\n",
    "        \n",
    "    return {'char_count': char_count, 'digit_count': digi_count}\n",
    "\n",
    "def main():\n",
    "    my_str = input('Please enter a string:')\n",
    "    result = count_letters_digits_stmt(my_str)\n",
    "    print('Total no of characters:', result.get('char_count'))\n",
    "    print('Total no of digits:', result.get('digit_count'))\n",
    "\n",
    "main()"
   ]
  },
  {
   "cell_type": "markdown",
   "id": "6afb3394",
   "metadata": {},
   "source": [
    "# Question 6\n",
    "#### A website requires the users to input username and password to register.\n",
    "#### Write a program to check the validity of password input by users.\n",
    "#### Following are the criteria for checking the password:\n",
    "#### 1. At least 1 letter between [a-z]\n",
    "#### 2. At least 1 number between [0-9]\n",
    "#### 1. At least 1 letter between [A-Z]\n",
    "#### 3. At least 1 character from [#@]\n",
    "#### 4. Minimum length of transaction password: 6\n",
    "#### 5. Maximum length of transaction password: 12\n",
    "#### Your program should accept a sequence of comma separated passwords and will check them according to the above criteria. Passwords that match the criteria are to be printed, each separated by a comma.\n",
    "#### Example\n",
    "#### If the following passwords are given as input to the program:\n",
    "#### ABd1234@1,a F1#,2w3E*,2We3345\n",
    "#### Then, the output of the program should be:\n",
    "#### ABd1234@1"
   ]
  },
  {
   "cell_type": "markdown",
   "id": "f1517074",
   "metadata": {},
   "source": [
    "# Answer 6"
   ]
  },
  {
   "cell_type": "code",
   "execution_count": 24,
   "id": "c7399e12",
   "metadata": {},
   "outputs": [
    {
     "name": "stdout",
     "output_type": "stream",
     "text": [
      "Please enter password (comma separated if multiple):ABd1234@1,a F1#,2w3E*,2We3345\n",
      "Valid passwords are: ['ABd1234@1']\n"
     ]
    }
   ],
   "source": [
    "def password_check(passwd):\n",
    "      \n",
    "    SpecialSym =['$', '@', '#']\n",
    "    val = True\n",
    "      \n",
    "    if len(passwd) <= 6:\n",
    "        val = False\n",
    "          \n",
    "    if len(passwd) > 13:\n",
    "        val = False\n",
    "          \n",
    "    if not any(char.isdigit() for char in passwd):\n",
    "        val = False\n",
    "          \n",
    "    if not any(char.isupper() for char in passwd):\n",
    "        val = False\n",
    "          \n",
    "    if not any(char.islower() for char in passwd):\n",
    "        val = False\n",
    "          \n",
    "    if not any(char in SpecialSym for char in passwd):\n",
    "        val = False\n",
    "    if val:\n",
    "        return val\n",
    "\n",
    "    \n",
    "def main():\n",
    "    passwd = input('Please enter password (comma separated if multiple):')\n",
    "    data = passwd.split(\",\")\n",
    "    valid_passwords = []\n",
    "    for element in data:\n",
    "        if (password_check(element)):\n",
    "            valid_passwords.append(element)\n",
    "\n",
    "    print('Valid passwords are:', valid_passwords)\n",
    "    \n",
    "main()"
   ]
  },
  {
   "cell_type": "code",
   "execution_count": null,
   "id": "71c9937a",
   "metadata": {},
   "outputs": [],
   "source": []
  }
 ],
 "metadata": {
  "kernelspec": {
   "display_name": "Python 3 (ipykernel)",
   "language": "python",
   "name": "python3"
  },
  "language_info": {
   "codemirror_mode": {
    "name": "ipython",
    "version": 3
   },
   "file_extension": ".py",
   "mimetype": "text/x-python",
   "name": "python",
   "nbconvert_exporter": "python",
   "pygments_lexer": "ipython3",
   "version": "3.9.7"
  }
 },
 "nbformat": 4,
 "nbformat_minor": 5
}
