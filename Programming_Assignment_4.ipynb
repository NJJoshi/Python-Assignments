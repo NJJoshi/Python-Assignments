{
 "cells": [
  {
   "cell_type": "markdown",
   "id": "260e5415",
   "metadata": {},
   "source": [
    "# Question 1\n",
    "#### Write a Python Program to Find the Factorial of a Number?"
   ]
  },
  {
   "cell_type": "markdown",
   "id": "78a30653",
   "metadata": {},
   "source": [
    "# Answer 1"
   ]
  },
  {
   "cell_type": "code",
   "execution_count": 3,
   "id": "672fbe18",
   "metadata": {},
   "outputs": [
    {
     "name": "stdout",
     "output_type": "stream",
     "text": [
      "Please provide number for which you want to know factorial:5\n",
      "Calculated factorial value is : 120\n"
     ]
    }
   ],
   "source": [
    "def get_factorial(val):\n",
    "    \"\"\"\n",
    "    Function will going to take input argument integer and return a factorial of it\n",
    "    \"\"\"\n",
    "    factorial_value = -1\n",
    "    try:\n",
    "        num = int(val)\n",
    "        if num < 0:\n",
    "            print(\"It's not possible to calculate factorial of negative number. Please provide positive integer number\")\n",
    "            return -1\n",
    "        else:\n",
    "            if num == 0:\n",
    "                return 0\n",
    "            else:\n",
    "                factorial_value = 1\n",
    "                for i in range(1, num + 1):\n",
    "                    factorial_value *= i\n",
    "            return factorial_value\n",
    "    except ValueError as e:\n",
    "        print('Incorrect value has been provided for factorial calculation')\n",
    "        return -1\n",
    "    finally:\n",
    "        return factorial_value\n",
    "\n",
    "def main():\n",
    "    input_val = input('Please provide number for which you want to know factorial:')\n",
    "    print('Calculated factorial value is :', get_factorial(input_val))\n",
    "\n",
    "main()"
   ]
  },
  {
   "cell_type": "markdown",
   "id": "18c71e2f",
   "metadata": {},
   "source": [
    "# Question 2\n",
    "#### Write a Python Program to Display the multiplication Table"
   ]
  },
  {
   "cell_type": "markdown",
   "id": "6d24111d",
   "metadata": {},
   "source": [
    "# Answer 2"
   ]
  },
  {
   "cell_type": "code",
   "execution_count": 4,
   "id": "49f56c4e",
   "metadata": {},
   "outputs": [
    {
     "name": "stdout",
     "output_type": "stream",
     "text": [
      "Please enter valid integer:6\n",
      "6X1=6\n",
      "6X2=12\n",
      "6X3=18\n",
      "6X4=24\n",
      "6X5=30\n",
      "6X6=36\n",
      "6X7=42\n",
      "6X8=48\n",
      "6X9=54\n",
      "6X10=60\n"
     ]
    }
   ],
   "source": [
    "def print_multiplication_table(val):\n",
    "    try:\n",
    "        num = int(val)\n",
    "        for i in range(1, 11):\n",
    "            print(str(num) + 'X' + str(i) + '=' + str(num * i))\n",
    "    except ValueError as e:\n",
    "        print('Error occurre while input value conversion. Please provide valid input value to get multiplication table')\n",
    "\n",
    "def main():\n",
    "    input_val=input('Please enter valid integer:')\n",
    "    print_multiplication_table(input_val)\n",
    "\n",
    "main()"
   ]
  },
  {
   "cell_type": "markdown",
   "id": "4a224afa",
   "metadata": {},
   "source": [
    "# Question 3\n",
    "#### Write a Python Program to Print the Fibonacci sequence."
   ]
  },
  {
   "cell_type": "markdown",
   "id": "2a2c66d7",
   "metadata": {},
   "source": [
    "# Answer 3"
   ]
  },
  {
   "cell_type": "code",
   "execution_count": 8,
   "id": "5bd211dc",
   "metadata": {},
   "outputs": [
    {
     "name": "stdout",
     "output_type": "stream",
     "text": [
      "How many terms :6\n",
      "[0, 1, 1, 2, 3, 5]\n"
     ]
    }
   ],
   "source": [
    "def fibonacci(val):\n",
    "    \"\"\"\n",
    "    Function will accept argument integer value as a terms and till that terms , it will collect fibonacci series numbers\n",
    "    and return a list to caller\n",
    "    \"\"\"\n",
    "    result_value = []\n",
    "    a = 0\n",
    "    b = 1\n",
    "    try:\n",
    "        terms = int(val)\n",
    "        for i in range(0, terms):\n",
    "            result_value.append(a)\n",
    "            a,b = b,a+b\n",
    "        return result_value\n",
    "    except ValueError as e:\n",
    "        print('Error occurred while conversion to integer')\n",
    "        return []\n",
    "\n",
    "def main():\n",
    "    input_term = input('How many terms :')\n",
    "    print(fibonacci(input_term))\n",
    "\n",
    "main()"
   ]
  },
  {
   "cell_type": "markdown",
   "id": "86089c3d",
   "metadata": {},
   "source": [
    "# Question 4\n",
    "#### Write a Python Program to Check Armstrong Number"
   ]
  },
  {
   "cell_type": "markdown",
   "id": "54bb0cef",
   "metadata": {},
   "source": [
    "# Answer 4"
   ]
  },
  {
   "cell_type": "code",
   "execution_count": 10,
   "id": "d5fb49dd",
   "metadata": {},
   "outputs": [
    {
     "name": "stdout",
     "output_type": "stream",
     "text": [
      "Please provide number to check Armstrong or not:154\n",
      "Not Armstrong\n"
     ]
    }
   ],
   "source": [
    "def isArmstrong(val):\n",
    "    try:\n",
    "        num = int(val)\n",
    "        # Changed num variable to string, \n",
    "        # and calculated the length (number of digits)\n",
    "        order = len(str(num))\n",
    "\n",
    "        # initialize sum\n",
    "        sum = 0\n",
    "\n",
    "        # find the sum of the cube of each digit\n",
    "        temp = num\n",
    "        while temp > 0:\n",
    "           digit = temp % 10\n",
    "           sum += digit ** order\n",
    "           temp //= 10\n",
    "\n",
    "        # display the result\n",
    "        return num == sum\n",
    "    except ValueError as e:\n",
    "        print('Incorrect value provided')\n",
    "        return False\n",
    "\n",
    "def main():\n",
    "    input_val = input('Please provide number to check Armstrong or not:')\n",
    "    print('Armstrong' if isArmstrong(input_val) else 'Not Armstrong')\n",
    "\n",
    "main()"
   ]
  },
  {
   "cell_type": "markdown",
   "id": "4b98ff4c",
   "metadata": {},
   "source": [
    "# Question 5\n",
    "#### Write a Python Program to Find Armstrong Number in an Interval"
   ]
  },
  {
   "cell_type": "markdown",
   "id": "bbbce271",
   "metadata": {},
   "source": [
    "# Answer 5"
   ]
  },
  {
   "cell_type": "code",
   "execution_count": 15,
   "id": "751aa9c8",
   "metadata": {},
   "outputs": [
    {
     "name": "stdout",
     "output_type": "stream",
     "text": [
      "Please enter lower bound:1\n",
      "Please enter upper bound:5000\n",
      "Armstrong numbers: [153, 370, 371, 407, 1634]\n"
     ]
    }
   ],
   "source": [
    "def isArmstrong(val):\n",
    "    try:\n",
    "        num = int(val)\n",
    "        # Changed num variable to string, \n",
    "        # and calculated the length (number of digits)\n",
    "        order = len(str(num))\n",
    "\n",
    "        # initialize sum\n",
    "        sum = 0\n",
    "\n",
    "        # find the sum of the cube of each digit\n",
    "        temp = num\n",
    "        while temp > 0:\n",
    "           digit = temp % 10\n",
    "           sum += digit ** order\n",
    "           temp //= 10\n",
    "\n",
    "        # display the result\n",
    "        return num == sum\n",
    "    except ValueError as e:\n",
    "        print('Incorrect value provided')\n",
    "        return False\n",
    "\n",
    "def collect_armstrong_numbers(lower_bound, upper_bound):\n",
    "    result = []\n",
    "    try:\n",
    "        lower = int(lower_bound)\n",
    "        upper = int(upper_bound)\n",
    "        if lower < 0 or upper < 0:\n",
    "            raise Exception(\"Please enter positive value for lower bound and upper bound\")\n",
    "            return []\n",
    "        if lower >= upper:\n",
    "            raise Exception(\"Lower bound and Upper bound neither can't be same nor lower can higher then upper\")\n",
    "            return []\n",
    "        for i in range(lower, upper + 1):\n",
    "            if len(str(i)) > 1 and isArmstrong(i) == True:\n",
    "                result.append(i)\n",
    "        else:\n",
    "            return result\n",
    "    except ValueError as e:\n",
    "        print('Incorrect values has been provided')\n",
    "        return []\n",
    "    \n",
    "def main():\n",
    "    input_lower_bound = input('Please enter lower bound:')\n",
    "    input_upper_bound = input('Please enter upper bound:')\n",
    "    result = collect_armstrong_numbers(input_lower_bound,  input_upper_bound)\n",
    "    print('Armstrong numbers:', result)\n",
    "main()"
   ]
  },
  {
   "cell_type": "markdown",
   "id": "35931d62",
   "metadata": {},
   "source": [
    "# Question 6\n",
    "#### Write a Python Program to Find the Sum of Natural Numbers"
   ]
  },
  {
   "cell_type": "markdown",
   "id": "894cae35",
   "metadata": {},
   "source": [
    "# Answer 6"
   ]
  },
  {
   "cell_type": "code",
   "execution_count": 17,
   "id": "3fe79afe",
   "metadata": {},
   "outputs": [
    {
     "name": "stdout",
     "output_type": "stream",
     "text": [
      "Please provide number:5\n",
      "Sum of Natural Numbers is : 15.0\n"
     ]
    }
   ],
   "source": [
    "def get_sum_of_natural_numbers(val):\n",
    "    try:\n",
    "        num = int(val)\n",
    "        return (num*(num+1))/2\n",
    "    except ValueError as e:\n",
    "        print('Please provide valid number')\n",
    "        return -1\n",
    "\n",
    "def main():\n",
    "    input_num = input('Please provide number:')\n",
    "    print('Sum of Natural Numbers is :', get_sum_of_natural_numbers(input_num))\n",
    "\n",
    "main()"
   ]
  }
 ],
 "metadata": {
  "kernelspec": {
   "display_name": "Python 3 (ipykernel)",
   "language": "python",
   "name": "python3"
  },
  "language_info": {
   "codemirror_mode": {
    "name": "ipython",
    "version": 3
   },
   "file_extension": ".py",
   "mimetype": "text/x-python",
   "name": "python",
   "nbconvert_exporter": "python",
   "pygments_lexer": "ipython3",
   "version": "3.9.7"
  }
 },
 "nbformat": 4,
 "nbformat_minor": 5
}
