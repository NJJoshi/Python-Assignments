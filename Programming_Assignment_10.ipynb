{
 "cells": [
  {
   "cell_type": "markdown",
   "id": "bbd29d2b",
   "metadata": {},
   "source": [
    "# Question 1\n",
    "#### Write a Python program to find sum of elements in list"
   ]
  },
  {
   "cell_type": "markdown",
   "id": "627e3fc9",
   "metadata": {},
   "source": [
    "# Answer 1"
   ]
  },
  {
   "cell_type": "code",
   "execution_count": 2,
   "id": "f5e51a82",
   "metadata": {},
   "outputs": [
    {
     "name": "stdout",
     "output_type": "stream",
     "text": [
      "Enter number of Elements:5\n",
      "11\n",
      "22\n",
      "33\n",
      "44\n",
      "55\n",
      "Provided input list is: [11, 22, 33, 44, 55]\n",
      "Sum of list element is : 165\n"
     ]
    }
   ],
   "source": [
    "def main():\n",
    "    lst = []\n",
    "    n = int(input('Enter number of Elements:'))\n",
    "    for i in range(0, n):\n",
    "        element = int(input())\n",
    "        lst.append(element)\n",
    "    print('Provided input list is:', lst)\n",
    "    print('Sum of list element is :',sum(lst))\n",
    "\n",
    "main()"
   ]
  },
  {
   "cell_type": "markdown",
   "id": "f33fc057",
   "metadata": {},
   "source": [
    "# Question 2\n",
    "#### Write a Python program to  Multiply all numbers in the list"
   ]
  },
  {
   "cell_type": "markdown",
   "id": "69cc1c80",
   "metadata": {},
   "source": [
    "# Answer 2"
   ]
  },
  {
   "cell_type": "code",
   "execution_count": 4,
   "id": "a3bc3122",
   "metadata": {},
   "outputs": [
    {
     "name": "stdout",
     "output_type": "stream",
     "text": [
      "Enter number of Elements:3\n",
      "1\n",
      "2\n",
      "3\n",
      "Provided input list is: [1, 2, 3]\n",
      "Sum of list element is : 6\n"
     ]
    }
   ],
   "source": [
    "def multiply_list(arr):\n",
    "    result = 1\n",
    "    for i in arr:\n",
    "        result *= i\n",
    "    return result\n",
    "\n",
    "def main():\n",
    "    lst = []\n",
    "    n = int(input('Enter number of Elements:'))\n",
    "    for i in range(0, n):\n",
    "        element = int(input())\n",
    "        lst.append(element)\n",
    "    print('Provided input list is:', lst)\n",
    "    print('Sum of list element is :',multiply_list(lst))\n",
    "\n",
    "main()"
   ]
  },
  {
   "cell_type": "markdown",
   "id": "bc4eb223",
   "metadata": {},
   "source": [
    "# Question 3\n",
    "#### Write a Python program to find smallest number in a list"
   ]
  },
  {
   "cell_type": "markdown",
   "id": "b41d4055",
   "metadata": {},
   "source": [
    "# Answer 3"
   ]
  },
  {
   "cell_type": "code",
   "execution_count": 6,
   "id": "ec8ccbdd",
   "metadata": {},
   "outputs": [
    {
     "name": "stdout",
     "output_type": "stream",
     "text": [
      "Enter number of Elements:5\n",
      "5\n",
      "1\n",
      "4\n",
      "2\n",
      "3\n",
      "Provided input list is: [5, 1, 4, 2, 3]\n",
      "Minimum number from list is : 1\n"
     ]
    }
   ],
   "source": [
    "def min_element_from_list(arr):\n",
    "    min = arr[0]\n",
    "    for i in range(0, len(arr)):\n",
    "        if arr[i] < min:\n",
    "            min = arr[i]\n",
    "    return min\n",
    "\n",
    "\n",
    "def main():\n",
    "    lst = []\n",
    "    n = int(input('Enter number of Elements:'))\n",
    "    for i in range(0, n):\n",
    "        element = int(input())\n",
    "        lst.append(element)\n",
    "    print('Provided input list is:', lst)\n",
    "    print('Minimum number from list is :',min_element_from_list(lst))\n",
    "\n",
    "    \n",
    "main()"
   ]
  },
  {
   "cell_type": "markdown",
   "id": "23e39066",
   "metadata": {},
   "source": [
    "# Question 4\n",
    "#### Write a Python program to find largest number in a list"
   ]
  },
  {
   "cell_type": "markdown",
   "id": "c550f00c",
   "metadata": {},
   "source": [
    "# Answer 4"
   ]
  },
  {
   "cell_type": "code",
   "execution_count": 7,
   "id": "5c88c83c",
   "metadata": {},
   "outputs": [
    {
     "name": "stdout",
     "output_type": "stream",
     "text": [
      "Enter number of Elements:5\n",
      "55\n",
      "3\n",
      "60\n",
      "-1\n",
      "2\n",
      "Provided input list is: [55, 3, 60, -1, 2]\n",
      "Maximum number from list is : 60\n"
     ]
    }
   ],
   "source": [
    "def max_element_from_list(arr):\n",
    "    max = arr[0]\n",
    "    for i in range(0, len(arr)):\n",
    "        if arr[i] > max:\n",
    "            max = arr[i]\n",
    "    return max\n",
    "\n",
    "def main():\n",
    "    lst = []\n",
    "    n = int(input('Enter number of Elements:'))\n",
    "    for i in range(0, n):\n",
    "        element = int(input())\n",
    "        lst.append(element)\n",
    "    print('Provided input list is:', lst)\n",
    "    print('Maximum number from list is :',max_element_from_list(lst))\n",
    "\n",
    "main()"
   ]
  },
  {
   "cell_type": "markdown",
   "id": "ebbb645f",
   "metadata": {},
   "source": [
    "# Question 5\n",
    "#### Write a Python program to find second largest number in a list"
   ]
  },
  {
   "cell_type": "markdown",
   "id": "150e63e9",
   "metadata": {},
   "source": [
    "# Answer 5"
   ]
  },
  {
   "cell_type": "code",
   "execution_count": 10,
   "id": "7f90f747",
   "metadata": {},
   "outputs": [
    {
     "name": "stdout",
     "output_type": "stream",
     "text": [
      "Enter number of Elements:5\n",
      "5\n",
      "2\n",
      "3\n",
      "1\n",
      "4\n",
      "Provided input list is: [5, 2, 3, 1, 4]\n",
      "2nd Maximum number from list is : 4\n"
     ]
    }
   ],
   "source": [
    "def main():\n",
    "    lst = []\n",
    "    n = int(input('Enter number of Elements:'))\n",
    "    for i in range(0, n):\n",
    "        element = int(input())\n",
    "        lst.append(element)\n",
    "    print('Provided input list is:', lst)\n",
    "    lst.sort()\n",
    "    lst.reverse()\n",
    "    print('2nd Maximum number from list is :',lst[1])\n",
    "\n",
    "main()"
   ]
  },
  {
   "cell_type": "markdown",
   "id": "83d39f6f",
   "metadata": {},
   "source": [
    "# Question 6\n",
    "#### Write a Python program to find N largest elements from a list"
   ]
  },
  {
   "cell_type": "markdown",
   "id": "167b43ea",
   "metadata": {},
   "source": [
    "# Answer 6"
   ]
  },
  {
   "cell_type": "code",
   "execution_count": 14,
   "id": "d2b6fb4c",
   "metadata": {},
   "outputs": [
    {
     "name": "stdout",
     "output_type": "stream",
     "text": [
      "Enter number of Elements:5\n",
      "Enter value for which maximum level value you want:2\n",
      "55\n",
      "44\n",
      "33\n",
      "22\n",
      "11\n",
      "Provided input list is: [55, 44, 33, 22, 11]\n",
      "2nd Maximum number from list is : 44\n"
     ]
    }
   ],
   "source": [
    "def main():\n",
    "    lst = []\n",
    "    n = int(input('Enter number of Elements:'))\n",
    "    max_n = int(input('Enter value for which maximum level value you want:'))\n",
    "    for i in range(0, n):\n",
    "        element = int(input())\n",
    "        lst.append(element)\n",
    "    print('Provided input list is:', lst)\n",
    "    lst.sort()\n",
    "    lst.reverse()\n",
    "    print('2nd Maximum number from list is :',lst[max_n - 1])\n",
    "\n",
    "main()"
   ]
  },
  {
   "cell_type": "markdown",
   "id": "b6e9bfcd",
   "metadata": {},
   "source": [
    "# Question 7\n",
    "#### Write a Python program to print even numbers in a list"
   ]
  },
  {
   "cell_type": "markdown",
   "id": "2c8c3c5d",
   "metadata": {},
   "source": [
    "# Answer 7"
   ]
  },
  {
   "cell_type": "code",
   "execution_count": 15,
   "id": "2cb8493e",
   "metadata": {},
   "outputs": [
    {
     "name": "stdout",
     "output_type": "stream",
     "text": [
      "Enter number of Elements:5\n",
      "1\n",
      "2\n",
      "3\n",
      "4\n",
      "5\n",
      "Provided input list is: [1, 2, 3, 4, 5]\n",
      "Even number into list: [2, 4]\n"
     ]
    }
   ],
   "source": [
    "def get_even_number(my_list):\n",
    "    even_no = []\n",
    "    for i in my_list:\n",
    "        if i % 2 == 0 :\n",
    "            even_no.append(i)\n",
    "    return even_no\n",
    "\n",
    "def main():\n",
    "    lst = []\n",
    "    n = int(input('Enter number of Elements:'))\n",
    "    for i in range(0, n):\n",
    "        element = int(input())\n",
    "        lst.append(element)\n",
    "    print('Provided input list is:', lst)\n",
    "    print('Even number into list:', get_even_number(lst))\n",
    "\n",
    "main()"
   ]
  },
  {
   "cell_type": "markdown",
   "id": "90367067",
   "metadata": {},
   "source": [
    "# Question 8\n",
    "#### Write a Python program to print odd numbers in a List"
   ]
  },
  {
   "cell_type": "markdown",
   "id": "35737393",
   "metadata": {},
   "source": [
    "# Answer 8"
   ]
  },
  {
   "cell_type": "code",
   "execution_count": 16,
   "id": "1109b7d6",
   "metadata": {},
   "outputs": [
    {
     "name": "stdout",
     "output_type": "stream",
     "text": [
      "Enter number of Elements:5\n",
      "1\n",
      "2\n",
      "3\n",
      "4\n",
      "5\n",
      "Provided input list is: [1, 2, 3, 4, 5]\n",
      "Odd number into list: [1, 3, 5]\n"
     ]
    }
   ],
   "source": [
    "def get_odd_number(my_list):\n",
    "    odd_no = []\n",
    "    for i in my_list:\n",
    "        if i % 2 != 0 :\n",
    "            odd_no.append(i)\n",
    "    return odd_no\n",
    "\n",
    "def main():\n",
    "    lst = []\n",
    "    n = int(input('Enter number of Elements:'))\n",
    "    for i in range(0, n):\n",
    "        element = int(input())\n",
    "        lst.append(element)\n",
    "    print('Provided input list is:', lst)\n",
    "    print('Odd number into list:', get_odd_number(lst))\n",
    "\n",
    "main()"
   ]
  },
  {
   "cell_type": "markdown",
   "id": "6b8e94c1",
   "metadata": {},
   "source": [
    "# Question 9\n",
    "#### Write a Python program to Remove empty List from List"
   ]
  },
  {
   "cell_type": "markdown",
   "id": "c2c3f28a",
   "metadata": {},
   "source": [
    "# Answer 9"
   ]
  },
  {
   "cell_type": "code",
   "execution_count": 17,
   "id": "1ecc27d1",
   "metadata": {},
   "outputs": [
    {
     "name": "stdout",
     "output_type": "stream",
     "text": [
      "The original list is : [5, 6, [], 3, [], [], 9]\n",
      "List after empty list removal : [5, 6, 3, 9]\n"
     ]
    }
   ],
   "source": [
    "def main():\n",
    "    # Initializing list \n",
    "    test_list = [5, 6, [], 3, [], [], 9]\n",
    "\n",
    "    # printing original list \n",
    "    print(\"The original list is : \" + str(test_list))\n",
    "\n",
    "    # Remove empty List from List\n",
    "    # using filter\n",
    "    res = list(filter(None, test_list))\n",
    "\n",
    "    # printing result \n",
    "    print (\"List after empty list removal : \" + str(res))\n",
    "\n",
    "main()"
   ]
  },
  {
   "cell_type": "markdown",
   "id": "0c3ffe3b",
   "metadata": {},
   "source": [
    "# Question 10\n",
    "#### Write a Python program to Cloning or Copying a list"
   ]
  },
  {
   "cell_type": "markdown",
   "id": "ef619203",
   "metadata": {},
   "source": [
    "# Answer 10"
   ]
  },
  {
   "cell_type": "code",
   "execution_count": 19,
   "id": "29a340bb",
   "metadata": {},
   "outputs": [
    {
     "name": "stdout",
     "output_type": "stream",
     "text": [
      "Enter number of Elements:5\n",
      "Nirav\n",
      "Joshi\n",
      "1\n",
      "2\n",
      "3\n",
      "Original input list is: ['Nirav', 'Joshi', '1', '2', '3']\n",
      "Cloned list is: ['Nirav', 'Joshi', '1', '2', '3']\n"
     ]
    }
   ],
   "source": [
    "def cloning(my_lst):\n",
    "    cloned_lst = list(my_lst)\n",
    "    return cloned_lst\n",
    "\n",
    "\n",
    "def main():\n",
    "    lst = []\n",
    "    n = int(input('Enter number of Elements:'))\n",
    "    for i in range(0, n):\n",
    "        element = input()\n",
    "        lst.append(element)\n",
    "    print('Original input list is:', lst) \n",
    "    print('Cloned list is:', cloning(lst))\n",
    "\n",
    "main()"
   ]
  },
  {
   "cell_type": "markdown",
   "id": "59073e8e",
   "metadata": {},
   "source": [
    "# Question 11\n",
    "#### Write a Python program to Count occurrences of an element in a list"
   ]
  },
  {
   "cell_type": "markdown",
   "id": "4a01f575",
   "metadata": {},
   "source": [
    "# Answer 11"
   ]
  },
  {
   "cell_type": "code",
   "execution_count": 22,
   "id": "48be3bcc",
   "metadata": {},
   "outputs": [
    {
     "name": "stdout",
     "output_type": "stream",
     "text": [
      "Enter number of Elements:5\n",
      "Nirav\n",
      "Joshi\n",
      "1\n",
      "2\n",
      "Joshi\n",
      "Please enter value which you want to find it's occurance: Joshi\n",
      "Original provided list is: ['Nirav', 'Joshi', '1', '2', 'Joshi']\n",
      "\" Joshi \" is there into list  2  times\n"
     ]
    }
   ],
   "source": [
    "def occurance_count(my_lst, element):\n",
    "    return my_lst.count(element)\n",
    "\n",
    "def main():\n",
    "    lst = []\n",
    "    n = int(input('Enter number of Elements:'))\n",
    "    for i in range(0, n):\n",
    "        element = input()\n",
    "        lst.append(element)\n",
    "    find_occurance_element = input(\"Please enter value which you want to find it's occurance: \")\n",
    "    print('Original provided list is:', lst)\n",
    "    print('\"',find_occurance_element, '\" is there into list ', occurance_count(lst,find_occurance_element),' times')\n",
    "\n",
    "main()"
   ]
  }
 ],
 "metadata": {
  "kernelspec": {
   "display_name": "Python 3 (ipykernel)",
   "language": "python",
   "name": "python3"
  },
  "language_info": {
   "codemirror_mode": {
    "name": "ipython",
    "version": 3
   },
   "file_extension": ".py",
   "mimetype": "text/x-python",
   "name": "python",
   "nbconvert_exporter": "python",
   "pygments_lexer": "ipython3",
   "version": "3.9.7"
  }
 },
 "nbformat": 4,
 "nbformat_minor": 5
}
