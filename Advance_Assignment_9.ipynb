{
 "cells": [
  {
   "cell_type": "markdown",
   "id": "c8167fd4",
   "metadata": {},
   "source": [
    "# Question 1\n",
    "#### In Python 3.X, what are the names and functions of string object types?"
   ]
  },
  {
   "cell_type": "markdown",
   "id": "b013ace4",
   "metadata": {},
   "source": [
    "# Answer 1\n",
    "#### Functions which returns string object are \n",
    "    - center(width, fillchar)\n",
    "    - decode(encoding='UTF-8', errors='strict')\n",
    "    - encode(decoding='UTF-8', errors='strict')\n",
    "    - title()\n",
    "    - zfill(width)\n",
    "#### Some constant variables which are of string object type are\n",
    "    -string.ascii_letters\n",
    "    -string.ascii_lowercase\n",
    "    -string.digits\n",
    "    -string.hexdigits"
   ]
  },
  {
   "cell_type": "markdown",
   "id": "9b923aaf",
   "metadata": {},
   "source": [
    "# Question 2\n",
    "#### How do the string forms in Python 3.X vary in terms of operations?"
   ]
  },
  {
   "cell_type": "markdown",
   "id": "415d4734",
   "metadata": {},
   "source": [
    "# Answer 2\n",
    "#### Following operations are added into Python 3.x\n",
    "#### 1. Custom Formatter\n",
    "#### 2. Speparate string.Formatter class has been introduced\n",
    "#### 3. '_' has been introduced to provide better readability for floating and integer numbers\n",
    "#### 4. Preceding the width field by '0' no longer affects the default alignment for strings."
   ]
  },
  {
   "cell_type": "markdown",
   "id": "eb241191",
   "metadata": {},
   "source": [
    "# Question 3\n",
    "#### In 3.X, how do you put non-ASCII Unicode characters in a string?"
   ]
  },
  {
   "cell_type": "markdown",
   "id": "06a9d375",
   "metadata": {},
   "source": [
    "# Answer 3\n",
    "#### we can write like mentioned below.\n",
    "    unicode_str = u\"hello aåbäcö\""
   ]
  },
  {
   "cell_type": "markdown",
   "id": "8a28e07f",
   "metadata": {},
   "source": [
    "# Question 4\n",
    "#### In Python 3.X, what are the key differences between text-mode and binary-mode files?"
   ]
  },
  {
   "cell_type": "markdown",
   "id": "940a0930",
   "metadata": {},
   "source": [
    "# Answer 4\n",
    "#### Differences are shown as below\n",
    "- In Text file, Bits represent character\n",
    "- In Binary file, Bit represent custom data\n",
    "- For Text file, Less prone to get corrupt as changes reflect as soon as the file is opened and can easily be undone.\n",
    "- For Binary file, Can easily get corrupted, even a single bit change may corrupt the file.\n",
    "- For Text File, It Can store only plain text in a file.\n",
    "- For Binary file, Can store different types of data (image, audio, text) in a single file.\n",
    "- Text file can be open with text editor.\n",
    "- Binary file can be opened with specific application design to read specific Binary files.\n",
    "- For Text file, .txt & .rtf extension can be use\n",
    "- For Binary file, It can have any applicatoin defined extension.\n"
   ]
  },
  {
   "cell_type": "markdown",
   "id": "44db96e2",
   "metadata": {},
   "source": [
    "# Question 5\n",
    "#### How can you interpret a Unicode text file containing text encoded in a different encoding than your platform's default?"
   ]
  },
  {
   "cell_type": "markdown",
   "id": "71df15c5",
   "metadata": {},
   "source": [
    "# Answer 5\n",
    "#### we can open that file by mentioning whichever encoding that file has by specifiying encoded value show as below\n",
    "    f = open('test.txt', encoding='latin-1')"
   ]
  },
  {
   "cell_type": "markdown",
   "id": "aefa546f",
   "metadata": {},
   "source": [
    "# Question 6\n",
    "#### What is the best way to make a Unicode text file in a particular encoding format?"
   ]
  },
  {
   "cell_type": "markdown",
   "id": "f8c02d5b",
   "metadata": {},
   "source": [
    "# Answer 6\n",
    "#### we can do as per shown into below mentioned sample\n",
    "    f = open('test.txt', encoding='utf-8')"
   ]
  },
  {
   "cell_type": "markdown",
   "id": "483e59df",
   "metadata": {},
   "source": [
    "# Question 7\n",
    "#### What qualifies ASCII text as a form of Unicode text?"
   ]
  },
  {
   "cell_type": "markdown",
   "id": "248de6d0",
   "metadata": {},
   "source": [
    "# Answer 7\n",
    "#### For backward compatibility, the first 128 Unicode code points represent the equivalent ASCII characters. Since UTF-8 encodes each of these characters with a single byte, any ASCII text is also a UTF-8 text. Unicode is a superset of ASCII."
   ]
  },
  {
   "cell_type": "markdown",
   "id": "501ab784",
   "metadata": {},
   "source": [
    "# Question 8\n",
    "#### How much of an effect does the change in string types in Python 3.X have on your code?"
   ]
  },
  {
   "cell_type": "markdown",
   "id": "811a7c22",
   "metadata": {},
   "source": [
    "# Answer 8\n",
    "#### Except formatting of string, It will not impact much of string type if we migrate from python 2.x to python 3.x"
   ]
  }
 ],
 "metadata": {
  "kernelspec": {
   "display_name": "Python 3 (ipykernel)",
   "language": "python",
   "name": "python3"
  },
  "language_info": {
   "codemirror_mode": {
    "name": "ipython",
    "version": 3
   },
   "file_extension": ".py",
   "mimetype": "text/x-python",
   "name": "python",
   "nbconvert_exporter": "python",
   "pygments_lexer": "ipython3",
   "version": "3.9.7"
  }
 },
 "nbformat": 4,
 "nbformat_minor": 5
}
