{
 "cells": [
  {
   "cell_type": "markdown",
   "id": "2f41671b",
   "metadata": {},
   "source": [
    "# Question 1\n",
    "#### What does RGBA stand for?"
   ]
  },
  {
   "cell_type": "markdown",
   "id": "cf7a695d",
   "metadata": {},
   "source": [
    "# Answer 1\n",
    "#### It stands for Red Green Blue Alpha."
   ]
  },
  {
   "cell_type": "markdown",
   "id": "250d859b",
   "metadata": {},
   "source": [
    "# Question 2\n",
    "#### From the Pillow module, how do you get the RGBA value of any images?"
   ]
  },
  {
   "cell_type": "markdown",
   "id": "bc2f3de0",
   "metadata": {},
   "source": [
    "# Answer 2\n",
    "#### we can get it which is demonstrated as below:\n",
    "    from PIL import image\n",
    "    img = Image.open('sample.png')\n",
    "    rgba = img.convert(\"RGBA\")\n",
    "    data = rgba.getdata()"
   ]
  },
  {
   "cell_type": "markdown",
   "id": "07c671b0",
   "metadata": {},
   "source": [
    "# Question 3\n",
    "####  What is a box tuple, and how does it work?"
   ]
  },
  {
   "cell_type": "markdown",
   "id": "c682fb01",
   "metadata": {},
   "source": [
    "# Answer 3\n",
    "#### Many of Pillow’s functions and methods take a box tuple argument. This means Pillow is expecting a tuple of four integer coordinates that represent a rectangular region in an image. The four integers are, in order, as follows:\n",
    "#### Left: The x-coordinate of the leftmost edge of the box.\n",
    "#### Top: The y-coordinate of the top of edge\n",
    "#### Right: The x-coordinate of one pixel to the right of the rightmost edge of the box. This integer must be greater than the left integer.\n",
    "#### Bottom: The y-coordinate of one pixel lower than the bottom edge of the box. This integer must be greater than the top integer.\n",
    "#### so it will start with drawing pixel from left top and goes uptil right,bottom"
   ]
  },
  {
   "cell_type": "markdown",
   "id": "b0e9889c",
   "metadata": {},
   "source": [
    "# Question 4\n",
    "#### Use your image and load in notebook then, How can you find out the width and height of an Image object?"
   ]
  },
  {
   "cell_type": "markdown",
   "id": "012c0439",
   "metadata": {},
   "source": [
    "# Answer 4\n",
    "#### we can find out by following way\n",
    "    from PIL import Image\n",
    "    my_img = Image.open('my_pic.png')\n",
    "    widht,height = my_img.size\n",
    "#### width will be showing 'width' of image 'my_pic.png' and height will be showing 'height' of image 'my_pic.png'"
   ]
  },
  {
   "cell_type": "markdown",
   "id": "35d3e221",
   "metadata": {},
   "source": [
    "# Question 5\n",
    "#### What method would you call to get Image object for a 100×100 image, excluding the lower-left quarter of it?"
   ]
  },
  {
   "cell_type": "markdown",
   "id": "cda24cc6",
   "metadata": {},
   "source": [
    "# Answer 5\n",
    "#### we will create it as follow:\n",
    "    from PIL import Image\n",
    "    my_img_100_by_100 = Image.new('RGBA', (100,100))\n",
    "    my_img_100_by_100.save('my_img_100_x_100.png')"
   ]
  },
  {
   "cell_type": "markdown",
   "id": "325b8da5",
   "metadata": {},
   "source": [
    "# Question 6\n",
    "#### After making changes to an Image object, how could you save it as an image file?"
   ]
  },
  {
   "cell_type": "markdown",
   "id": "d9682a38",
   "metadata": {},
   "source": [
    "# Answer 6\n",
    "#### we can do it by calling 'save()' function on that image object on which we had performed modification operation."
   ]
  },
  {
   "cell_type": "markdown",
   "id": "8e87f939",
   "metadata": {},
   "source": [
    "# Question 7\n",
    "#### What module contains Pillow’s shape-drawing code?"
   ]
  },
  {
   "cell_type": "markdown",
   "id": "782d311e",
   "metadata": {},
   "source": [
    "# Answer 7\n",
    "#### ImageDraw module contains methods which enable to draw different shapes"
   ]
  },
  {
   "cell_type": "markdown",
   "id": "dabf5a9c",
   "metadata": {},
   "source": [
    "# Question 8\n",
    "#### Image objects do not have drawing methods. What kind of object does? How do you get this kind of object?"
   ]
  },
  {
   "cell_type": "markdown",
   "id": "2054a349",
   "metadata": {},
   "source": [
    "# Answer 8\n",
    "#### ImageDraw object does has a capability of drawing methods.\n",
    "#### we can get one by following way:\n",
    "    from PIL import Image, ImageDraw\n",
    "    im = image.new('RGBA',(200,200))\n",
    "    draw = ImageDraw.Draw(im)\n",
    "#### from above code, if we want to draw a line then:\n",
    "    draw.line([(0, 0), (199, 0), (199, 199), (0, 199), (0, 0)], fill='white')\n",
    "#### if wa want to draw a rectangle then:\n",
    "    draw.rectangle((20, 30, 60, 60), fill='white')"
   ]
  }
 ],
 "metadata": {
  "kernelspec": {
   "display_name": "Python 3 (ipykernel)",
   "language": "python",
   "name": "python3"
  },
  "language_info": {
   "codemirror_mode": {
    "name": "ipython",
    "version": 3
   },
   "file_extension": ".py",
   "mimetype": "text/x-python",
   "name": "python",
   "nbconvert_exporter": "python",
   "pygments_lexer": "ipython3",
   "version": "3.9.7"
  }
 },
 "nbformat": 4,
 "nbformat_minor": 5
}
