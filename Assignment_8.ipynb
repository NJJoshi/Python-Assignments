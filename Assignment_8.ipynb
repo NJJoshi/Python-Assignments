{
 "cells": [
  {
   "cell_type": "code",
   "execution_count": 1,
   "id": "8aba52b3",
   "metadata": {},
   "outputs": [],
   "source": [
    "## Question 1\n",
    "## Is the Python Standard Library included with PyInputPlus?\n",
    "## "
   ]
  },
  {
   "cell_type": "code",
   "execution_count": 2,
   "id": "9b43c7aa",
   "metadata": {},
   "outputs": [],
   "source": [
    "## Answer 1\n",
    "## No. PyInputPlus module is not part of Python Standard library.\n",
    "##"
   ]
  },
  {
   "cell_type": "code",
   "execution_count": 3,
   "id": "1ab74e2e",
   "metadata": {},
   "outputs": [],
   "source": [
    "## Question 2\n",
    "## Why is PyInputPlus commonly imported with import pyinputplus as pypi?\n",
    "##"
   ]
  },
  {
   "cell_type": "code",
   "execution_count": 4,
   "id": "b4c92198",
   "metadata": {},
   "outputs": [],
   "source": [
    "## Answer 2\n",
    "## It's because we can access it with shorter name 'pypi' compare to 'PyInputPlus' long name.\n",
    "##"
   ]
  },
  {
   "cell_type": "code",
   "execution_count": 5,
   "id": "dc6fa187",
   "metadata": {},
   "outputs": [],
   "source": [
    "## Question 3\n",
    "## How do you distinguish between inputInt() and inputFloat()?\n",
    "##"
   ]
  },
  {
   "cell_type": "code",
   "execution_count": 6,
   "id": "ab39f137",
   "metadata": {},
   "outputs": [],
   "source": [
    "## Answer 3\n",
    "## The inputInt() function returns an integer, while the inputFloat() function returns a float value.\n",
    "##"
   ]
  },
  {
   "cell_type": "code",
   "execution_count": 7,
   "id": "501ad81b",
   "metadata": {},
   "outputs": [],
   "source": [
    "## Question 4\n",
    "## Using PyInputPlus, how do you ensure that the user enters a whole number between 0 and 99?\n",
    "##"
   ]
  },
  {
   "cell_type": "code",
   "execution_count": 8,
   "id": "7c852b55",
   "metadata": {},
   "outputs": [],
   "source": [
    "## Answer 4\n",
    "## pyin.inputNum(\"Enter int or float value between 20 to 40: \", min=0, lessThan = 100)\n",
    "##"
   ]
  },
  {
   "cell_type": "code",
   "execution_count": 9,
   "id": "3290971c",
   "metadata": {},
   "outputs": [],
   "source": [
    "## Question 5\n",
    "## What is transferred to the keyword arguments allowRegexes and blockRegexes?\n",
    "##"
   ]
  },
  {
   "cell_type": "code",
   "execution_count": 10,
   "id": "c8e8d352",
   "metadata": {},
   "outputs": [],
   "source": [
    "## Answer 5\n",
    "## inputs that match the regex in blockRegexes will be blocked to pass\n",
    "## only inputs that match the regex in allowRegexes will pass validation\n",
    "##"
   ]
  },
  {
   "cell_type": "code",
   "execution_count": 11,
   "id": "06787fa9",
   "metadata": {},
   "outputs": [],
   "source": [
    "## Question 6\n",
    "## If a blank input is entered three times, what does inputStr(limit=3) do?\n",
    "##"
   ]
  },
  {
   "cell_type": "code",
   "execution_count": 12,
   "id": "ee1066bb",
   "metadata": {},
   "outputs": [],
   "source": [
    "## Answer 6\n",
    "## It will result into Exceptions ValidationException (value is blank but blanks aren't allowed.) and RetryLimitException.\n",
    "##"
   ]
  },
  {
   "cell_type": "code",
   "execution_count": 13,
   "id": "21700007",
   "metadata": {},
   "outputs": [],
   "source": [
    "## Question 7\n",
    "## If blank input is entered three times, what does inputStr(limit=3, default='hello') do\n",
    "##"
   ]
  },
  {
   "cell_type": "code",
   "execution_count": 14,
   "id": "482ec203",
   "metadata": {},
   "outputs": [],
   "source": [
    "## Answer 7\n",
    "## It will result with\n",
    "## Blank values are not allowed with default value 'hello'\n",
    "##"
   ]
  },
  {
   "cell_type": "code",
   "execution_count": null,
   "id": "6424d1e1",
   "metadata": {},
   "outputs": [],
   "source": []
  }
 ],
 "metadata": {
  "kernelspec": {
   "display_name": "Python 3 (ipykernel)",
   "language": "python",
   "name": "python3"
  },
  "language_info": {
   "codemirror_mode": {
    "name": "ipython",
    "version": 3
   },
   "file_extension": ".py",
   "mimetype": "text/x-python",
   "name": "python",
   "nbconvert_exporter": "python",
   "pygments_lexer": "ipython3",
   "version": "3.9.7"
  }
 },
 "nbformat": 4,
 "nbformat_minor": 5
}
