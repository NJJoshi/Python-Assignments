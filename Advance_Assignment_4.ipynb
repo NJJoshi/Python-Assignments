{
 "cells": [
  {
   "cell_type": "markdown",
   "id": "cd47bdae",
   "metadata": {},
   "source": [
    "# Question 1\n",
    "#### Which two operator overloading methods can you use in your classes to support iteration?"
   ]
  },
  {
   "cell_type": "markdown",
   "id": "b0f072d8",
   "metadata": {},
   "source": [
    "# Answer 1\n",
    "#### 'def __iter__(self)' and 'def __next__(self)' method we can use to support iteration into our class."
   ]
  },
  {
   "cell_type": "markdown",
   "id": "b7bb5c51",
   "metadata": {},
   "source": [
    "# Question 2\n",
    "#### In what contexts do the two operator overloading methods manage printing ?"
   ]
  },
  {
   "cell_type": "markdown",
   "id": "787fd29d",
   "metadata": {},
   "source": [
    "# Answer 2\n",
    "    'def __str__(self)' \n",
    "    'def __repr__(self)' \n",
    "#### manage printing. Overloading of these methods will also enable us to do customise priting.\n",
    "#### The str() built-in is used to cast an instance of a class to a str object, or more appropriately, to obtain a user-friendly string representation of the object which can be read by a normal user rather than the programmer. \n",
    "#### The repr() built-in is used to obtain the parsable string representation of an object. If an object is parsable, that means that Python should be able to recreate the object from the representation when repr is used in conjunction with functions like eval(). To define the behavior of repr(), you can use the __repr__() special method."
   ]
  },
  {
   "cell_type": "markdown",
   "id": "a317e9d8",
   "metadata": {},
   "source": [
    "# Question 3\n",
    "#### In a class, how do you intercept slice operations?"
   ]
  },
  {
   "cell_type": "markdown",
   "id": "bc1296ba",
   "metadata": {},
   "source": [
    "# Answer 3\n",
    "#### It can be intercept by overloading method shown as below:\n",
    "\n",
    "    def __getitem__(self, key):\n",
    "\n",
    "        print(key)\n",
    "          \n",
    "        return key"
   ]
  },
  {
   "cell_type": "markdown",
   "id": "bdd1eb18",
   "metadata": {},
   "source": [
    "# Question 4\n",
    "#### In a class, how do you capture in-place addition?"
   ]
  },
  {
   "cell_type": "markdown",
   "id": "da8a1a5a",
   "metadata": {},
   "source": [
    "# Answer 4\n",
    "#### we can capture it by overloading below mentioned method\n",
    "    def __add__(self,other):\n",
    "        pass"
   ]
  },
  {
   "cell_type": "markdown",
   "id": "f9ef8704",
   "metadata": {},
   "source": [
    "# Question 5\n",
    "#### When is it appropriate to use operator overloading?"
   ]
  },
  {
   "cell_type": "markdown",
   "id": "33b4fee6",
   "metadata": {},
   "source": [
    "# Answer 5\n",
    "#### Operator overloading is mostly useful when you're making a new class that falls into an existing \"Abstract Base Class\" (ABC).\n",
    "#### For example, a Container class must override special method\n",
    "    __contains__\n",
    "#### Similarly, a Hashable must override\n",
    "    __hash__\n",
    "#### a Sized must override \n",
    "    __len__\n",
    "#### a Sequence or a Mapping must override \n",
    "    __getitem__"
   ]
  }
 ],
 "metadata": {
  "kernelspec": {
   "display_name": "Python 3 (ipykernel)",
   "language": "python",
   "name": "python3"
  },
  "language_info": {
   "codemirror_mode": {
    "name": "ipython",
    "version": 3
   },
   "file_extension": ".py",
   "mimetype": "text/x-python",
   "name": "python",
   "nbconvert_exporter": "python",
   "pygments_lexer": "ipython3",
   "version": "3.9.7"
  }
 },
 "nbformat": 4,
 "nbformat_minor": 5
}
