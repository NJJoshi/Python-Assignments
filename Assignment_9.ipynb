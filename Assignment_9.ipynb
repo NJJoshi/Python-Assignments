{
 "cells": [
  {
   "cell_type": "code",
   "execution_count": 1,
   "id": "dc13fc13",
   "metadata": {},
   "outputs": [],
   "source": [
    "## Question 1\n",
    "## To what does a relative path refer?\n",
    "##"
   ]
  },
  {
   "cell_type": "code",
   "execution_count": 2,
   "id": "6b0cb607",
   "metadata": {},
   "outputs": [],
   "source": [
    "## Answer 1\n",
    "## Relative path will refer to not a exact location where we mentioned drive or folder path but we will going to mentioned path \n",
    "## with respect to currently running program.\n",
    "##"
   ]
  },
  {
   "cell_type": "code",
   "execution_count": 3,
   "id": "5086eccf",
   "metadata": {},
   "outputs": [],
   "source": [
    "## Question 2\n",
    "## What does an absolute path start with your operating system?\n",
    "##"
   ]
  },
  {
   "cell_type": "code",
   "execution_count": 4,
   "id": "2339d8f1",
   "metadata": {},
   "outputs": [],
   "source": [
    "## Answer 2\n",
    "## Absolute path will be a exact location which include root drive or folder name into path declaration.\n",
    "## for example, /home/root/abc in non-windows and C:\\Users\\abc\\Documents into windows based system.\n",
    "##"
   ]
  },
  {
   "cell_type": "code",
   "execution_count": 5,
   "id": "11f56759",
   "metadata": {},
   "outputs": [],
   "source": [
    "## Question 3\n",
    "## What do the functions os.getcwd() and os.chdir() do?\n",
    "##"
   ]
  },
  {
   "cell_type": "code",
   "execution_count": 6,
   "id": "58d116e7",
   "metadata": {},
   "outputs": [],
   "source": [
    "## Answer 3\n",
    "## os.getcwd() - It will show present working directory where our program is running.\n",
    "## os.chdir() - Change the current working directory to the specified 'path' argument.\n",
    "##"
   ]
  },
  {
   "cell_type": "code",
   "execution_count": 7,
   "id": "6de392b3",
   "metadata": {},
   "outputs": [],
   "source": [
    "## Question 4\n",
    "## What are the . and .. folders?\n",
    "##"
   ]
  },
  {
   "cell_type": "code",
   "execution_count": 8,
   "id": "55b9cbb2",
   "metadata": {},
   "outputs": [],
   "source": [
    "## Answer 4\n",
    "## . will present current directory path\n",
    "## .. will present parent directory path\n",
    "##"
   ]
  },
  {
   "cell_type": "code",
   "execution_count": 9,
   "id": "902d64e9",
   "metadata": {},
   "outputs": [],
   "source": [
    "## Question 5\n",
    "## In C:\\bacon\\eggs\\spam.txt, which part is the dir name, and which part is the base name?\n",
    "##"
   ]
  },
  {
   "cell_type": "code",
   "execution_count": 10,
   "id": "918fc707",
   "metadata": {},
   "outputs": [],
   "source": [
    "## Answer 5\n",
    "## Dir name are bacon and eggs\n",
    "## base name is C:\\\n",
    "##"
   ]
  },
  {
   "cell_type": "code",
   "execution_count": 11,
   "id": "619ac6d3",
   "metadata": {},
   "outputs": [],
   "source": [
    "## Question 6\n",
    "## What are the three “mode” arguments that can be passed to the open() function?\n",
    "##"
   ]
  },
  {
   "cell_type": "code",
   "execution_count": 12,
   "id": "39700676",
   "metadata": {},
   "outputs": [],
   "source": [
    "## Answer 6\n",
    "## we can pass below mentioned three different modes for open function as an mode argument value\n",
    "##\n",
    "## \"r\" - Read - Default value. Opens a file for reading, error if the file does not exist\n",
    "## \"a\" - Append - Opens a file for appending, creates the file if it does not exist\n",
    "## \"w\" - Write - Opens a file for writing, creates the file if it does not exist\n",
    "##"
   ]
  },
  {
   "cell_type": "code",
   "execution_count": 13,
   "id": "95fab80b",
   "metadata": {},
   "outputs": [],
   "source": [
    "## Question 7\n",
    "## What happens if an existing file is opened in write mode?\n",
    "##"
   ]
  },
  {
   "cell_type": "code",
   "execution_count": 14,
   "id": "ecb93900",
   "metadata": {},
   "outputs": [],
   "source": [
    "## Answer 7\n",
    "## It will truncate entire file content and start writing from position 0.\n",
    "##"
   ]
  },
  {
   "cell_type": "code",
   "execution_count": 15,
   "id": "2f258f9a",
   "metadata": {},
   "outputs": [],
   "source": [
    "## Question 8\n",
    "## How do you tell the difference between read() and readlines()?\n",
    "##"
   ]
  },
  {
   "cell_type": "code",
   "execution_count": 16,
   "id": "be02af93",
   "metadata": {},
   "outputs": [],
   "source": [
    "## Answer 8\n",
    "## read() will read entire file content\n",
    "## readline() will read till it will find new line separator.\n",
    "##"
   ]
  },
  {
   "cell_type": "code",
   "execution_count": 17,
   "id": "23e25015",
   "metadata": {},
   "outputs": [],
   "source": [
    "## Question 9\n",
    "## What data structure does a shelf value resemble?\n",
    "##"
   ]
  },
  {
   "cell_type": "code",
   "execution_count": null,
   "id": "46f7aea0",
   "metadata": {},
   "outputs": [],
   "source": [
    "## Answer 9\n",
    "## There is a shelve module in python\n",
    "## Using shelve.open(<file-name>) which will create a file to persist data and retrieve as mentioned below\n",
    "## with shelve.open('mydata') as db:\n",
    "##    data = db['cat']\n",
    "##    print(data)\n",
    "##"
   ]
  }
 ],
 "metadata": {
  "kernelspec": {
   "display_name": "Python 3 (ipykernel)",
   "language": "python",
   "name": "python3"
  },
  "language_info": {
   "codemirror_mode": {
    "name": "ipython",
    "version": 3
   },
   "file_extension": ".py",
   "mimetype": "text/x-python",
   "name": "python",
   "nbconvert_exporter": "python",
   "pygments_lexer": "ipython3",
   "version": "3.9.7"
  }
 },
 "nbformat": 4,
 "nbformat_minor": 5
}
