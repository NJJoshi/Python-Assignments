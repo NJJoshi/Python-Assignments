{
 "cells": [
  {
   "cell_type": "code",
   "execution_count": 3,
   "id": "2db195eb",
   "metadata": {},
   "outputs": [],
   "source": [
    "## Question 1\n",
    "##\n",
    "## What are the two values of the Boolean data type? How do you write them?\n",
    "##"
   ]
  },
  {
   "cell_type": "code",
   "execution_count": 4,
   "id": "91dd063a",
   "metadata": {},
   "outputs": [],
   "source": [
    "## Answer 1\n",
    "##\n",
    "## Two different values of Boolean data type are \"True\" and \"False\".\n",
    "## We write them as \"True\" to represent true and \"False\" to represent false\n",
    "##"
   ]
  },
  {
   "cell_type": "code",
   "execution_count": 5,
   "id": "66a2b579",
   "metadata": {},
   "outputs": [],
   "source": [
    "## Question 2\n",
    "##\n",
    "## What are the three different types of Boolean operators?\n",
    "##"
   ]
  },
  {
   "cell_type": "code",
   "execution_count": 6,
   "id": "5deeb574",
   "metadata": {},
   "outputs": [],
   "source": [
    "## Answer 2\n",
    "##\n",
    "## AND (&), OR (|) and NOT (!) are 3 different type of boolean operators which produces boolean as an output\n",
    "##"
   ]
  },
  {
   "cell_type": "code",
   "execution_count": 8,
   "id": "fbb155ef",
   "metadata": {},
   "outputs": [],
   "source": [
    "## Question 3\n",
    "##\n",
    "## Make a list of each Boolean operator's truth tables (i.e. every possible combination of Boolean values for the operator and what it evaluate )."
   ]
  },
  {
   "cell_type": "code",
   "execution_count": 7,
   "id": "4aa57603",
   "metadata": {},
   "outputs": [],
   "source": [
    "## Answer 3\n",
    "##\n",
    "##   condition 1            condition 2              NOT X            X AND Y           X OR Y\n",
    "##    (e.g., X)             (e.g., Y)                ( ~ X )         ( X && Y )       ( X || Y )\n",
    "##     false                 false                   true             false              false\n",
    "##     false                 true                    true             false              true\n",
    "##     true                  false                   false            false              true\n",
    "##     true                  true                    false            true               true"
   ]
  },
  {
   "cell_type": "code",
   "execution_count": 9,
   "id": "81673fff",
   "metadata": {},
   "outputs": [],
   "source": [
    "## Question 4\n",
    "##\n",
    "## What are the values of the following expressions?\n",
    "## (5 > 4) and (3 == 5)\n",
    "## not (5 > 4)\n",
    "## (5 > 4) or (3 == 5)\n",
    "## not ((5 > 4) or (3 == 5))\n",
    "## (True and True) and (True == False)\n",
    "## (not False) or (not True)\n",
    "##"
   ]
  },
  {
   "cell_type": "code",
   "execution_count": 10,
   "id": "d019cc7a",
   "metadata": {},
   "outputs": [],
   "source": [
    "## Answer 4\n",
    "##\n",
    "## (5 > 4) and (3 == 5)               -> False\n",
    "## not (5 > 4)                        -> False\n",
    "## (5 > 4) or (3 == 5)                -> True\n",
    "## not ((5 > 4) or (3 == 5))          -> False\n",
    "## (True and True) and (True == False)-> False\n",
    "## (not False) or (not True)          -> True\n",
    "##"
   ]
  },
  {
   "cell_type": "code",
   "execution_count": 20,
   "id": "98e3e433",
   "metadata": {},
   "outputs": [],
   "source": [
    "## Question 5\n",
    "##\n",
    "## What are the six comparison operators ?\n",
    "#"
   ]
  },
  {
   "cell_type": "code",
   "execution_count": 22,
   "id": "f5d9310c",
   "metadata": {},
   "outputs": [],
   "source": [
    "## Answer 5\n",
    "##\n",
    "## > (greater than), < (less than) , == (equals to) , >= (greater than equals to) , <= (less then equals to), != (not equals to)\n",
    "##"
   ]
  },
  {
   "cell_type": "code",
   "execution_count": 26,
   "id": "df43f286",
   "metadata": {},
   "outputs": [],
   "source": [
    "## Question 6\n",
    "##\n",
    "## How do you tell the difference between the equal to and assignment operators?Describe a condition and when you would use one.\n",
    "##"
   ]
  },
  {
   "cell_type": "code",
   "execution_count": 25,
   "id": "62e81014",
   "metadata": {},
   "outputs": [],
   "source": [
    "## Answer 6\n",
    "##\n",
    "## Difference between the equals to and assignment operator is \n",
    "## Equals to uses (==) where as assignment uses (=).\n",
    "## for comparision , one should use equals to (==)\n",
    "## for assigning value to a variable, one should use assignment (=)\n",
    "#"
   ]
  },
  {
   "cell_type": "code",
   "execution_count": 27,
   "id": "57ccbcaa",
   "metadata": {},
   "outputs": [],
   "source": [
    "## Question 7\n",
    "##\n",
    "## Identify the three blocks in this code:\n",
    "## spam = 0\n",
    "## if spam == 10:\n",
    "##    print('eggs')\n",
    "## if spam > 5:\n",
    "##    print('bacon')\n",
    "## else:\n",
    "##   print('ham')\n",
    "## print('spam')\n",
    "## print('spam')\n",
    "##"
   ]
  },
  {
   "cell_type": "code",
   "execution_count": 29,
   "id": "8435cdc8",
   "metadata": {},
   "outputs": [],
   "source": [
    "## Answer 7\n",
    "##\n",
    "## Block 1 is if block\n",
    "## if spam == 10:\n",
    "##    print('eggs')\n",
    "## \n",
    "## Block 2 is block again if block with following else block\n",
    "## if spam > 5:\n",
    "##    print('bacon')\n",
    "##\n",
    "## Block 3 is\n",
    "## else:\n",
    "##   print('ham')\n",
    "##"
   ]
  },
  {
   "cell_type": "code",
   "execution_count": 30,
   "id": "68ea8a58",
   "metadata": {},
   "outputs": [],
   "source": [
    "## Question 8\n",
    "##\n",
    "## Write code that prints Hello if 1 is stored in spam, prints Howdy if 2 is stored in spam, and prints Greetings! if anything else is stored in spam\n",
    "##"
   ]
  },
  {
   "cell_type": "code",
   "execution_count": 35,
   "id": "37c791bc",
   "metadata": {},
   "outputs": [
    {
     "name": "stdout",
     "output_type": "stream",
     "text": [
      "Greetings\n"
     ]
    }
   ],
   "source": [
    "## Answer 8\n",
    "spam = 3\n",
    "if spam == 1:\n",
    "    print('Hello')\n",
    "elif spam == 2:\n",
    "    print('Howdy')\n",
    "else:\n",
    "    print('Greetings')\n"
   ]
  },
  {
   "cell_type": "code",
   "execution_count": 36,
   "id": "edfff6c4",
   "metadata": {},
   "outputs": [],
   "source": [
    "## Question 9\n",
    "##\n",
    "## If your programme is stuck in an endless loop, what keys you’ll press?\n",
    "##"
   ]
  },
  {
   "cell_type": "code",
   "execution_count": 37,
   "id": "1cfe25c3",
   "metadata": {},
   "outputs": [],
   "source": [
    "## Answer 9\n",
    "##\n",
    "## Press Ctrl + c\n",
    "##"
   ]
  },
  {
   "cell_type": "code",
   "execution_count": 38,
   "id": "de8376ca",
   "metadata": {},
   "outputs": [],
   "source": [
    "## Question 10\n",
    "##\n",
    "## How can you tell the difference between break and continue?\n",
    "##"
   ]
  },
  {
   "cell_type": "code",
   "execution_count": 39,
   "id": "d6457c0e",
   "metadata": {},
   "outputs": [],
   "source": [
    "## Answer 10\n",
    "##\n",
    "##  Break will halt a loop execution where as continue will keep execution of loop by jumping to loop statement\n",
    "##"
   ]
  },
  {
   "cell_type": "code",
   "execution_count": 40,
   "id": "b2a3ce87",
   "metadata": {},
   "outputs": [],
   "source": [
    "## Question 11\n",
    "##\n",
    "## In a for loop, what is the difference between range(10), range(0, 10), and range(0, 10, 1)?\n",
    "##"
   ]
  },
  {
   "cell_type": "code",
   "execution_count": 41,
   "id": "112de967",
   "metadata": {},
   "outputs": [],
   "source": [
    "## Answer 11\n",
    "##\n",
    "## There is no difference between range(10), range(0, 10), and range(0, 10, 1) because all statement will provide 0 to 9 number into list.\n",
    "##"
   ]
  },
  {
   "cell_type": "code",
   "execution_count": 42,
   "id": "b16228b2",
   "metadata": {},
   "outputs": [],
   "source": [
    "## Question 12\n",
    "##\n",
    "## Write a short program that prints the numbers 1 to 10 using a for loop. \n",
    "## Then write an equivalent program that prints the numbers 1 to 10 using a while loop\n",
    "##"
   ]
  },
  {
   "cell_type": "code",
   "execution_count": 46,
   "id": "959fa397",
   "metadata": {},
   "outputs": [
    {
     "name": "stdout",
     "output_type": "stream",
     "text": [
      "1\n",
      "2\n",
      "3\n",
      "4\n",
      "5\n",
      "6\n",
      "7\n",
      "8\n",
      "9\n",
      "10\n",
      "1\n",
      "2\n",
      "3\n",
      "4\n",
      "5\n",
      "6\n",
      "7\n",
      "8\n",
      "9\n",
      "10\n"
     ]
    }
   ],
   "source": [
    "## Answer 12\n",
    "##\n",
    "## using for loop\n",
    "for i in range(1,11):\n",
    "    print(i)\n",
    "## using while loop\n",
    "min = 1\n",
    "max = 10\n",
    "while min <= max :\n",
    "    print(min)\n",
    "    min+=1"
   ]
  },
  {
   "cell_type": "code",
   "execution_count": 47,
   "id": "1ec22558",
   "metadata": {},
   "outputs": [],
   "source": [
    "## Question 13\n",
    "##\n",
    "## If you had a function named bacon() inside a module named spam, how would you call it after importing spam\n",
    "##"
   ]
  },
  {
   "cell_type": "code",
   "execution_count": 48,
   "id": "7d5842e9",
   "metadata": {},
   "outputs": [],
   "source": [
    "## Answer 13\n",
    "##\n",
    "## we will call by using statement spam.bacon()\n",
    "##"
   ]
  },
  {
   "cell_type": "code",
   "execution_count": null,
   "id": "34c56695",
   "metadata": {},
   "outputs": [],
   "source": []
  }
 ],
 "metadata": {
  "kernelspec": {
   "display_name": "Python 3 (ipykernel)",
   "language": "python",
   "name": "python3"
  },
  "language_info": {
   "codemirror_mode": {
    "name": "ipython",
    "version": 3
   },
   "file_extension": ".py",
   "mimetype": "text/x-python",
   "name": "python",
   "nbconvert_exporter": "python",
   "pygments_lexer": "ipython3",
   "version": "3.9.7"
  }
 },
 "nbformat": 4,
 "nbformat_minor": 5
}
