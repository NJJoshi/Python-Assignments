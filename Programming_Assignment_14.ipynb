{
 "cells": [
  {
   "cell_type": "markdown",
   "id": "abf97a8b",
   "metadata": {},
   "source": [
    "# Question 1\n",
    "#### Define a class with a generator which can iterate the numbers, which are divisible by 7, between a given range 0 and n."
   ]
  },
  {
   "cell_type": "markdown",
   "id": "92c97118",
   "metadata": {},
   "source": [
    "#### Answer 1\n",
    "\n",
    "    import pyinputplus as pypi\n",
    "\n",
    "\n",
    "    class CustomGenerator:\n",
    "\n",
    "        def __init__(self, iteration):\n",
    "            self.iteration = iteration\n",
    "\n",
    "        def my_generator(self):\n",
    "            for i in range(self.iteration):\n",
    "                if i % 7 == 0:\n",
    "                    yield i\n",
    "\n",
    "\n",
    "    def main():\n",
    "        no_of_iteration = pypi.inputInt(prompt='Please enter number:', default=0)\n",
    "        custom_generator = CustomGenerator(no_of_iteration)\n",
    "        result_list = list(custom_generator.my_generator())\n",
    "        print(result_list)\n",
    "\n",
    "\n",
    "    main()"
   ]
  },
  {
   "cell_type": "markdown",
   "id": "138e85f2",
   "metadata": {},
   "source": [
    "# Question 2\n",
    "#### Write a program to compute the frequency of the words from the input. The output should output after sorting the key alphanumerically. \n",
    "#### Suppose the following input is supplied to the program:\n",
    "#### New to Python or choosing between Python 2 and Python 3? Read Python 2 or Python 3.\n",
    "#### Then, the output should be:\n",
    "#### 2:2\n",
    "#### 3.:1\n",
    "#### 3?:1\n",
    "#### New:1\n",
    "#### Python:5\n",
    "#### Read:1\n",
    "#### and:1\n",
    "#### between:1\n",
    "#### choosing:1\n",
    "#### or:2\n",
    "#### to:1"
   ]
  },
  {
   "cell_type": "markdown",
   "id": "ce33d18d",
   "metadata": {},
   "source": [
    "# Answer 2\n",
    "\n",
    "    import pyinputplus as pypi\n",
    "\n",
    "    class WordFrequencyCounter:\n",
    "\n",
    "        def __init__(self, statement):\n",
    "            self.statement = statement\n",
    "\n",
    "        def count_frequency_of_words(self, split_by=\" \"):\n",
    "            my_str = self.statement\n",
    "            split_str = my_str.split(split_by)\n",
    "            result = {}\n",
    "            for i in split_str:\n",
    "                if result.get(i) is None:\n",
    "                    result[i] = my_str.count(i)\n",
    "            return result\n",
    "\n",
    "\n",
    "    def main():\n",
    "        my_input_str = pypi.inputStr(prompt='Please enter string', default=\"\")\n",
    "        log_file = open('word_count.log', 'w')\n",
    "        if len(my_input_str) > 0:\n",
    "            word_count = WordFrequencyCounter(my_input_str)\n",
    "            result = word_count.count_frequency_of_words()\n",
    "            print('Final result:', str(result))\n",
    "        else:\n",
    "            print('Please provide some string input for word frequency count')\n",
    "\n",
    "        return None\n",
    "\n",
    "\n",
    "    main()"
   ]
  },
  {
   "cell_type": "markdown",
   "id": "767ae52c",
   "metadata": {},
   "source": [
    "# Question 3\n",
    "#### Define a class Person and its two child classes: Male and Female. All classes have a method \"getGender\" which can print \"Male\" for Male class and \"Female\" for Female class."
   ]
  },
  {
   "cell_type": "markdown",
   "id": "b6470f67",
   "metadata": {},
   "source": [
    "# Answer 3\n",
    "    class Person:\n",
    "        def __init__(self, gender = 'Person'):\n",
    "            self.gender = gender\n",
    "            \n",
    "        def getGender():\n",
    "            return self.gender\n",
    "     \n",
    "    class Male(Person):\n",
    "        def __init__(self, gender = 'Male'):\n",
    "            self.gender = gender\n",
    "            \n",
    "        def getGender():\n",
    "            return self.gender            \n",
    "        \n",
    "    class Female(Person):\n",
    "         def __init__(self, gender = 'Female'):\n",
    "             self.gender = gender\n",
    "             \n",
    "        def getGender():\n",
    "            return self.gender             "
   ]
  },
  {
   "cell_type": "markdown",
   "id": "81ea5b92",
   "metadata": {},
   "source": [
    "# Question 4\n",
    "#### Please write a program to generate all sentences where subject is in [\"I\", \"You\"] and verb is in [\"Play\", \"Love\"] and the object is in [\"Hockey\",\"Football\"]."
   ]
  },
  {
   "cell_type": "markdown",
   "id": "015ad2f9",
   "metadata": {},
   "source": [
    "# Answer \n",
    "    def statement_generator(subjects, verbs, objects):\n",
    "        result_statements = []\n",
    "        for subject in subjects:\n",
    "            for verb in verbs:\n",
    "                for obj in objects:\n",
    "                    result_statements.append(subject + \" \" + verb + \" \" + obj)\n",
    "        return result_statements\n",
    "\n",
    "\n",
    "    def main():\n",
    "        subjects = [\"I\", \"You\"]\n",
    "        verbs = [\"Play\", \"Love\"]\n",
    "        objects = [\"Hockey\", \"Football\"]\n",
    "\n",
    "        result_statements = statement_generator(subjects, verbs, objects)\n",
    "\n",
    "        print('Final result:', result_statements)\n",
    "\n",
    "\n",
    "    main()"
   ]
  },
  {
   "cell_type": "markdown",
   "id": "0d9d6c89",
   "metadata": {},
   "source": [
    "# Question 5\n",
    "#### Please write a program to compress and decompress the string \"hello world!hello world!hello world!hello world!\"."
   ]
  },
  {
   "cell_type": "markdown",
   "id": "27d13553",
   "metadata": {},
   "source": [
    "# Answer 5\n",
    "    import zlib\n",
    "\n",
    "\n",
    "    def main():\n",
    "        str = \"hello world!hello world!hello world!hello world!\".encode()\n",
    "        compress_str = zlib.compress(str)\n",
    "        print('Compressed string:', compress_str)\n",
    "        decompressed_str = zlib.decompress(compress_str)\n",
    "        print('Decompressed string:', decompressed_str)\n",
    "\n",
    "\n",
    "    main()"
   ]
  },
  {
   "cell_type": "markdown",
   "id": "9a9c9648",
   "metadata": {},
   "source": [
    "# Question 6\n",
    "#### Please write a binary search function which searches an item in a sorted list. The function should return the index of element to be searched in the list."
   ]
  },
  {
   "cell_type": "markdown",
   "id": "ceeda981",
   "metadata": {},
   "source": [
    "# Answer 6\n",
    "    from bisect import bisect_left\n",
    "\n",
    "\n",
    "    def binary_search(element_list, search_element):\n",
    "        element_index = bisect_left(element_list, search_element)\n",
    "        if element_index != len(element_list) and element_list[element_index] == search_element:\n",
    "            return element_index\n",
    "        else:\n",
    "            return -1\n",
    "\n",
    "\n",
    "    def main():\n",
    "        elements_list = [1, 2, 3, 4, 5, 6, 6, 6, 7, 8, 9, 0]\n",
    "        search_element = 6\n",
    "        index = binary_search(elements_list, search_element)\n",
    "        if index == -1:\n",
    "            print(search_element + \" is absent\")\n",
    "        else:\n",
    "            print('Very first occurrence of ', search_element , ' is present at index ', index)\n",
    "\n",
    "\n",
    "    main()"
   ]
  }
 ],
 "metadata": {
  "kernelspec": {
   "display_name": "Python 3 (ipykernel)",
   "language": "python",
   "name": "python3"
  },
  "language_info": {
   "codemirror_mode": {
    "name": "ipython",
    "version": 3
   },
   "file_extension": ".py",
   "mimetype": "text/x-python",
   "name": "python",
   "nbconvert_exporter": "python",
   "pygments_lexer": "ipython3",
   "version": "3.9.7"
  }
 },
 "nbformat": 4,
 "nbformat_minor": 5
}
