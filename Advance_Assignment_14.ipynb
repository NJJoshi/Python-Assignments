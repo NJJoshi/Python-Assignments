{
 "cells": [
  {
   "cell_type": "markdown",
   "id": "7fdf6bba",
   "metadata": {},
   "source": [
    "# Question 1\n",
    "#### Is an assignment operator like += only for show? Is it possible that it would lead to faster results at the runtime?"
   ]
  },
  {
   "cell_type": "markdown",
   "id": "226c1a07",
   "metadata": {},
   "source": [
    "# Answer 1\n",
    "#### Augmented operation combines the functioning of the arithmatic and the assignment operator.\n",
    "#### No it would not lead to faster result rather it's just different way of writing operation."
   ]
  },
  {
   "cell_type": "markdown",
   "id": "5c969fb3",
   "metadata": {},
   "source": [
    "# Question 2\n",
    "#### What is the smallest number of statements you'd have to write in most programming languages to replace the Python expression a, b = a + b, a?"
   ]
  },
  {
   "cell_type": "markdown",
   "id": "b5c42f79",
   "metadata": {},
   "source": [
    "# Answer 2\n",
    "#### we can write them in following way:\n",
    "    a+=b\n",
    "    b=a"
   ]
  },
  {
   "cell_type": "markdown",
   "id": "cd682200",
   "metadata": {},
   "source": [
    "# Question 3\n",
    "#### In Python, what is the most effective way to set a list of 100 integers to 0?"
   ]
  },
  {
   "cell_type": "markdown",
   "id": "f550e718",
   "metadata": {},
   "source": [
    "# Answer 3\n",
    "#### We can achieve it as mentioned below:\n",
    "    arr = [0]*100\n",
    "#### OR we can do it\n",
    "    arr = [0 for i in range(100)]"
   ]
  },
  {
   "cell_type": "markdown",
   "id": "ee3401b3",
   "metadata": {},
   "source": [
    "# Question 4\n",
    "#### What is the most effective way to initialise a list of 99 integers that repeats the sequence 1, 2, 3? S If necessary, show step-by-step instructions on how to accomplish this."
   ]
  },
  {
   "cell_type": "markdown",
   "id": "41383223",
   "metadata": {},
   "source": [
    "# Answer 4\n",
    "#### Step 1: Initialise list object\n",
    "#### Step 2: Initialize counter = 1\n",
    "#### Step 3: loop through range(100)\n",
    "#### Step 4: Add count value into list\n",
    "#### Step 5: while loop thorugh, perform modules operation i % 3 and if it leads to 0 then start count = 1\n",
    "#### Step 6: increment count value"
   ]
  },
  {
   "cell_type": "markdown",
   "id": "3d325704",
   "metadata": {},
   "source": [
    "# Question 5\n",
    "#### If you're using IDLE to run a Python application, explain how to print a multidimensional list as efficiently?"
   ]
  },
  {
   "cell_type": "markdown",
   "id": "35134736",
   "metadata": {},
   "source": [
    "# Answer 5\n",
    "#### Usage of numpy module will resolve this."
   ]
  },
  {
   "cell_type": "markdown",
   "id": "21070fe7",
   "metadata": {},
   "source": [
    "# Question 6\n",
    "#### Is it possible to use list comprehension with a string? If so, how can you go about doing it?"
   ]
  },
  {
   "cell_type": "markdown",
   "id": "dc356b80",
   "metadata": {},
   "source": [
    "# Answer 6\n",
    "#### Yes , It is possible to do it.\n",
    "#### We can do it as mentioned below:\n",
    "    markers = [(97,64),(45,84)]\n",
    "    result = ','.join(\"&markers=%s\" % ','.join(map(str, x)) for x in markers)"
   ]
  },
  {
   "cell_type": "markdown",
   "id": "3c508a1a",
   "metadata": {},
   "source": [
    "# Question 7\n",
    "#### From the command line, how do you get support with a user-written Python programme? Is this possible from inside IDLE?"
   ]
  },
  {
   "cell_type": "markdown",
   "id": "6238dac9",
   "metadata": {},
   "source": [
    "# Answer 7\n",
    "#### we can do it as mentioned below:\n",
    "    python3 -m hello\n",
    "#### It's also possible to load user written python file into IDLE."
   ]
  },
  {
   "cell_type": "markdown",
   "id": "86901656",
   "metadata": {},
   "source": [
    "# Question 8\n",
    "#### Functions are said to be “first-class objects” in Python but not in most other languages, such as C++ or Java. What can you do in Python with a function (callable object) that you can't do in C or C++?"
   ]
  },
  {
   "cell_type": "markdown",
   "id": "3afd14ad",
   "metadata": {},
   "source": [
    "# Answer 8\n",
    "#### We don't have any such built-in function in C OR C++ which let us know that whether created object is callable or not.\n",
    "#### where as we can do it in python."
   ]
  },
  {
   "cell_type": "markdown",
   "id": "2cc81ca9",
   "metadata": {},
   "source": [
    "# Question 9\n",
    "#### How do you distinguish between a wrapper, a wrapped feature, and a decorator?"
   ]
  },
  {
   "cell_type": "markdown",
   "id": "a6067960",
   "metadata": {},
   "source": [
    "# Answer 9\n",
    "#### Decorator allow us to extend existing function's behavior with change into actual code.\n",
    "#### In Decorator, functions are taken as argument into another function and then called inside wrapper function.\n",
    "\n",
    "#### For Example, Wrapper function can be identify as below:\n",
    "    \n",
    "    def hello_1(func): \n",
    "\n",
    "        # inner1 is a Wrapper function in  \n",
    "        # which the argument is called \n",
    "\n",
    "        # inner function can access the outer local \n",
    "        # functions like in this case \"func\" \n",
    "        \n",
    "        def inner1(): \n",
    "            print(\"Hello, this is before function execution\") \n",
    "\n",
    "            # calling the actual function now \n",
    "            # inside the wrapper function. \n",
    "            func() \n",
    "\n",
    "            print(\"This is after function execution\") \n",
    "\n",
    "        return inner1 \n",
    "\n",
    "    def function_to_be_used(): \n",
    "        print(\"This is inside the function !!\") \n",
    "\n",
    "    function_to_be_used = hello_1(function_to_be_used) \n",
    "    function_to_be_used()\n",
    "    \n",
    "#### For Example, Decorator can be identify as below:\n",
    "    import time\n",
    "\n",
    "\n",
    "    def timeis(func):\n",
    "        '''Decorator that reports the execution time.'''\n",
    "\n",
    "        def wrap(*args, **kwargs):\n",
    "            start = time.time()\n",
    "            result = func(*args, **kwargs)\n",
    "            end = time.time()\n",
    "\n",
    "            print(func.__name__, end-start)\n",
    "            return result\n",
    "        return wrap\n",
    "\n",
    "    @timeis\n",
    "    def countdown(n):\n",
    "        '''Counts down'''\n",
    "        while n > 0:\n",
    "            n -= 1\n",
    "#### In above example, '@timeis' decorator."
   ]
  },
  {
   "cell_type": "markdown",
   "id": "922eb3a0",
   "metadata": {},
   "source": [
    "# Question 10\n",
    "#### If a function is a generator function, what does it return?"
   ]
  },
  {
   "cell_type": "markdown",
   "id": "e67850ba",
   "metadata": {},
   "source": [
    "# Answer 10\n",
    "#### It return 'iterator object' which generates sequence of values.\n",
    "#### For Example, \n",
    "    def mygenerator():\n",
    "        print('First item')\n",
    "        yield 10\n",
    "\n",
    "        print('Second item')\n",
    "        yield 20\n",
    "\n",
    "        print('Last item')\n",
    "        yield 30\n",
    "        \n",
    "     >>> gen = mygenerator() \n",
    "     >>> next(gen) \n",
    "        First item \n",
    "        10                      \n",
    "     >>> next(gen) \n",
    "        Second item \n",
    "        20                      \n",
    "     >>> next(gen) \n",
    "        Last item \n",
    "        30  "
   ]
  },
  {
   "cell_type": "markdown",
   "id": "94eef9df",
   "metadata": {},
   "source": [
    "# Question 11\n",
    "#### What is the one improvement that must be made to a function in order for it to become a generator function in the Python language?"
   ]
  },
  {
   "cell_type": "markdown",
   "id": "2e42df30",
   "metadata": {},
   "source": [
    "# Answer 11\n",
    "#### One should not write 'return' instead of writting 'return' write 'yield'"
   ]
  },
  {
   "cell_type": "markdown",
   "id": "e0dc1904",
   "metadata": {},
   "source": [
    "# Question 12\n",
    "#### Identify at least one benefit of generators."
   ]
  },
  {
   "cell_type": "markdown",
   "id": "e2bbec02",
   "metadata": {},
   "source": [
    "# Answer 12\n",
    "#### They help your program efficiently scale, while at the same time providing delightful encapsulation patterns.\n",
    "#### Encapulation Pattern is especially valuable with continuous streams, like from a socket connection, or tailing a log file."
   ]
  }
 ],
 "metadata": {
  "kernelspec": {
   "display_name": "Python 3 (ipykernel)",
   "language": "python",
   "name": "python3"
  },
  "language_info": {
   "codemirror_mode": {
    "name": "ipython",
    "version": 3
   },
   "file_extension": ".py",
   "mimetype": "text/x-python",
   "name": "python",
   "nbconvert_exporter": "python",
   "pygments_lexer": "ipython3",
   "version": "3.9.7"
  }
 },
 "nbformat": 4,
 "nbformat_minor": 5
}
