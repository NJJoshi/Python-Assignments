{
 "cells": [
  {
   "cell_type": "markdown",
   "id": "9beeb6ea",
   "metadata": {},
   "source": [
    "# Question 1\n",
    "#### What is the purpose of the try statement?"
   ]
  },
  {
   "cell_type": "markdown",
   "id": "a0ea57fb",
   "metadata": {},
   "source": [
    "# Answer 1\n",
    "#### Statements that can raise exceptions are kept inside the try clause"
   ]
  },
  {
   "cell_type": "markdown",
   "id": "ecfe4a2f",
   "metadata": {},
   "source": [
    "# Question 2\n",
    "#### What are the two most popular try statement variations?"
   ]
  },
  {
   "cell_type": "markdown",
   "id": "9fda5c15",
   "metadata": {},
   "source": [
    "# Answer 2\n",
    "#### Variation 1\n",
    "    try:\n",
    "        # statement(s)\n",
    "    except IndexError:\n",
    "        # statement(s)\n",
    "    except ValueError:\n",
    "        # statement(s)\n",
    "#### Variation 2\n",
    "    try:\n",
    "        # Some Code.... \n",
    "\n",
    "    except:\n",
    "        # optional block\n",
    "        # Handling of exception (if required)\n",
    "\n",
    "    else:\n",
    "        # execute if no exception\n",
    "\n",
    "    finally:\n",
    "        # Some code .....(always executed)"
   ]
  },
  {
   "cell_type": "markdown",
   "id": "d5b681cf",
   "metadata": {},
   "source": [
    "# Question 3\n",
    "#### What is the purpose of the raise statement?"
   ]
  },
  {
   "cell_type": "markdown",
   "id": "59e93c56",
   "metadata": {},
   "source": [
    "# Answer 3\n",
    "#### The 'raise' statement allows the programmer to face specific exception to occur. \n",
    "#### The sole argument in raise indicates the exception to be raise and that must be either 'exception' instance or class."
   ]
  },
  {
   "cell_type": "markdown",
   "id": "3cbbf6fb",
   "metadata": {},
   "source": [
    "# Question 4\n",
    "#### What does the assert statement do, and what other statement is it like?"
   ]
  },
  {
   "cell_type": "markdown",
   "id": "a8391476",
   "metadata": {},
   "source": [
    "# Answer 4\n",
    "#### Returns AssertionError, in case the condition evaluates to false along with the error message which when provided. \n",
    "#### For example,\n",
    "    a = 4\n",
    "    b = 0\n",
    "  \n",
    "    # using assert to check for 0\n",
    "    print(\"The value of a / b is : \")\n",
    "    assert b != 0, \"Zero Division Error\"\n",
    "    print(a / b)\n",
    "    \n",
    "## Output \n",
    "    AssertionError: Zero Division Error"
   ]
  },
  {
   "cell_type": "markdown",
   "id": "6a8979cf",
   "metadata": {},
   "source": [
    "# Question 5\n",
    "#### What is the purpose of the with/as argument, and what other statement is it like?"
   ]
  },
  {
   "cell_type": "markdown",
   "id": "c35dc7fd",
   "metadata": {},
   "source": [
    "# Answer 5\n",
    "#### with statement in Python is used in exception handling to make the code cleaner and much more readable. It simplifies the management of common resources like file streams.\n",
    "#### For example,\n",
    "\n",
    "    with open('file_path', 'w') as file:\n",
    "        file.write('hello world !')\n",
    "        \n",
    "####  there is no need to call 'file.close()' when using with statement. The with statement itself ensures proper acquisition and release of resources"
   ]
  }
 ],
 "metadata": {
  "kernelspec": {
   "display_name": "Python 3 (ipykernel)",
   "language": "python",
   "name": "python3"
  },
  "language_info": {
   "codemirror_mode": {
    "name": "ipython",
    "version": 3
   },
   "file_extension": ".py",
   "mimetype": "text/x-python",
   "name": "python",
   "nbconvert_exporter": "python",
   "pygments_lexer": "ipython3",
   "version": "3.9.7"
  }
 },
 "nbformat": 4,
 "nbformat_minor": 5
}
