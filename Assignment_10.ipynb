{
 "cells": [
  {
   "cell_type": "code",
   "execution_count": 1,
   "id": "5bdfcabd",
   "metadata": {},
   "outputs": [],
   "source": [
    "## Question 1\n",
    "## How do you distinguish between shutil.copy() and shutil.copytree()?\n",
    "##"
   ]
  },
  {
   "cell_type": "code",
   "execution_count": 2,
   "id": "df8f1722",
   "metadata": {},
   "outputs": [],
   "source": [
    "## Answer 1\n",
    "## shutil.copy() will copy a single file \n",
    "## shutil.copytree() will copy an entire folder and every folder and file contained in it\n",
    "##"
   ]
  },
  {
   "cell_type": "code",
   "execution_count": 3,
   "id": "1c606582",
   "metadata": {},
   "outputs": [],
   "source": [
    "## Question 2\n",
    "## What function is used to rename files??\n",
    "##"
   ]
  },
  {
   "cell_type": "code",
   "execution_count": 4,
   "id": "ad8eeb3a",
   "metadata": {},
   "outputs": [],
   "source": [
    "## Answer 2\n",
    "## shutil.move(source, destination) will going to use to rename files.\n",
    "##"
   ]
  },
  {
   "cell_type": "code",
   "execution_count": 5,
   "id": "298ada5e",
   "metadata": {},
   "outputs": [],
   "source": [
    "## Question 3\n",
    "## What is the difference between the delete functions in the send2trash and shutil modules?\n",
    "##"
   ]
  },
  {
   "cell_type": "code",
   "execution_count": 6,
   "id": "be73e949",
   "metadata": {},
   "outputs": [],
   "source": [
    "## Answer 3\n",
    "## Python’s built-in shutil.rmtree() function irreversibly deletes files and folders, it can be dangerous to use. \n",
    "## Using send2trash is much safer than Python’s regular delete functions\n",
    "## because it will send folders and files to your computer’s trash or recycle bin instead of permanently deleting them.\n",
    "##"
   ]
  },
  {
   "cell_type": "code",
   "execution_count": 7,
   "id": "d5fc1ed7",
   "metadata": {},
   "outputs": [],
   "source": [
    "## Question 4\n",
    "## ZipFile objects have a close() method just like File objects’ close() method. \n",
    "## What ZipFile method is equivalent to File objects’ open() method?\n",
    "##"
   ]
  },
  {
   "cell_type": "code",
   "execution_count": 8,
   "id": "ca9503d1",
   "metadata": {},
   "outputs": [],
   "source": [
    "## Answer 4\n",
    "## ZipFile.ZipFile() function is there to open zip file and it's equivalent to open() method.\n",
    "##"
   ]
  },
  {
   "cell_type": "code",
   "execution_count": 9,
   "id": "667b0a2b",
   "metadata": {},
   "outputs": [],
   "source": [
    "## Question 5 \n",
    "## Create a programme that searches a folder tree for files with a certain file extension (such as .pdf or .jpg). \n",
    "## Copy these files from whatever location they are in to a new folder.\n",
    "##"
   ]
  },
  {
   "cell_type": "code",
   "execution_count": 1,
   "id": "fc11eeb9",
   "metadata": {},
   "outputs": [
    {
     "name": "stdout",
     "output_type": "stream",
     "text": [
      "Please provide absolute file path which we want to move:C:/NJ/Learning/Python/testing/source_folder\n",
      "Please provide destination folder path where we want to move file:C:/NJ/Learning/Python/testing/destination_folder\n"
     ]
    }
   ],
   "source": [
    "## Answer 5\n",
    "##\n",
    "##\n",
    "import os, shutil, pathlib, fnmatch\n",
    "\n",
    "def move_files(src: str, dst: str, pattern: str = '*.pdf'):\n",
    "    \"\"\"\n",
    "    This function will going to move entire folder content , if we don't provide 'pattern' argument value\n",
    "    \"\"\"\n",
    "    if not os.path.isdir(dst):\n",
    "        pathlib.Path(dst).mkdir(parents=True, exist_ok=True)\n",
    "    for f in fnmatch.filter(os.listdir(src), pattern):\n",
    "        shutil.move(os.path.join(src, f), os.path.join(dst, f))\n",
    "\n",
    "def main():\n",
    "    # 'C:/Users/Nirav Joshi/Downloads/Dattabavni_Gatha.pdf'\n",
    "    source_file_path = input('Please provide absolute file path which we want to move:')\n",
    "    if len(source_file_path) == 0:\n",
    "        print('Please provide value for absolute file path')\n",
    "        return\n",
    "\n",
    "    # 'C:/NJ/Learning/Python/python-practice-examples'\n",
    "    destination_folder_path = input('Please provide destination folder path where we want to move file:')\n",
    "    if len(destination_folder_path) == 0:\n",
    "        print('Please provide value for destination folder path')\n",
    "        return\n",
    "    \n",
    "    move_files(source_file_path, destination_folder_path)    \n",
    "    #move_dir('C:/Users/Nirav Joshi/Downloads/Dattabavni_Gatha.pdf','C:/NJ/Learning/Python/python-practice-examples/Dattabavni_Gatha.pdf')\n",
    "\n",
    "main()"
   ]
  },
  {
   "cell_type": "code",
   "execution_count": null,
   "id": "4e23b46e",
   "metadata": {},
   "outputs": [],
   "source": []
  }
 ],
 "metadata": {
  "kernelspec": {
   "display_name": "Python 3 (ipykernel)",
   "language": "python",
   "name": "python3"
  },
  "language_info": {
   "codemirror_mode": {
    "name": "ipython",
    "version": 3
   },
   "file_extension": ".py",
   "mimetype": "text/x-python",
   "name": "python",
   "nbconvert_exporter": "python",
   "pygments_lexer": "ipython3",
   "version": "3.9.7"
  }
 },
 "nbformat": 4,
 "nbformat_minor": 5
}
