{
 "cells": [
  {
   "cell_type": "markdown",
   "id": "54243461",
   "metadata": {},
   "source": [
    "# Question 1\n",
    "#### What is the concept of an abstract superclass?"
   ]
  },
  {
   "cell_type": "markdown",
   "id": "fcb078f1",
   "metadata": {},
   "source": [
    "# Answer 1\n",
    "#### A class which contains one or more abstract methods is called an abstract class. It allows you to create a set of methods that must be created within any child classes built from the abstract class. \n",
    "#### For Example, \n",
    "     from abc import ABC, abstractmethod\n",
    "     class Polygon(ABC):\n",
    "         @abstractmethod\n",
    "         def no_of_sides(self):\n",
    "             pass\n",
    "     \n",
    "     class Triangle(Polygon):\n",
    "         def no_of_sides(self):\n",
    "             print(\"I am triangle hence I have 3 sides\")\n",
    " \n",
    "#### In above example, ABC is a superclass for Polygon class , Polygon is a superclass of Triangle.\n",
    "         "
   ]
  },
  {
   "cell_type": "markdown",
   "id": "2f16d78f",
   "metadata": {},
   "source": [
    "# Question 2\n",
    "#### What happens when a class statement's top level contains a basic assignment statement?"
   ]
  },
  {
   "cell_type": "markdown",
   "id": "04571e4d",
   "metadata": {},
   "source": [
    "# Answer 2\n",
    "#### If class statement's top level contains a basic assignment statement that will be a 'class variable' declaration. "
   ]
  },
  {
   "cell_type": "markdown",
   "id": "66e28b1f",
   "metadata": {},
   "source": [
    "# Question 3\n",
    "#### Why does a class need to manually call a superclass's __init__ method?"
   ]
  },
  {
   "cell_type": "markdown",
   "id": "fde3f76a",
   "metadata": {},
   "source": [
    "# Answer 3\n",
    "#### If you need something from super's __init__ to be done in addition to what is being done in the current class's __init__ , you must call it yourself, since that will not happen automatically."
   ]
  },
  {
   "cell_type": "markdown",
   "id": "f59684ad",
   "metadata": {},
   "source": [
    "# Question 4\n",
    "#### How can you augment, instead of completely replacing, an inherited method?"
   ]
  },
  {
   "cell_type": "markdown",
   "id": "b5792e51",
   "metadata": {},
   "source": [
    "# Answer 4\n",
    "#### By using OOPs concept called Polymorphism, we can augment an inherited method.\n",
    "#### For example, \n",
    "    class Spam:\n",
    "        def update(self):\n",
    "            print('updating spam!')\n",
    "\n",
    "    class SpamLite(Spam):\n",
    "        def update(self):\n",
    "            print('this spam is lite!')\n",
    "            Spam.update(self)\n",
    "#### Here we have augmented 'update()' by overloading it and also we extended it by calling it's parent class method."
   ]
  },
  {
   "cell_type": "markdown",
   "id": "741f1b8a",
   "metadata": {},
   "source": [
    "# Question 5\n",
    "#### How is the local scope of a class different from that of a function?"
   ]
  },
  {
   "cell_type": "markdown",
   "id": "d5f1d4c9",
   "metadata": {},
   "source": [
    "# Question 5\n",
    "#### Declaring a variable in a class (outside of a function): all class functions can access it (basically a public variable).\n",
    "#### Declaring a variable inside a function inside a class: only that function can access it (it's in that function's scope)."
   ]
  }
 ],
 "metadata": {
  "kernelspec": {
   "display_name": "Python 3 (ipykernel)",
   "language": "python",
   "name": "python3"
  },
  "language_info": {
   "codemirror_mode": {
    "name": "ipython",
    "version": 3
   },
   "file_extension": ".py",
   "mimetype": "text/x-python",
   "name": "python",
   "nbconvert_exporter": "python",
   "pygments_lexer": "ipython3",
   "version": "3.9.7"
  }
 },
 "nbformat": 4,
 "nbformat_minor": 5
}
