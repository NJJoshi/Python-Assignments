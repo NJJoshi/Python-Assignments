{
 "cells": [
  {
   "cell_type": "code",
   "execution_count": 1,
   "id": "5ad31aee",
   "metadata": {},
   "outputs": [],
   "source": [
    "## Question 1\n",
    "## Why are functions advantageous to have in your programs?\n",
    "##"
   ]
  },
  {
   "cell_type": "code",
   "execution_count": 2,
   "id": "df4a0b70",
   "metadata": {},
   "outputs": [],
   "source": [
    "## Answer 1\n",
    "## They are reusable piece of code.\n",
    "##"
   ]
  },
  {
   "cell_type": "code",
   "execution_count": 3,
   "id": "4526f7a2",
   "metadata": {},
   "outputs": [],
   "source": [
    "## Question 2\n",
    "## When does the code in a function run: when it's specified or when it's called?\n",
    "##"
   ]
  },
  {
   "cell_type": "code",
   "execution_count": 4,
   "id": "e1408b19",
   "metadata": {},
   "outputs": [],
   "source": [
    "## Answer 2\n",
    "## When it's called.\n",
    "##"
   ]
  },
  {
   "cell_type": "code",
   "execution_count": 5,
   "id": "6f1aea90",
   "metadata": {},
   "outputs": [],
   "source": [
    "## Question 3\n",
    "## What statement creates a function ?\n",
    "## "
   ]
  },
  {
   "cell_type": "code",
   "execution_count": 6,
   "id": "a238441e",
   "metadata": {},
   "outputs": [],
   "source": [
    "## Answer 3\n",
    "## def function1([parameters]) : will going to create a function  \n",
    "##"
   ]
  },
  {
   "cell_type": "code",
   "execution_count": 7,
   "id": "e12a4735",
   "metadata": {},
   "outputs": [],
   "source": [
    "## Question 4\n",
    "## What is the difference between a function and a function call?\n",
    "## "
   ]
  },
  {
   "cell_type": "code",
   "execution_count": 8,
   "id": "949de325",
   "metadata": {},
   "outputs": [],
   "source": [
    "## Answer 4\n",
    "## function is defination where we are defining/writing re-usable piece of code\n",
    "## function call is a trigger point to start execution of that piece of code\n",
    "##"
   ]
  },
  {
   "cell_type": "code",
   "execution_count": 9,
   "id": "c79c2abb",
   "metadata": {},
   "outputs": [],
   "source": [
    "## Question 5\n",
    "## How many global scopes are there in a Python program? How many local scopes?\n",
    "## "
   ]
  },
  {
   "cell_type": "code",
   "execution_count": 10,
   "id": "27e0d1e8",
   "metadata": {},
   "outputs": [],
   "source": [
    "## Answer 5\n",
    "## 2 Global scopes are available. \n",
    "##  1. A variable created in the main body of the Python code is a global variable and belongs to the global scope.\n",
    "##  2. If you need to create a global variable, but are stuck in the local scope, you can use the global keyword.\n",
    "## \n",
    "## 1 Local scope is available. \n",
    "## A variable created inside a function belongs to the local scope of that function, and can only be used inside that function."
   ]
  },
  {
   "cell_type": "code",
   "execution_count": 11,
   "id": "028a4d4a",
   "metadata": {},
   "outputs": [],
   "source": [
    "## Question 6\n",
    "## What happens to variables in a local scope when the function call returns?\n",
    "##"
   ]
  },
  {
   "cell_type": "code",
   "execution_count": 12,
   "id": "5e5bfa0a",
   "metadata": {},
   "outputs": [],
   "source": [
    "## Answer 6\n",
    "## They will become eligible for garbage collection.\n",
    "##"
   ]
  },
  {
   "cell_type": "code",
   "execution_count": 13,
   "id": "f72eb0b0",
   "metadata": {},
   "outputs": [],
   "source": [
    "## Question 7\n",
    "## What is the concept of a return value? Is it possible to have a return value in an expression?\n",
    "##"
   ]
  },
  {
   "cell_type": "code",
   "execution_count": 14,
   "id": "a16120ee",
   "metadata": {},
   "outputs": [],
   "source": [
    "## Answer 7\n",
    "## If we want to get/retrieve function local calculated value then we will going to write a return keyword with that value.\n",
    "## Yes. It's possible to have a return value in an expression.\n",
    "##"
   ]
  },
  {
   "cell_type": "code",
   "execution_count": 15,
   "id": "da914be9",
   "metadata": {},
   "outputs": [],
   "source": [
    "## Question 8\n",
    "## If a function does not have a return statement, what is the return value of a call to that function?\n",
    "##"
   ]
  },
  {
   "cell_type": "code",
   "execution_count": 16,
   "id": "629d1a35",
   "metadata": {},
   "outputs": [],
   "source": [
    "## Answer 8\n",
    "## None\n",
    "##"
   ]
  },
  {
   "cell_type": "code",
   "execution_count": 17,
   "id": "d2402d9b",
   "metadata": {},
   "outputs": [],
   "source": [
    "## Question 9\n",
    "## How do you make a function variable refer to the global variable?\n",
    "##"
   ]
  },
  {
   "cell_type": "code",
   "execution_count": 18,
   "id": "d1cc0253",
   "metadata": {},
   "outputs": [],
   "source": [
    "## Answer 9\n",
    "## By using 'global' reserved keyword. we need to prepend 'global' keyword before variable name.\n",
    "##"
   ]
  },
  {
   "cell_type": "code",
   "execution_count": 19,
   "id": "3f0b87be",
   "metadata": {},
   "outputs": [],
   "source": [
    "## Question 10\n",
    "## What is the data type of None?\n",
    "##"
   ]
  },
  {
   "cell_type": "code",
   "execution_count": 20,
   "id": "38d76c1b",
   "metadata": {},
   "outputs": [],
   "source": [
    "## Answer 10\n",
    "## class NoneType\n",
    "##"
   ]
  },
  {
   "cell_type": "code",
   "execution_count": 21,
   "id": "d1b5d81b",
   "metadata": {},
   "outputs": [],
   "source": [
    "## Question 11\n",
    "## What does the sentence import areallyourpetsnamederic do?\n",
    "## "
   ]
  },
  {
   "cell_type": "code",
   "execution_count": 22,
   "id": "91bd5c26",
   "metadata": {},
   "outputs": [],
   "source": [
    "## Answer 11\n",
    "## It will import module 'areallyourpetsnamederic' and make their undelying functions available for the program to use.\n",
    "##"
   ]
  },
  {
   "cell_type": "code",
   "execution_count": 23,
   "id": "d865828d",
   "metadata": {},
   "outputs": [],
   "source": [
    "## Question 12\n",
    "## If you had a bacon() feature in a spam module, what would you call it after importing spam?\n",
    "##"
   ]
  },
  {
   "cell_type": "code",
   "execution_count": 24,
   "id": "aa67f625",
   "metadata": {},
   "outputs": [],
   "source": [
    "## Answer 12\n",
    "## spam.bacon()\n",
    "##"
   ]
  },
  {
   "cell_type": "code",
   "execution_count": 25,
   "id": "fd0242ae",
   "metadata": {},
   "outputs": [],
   "source": [
    "## Question 13\n",
    "## What can you do to save a programme from crashing if it encounters an error?\n",
    "##"
   ]
  },
  {
   "cell_type": "code",
   "execution_count": 26,
   "id": "6e3d0b87",
   "metadata": {},
   "outputs": [],
   "source": [
    "## Answer 13\n",
    "## Handle error/exception using try and except\n",
    "##"
   ]
  },
  {
   "cell_type": "code",
   "execution_count": 27,
   "id": "cbfe6db2",
   "metadata": {},
   "outputs": [],
   "source": [
    "## Question 14\n",
    "## What is the purpose of the try clause? What is the purpose of the except clause?\n",
    "##"
   ]
  },
  {
   "cell_type": "code",
   "execution_count": null,
   "id": "2b1ab2a6",
   "metadata": {},
   "outputs": [],
   "source": [
    "## Answer 14\n",
    "## try block lets you test block of code for error\n",
    "## except block lets you handle error\n",
    "##"
   ]
  }
 ],
 "metadata": {
  "kernelspec": {
   "display_name": "Python 3 (ipykernel)",
   "language": "python",
   "name": "python3"
  },
  "language_info": {
   "codemirror_mode": {
    "name": "ipython",
    "version": 3
   },
   "file_extension": ".py",
   "mimetype": "text/x-python",
   "name": "python",
   "nbconvert_exporter": "python",
   "pygments_lexer": "ipython3",
   "version": "3.9.7"
  }
 },
 "nbformat": 4,
 "nbformat_minor": 5
}
