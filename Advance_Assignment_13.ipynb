{
 "cells": [
  {
   "cell_type": "markdown",
   "id": "2fe97d22",
   "metadata": {},
   "source": [
    "# Question 1\n",
    "#### Can you create a programme or function that employs both positive and negative indexing? Is there any repercussion if you do so?"
   ]
  },
  {
   "cell_type": "markdown",
   "id": "8641576f",
   "metadata": {},
   "source": [
    "# Answer 1\n",
    "#### Yes. We can created it. There won't be any repercussion in fact such functionality provides more facility so that once index from both direction to fetch any indexed element."
   ]
  },
  {
   "cell_type": "markdown",
   "id": "0a0d802a",
   "metadata": {},
   "source": [
    "# Question 2\n",
    "#### What is the most effective way of starting with 1,000 elements in a Python list? Assume that all elements should be set to the same value."
   ]
  },
  {
   "cell_type": "markdown",
   "id": "b9e5023c",
   "metadata": {},
   "source": [
    "# Answer 2\n",
    "#### arr = [0] * 1000"
   ]
  },
  {
   "cell_type": "markdown",
   "id": "3bd83812",
   "metadata": {},
   "source": [
    "# Question 3\n",
    "#### How do you slice a list to get any other part while missing the rest? (For example, suppose you want to make a new list with the elements first, third, fifth, seventh, and so on.)"
   ]
  },
  {
   "cell_type": "markdown",
   "id": "f4248e59",
   "metadata": {},
   "source": [
    "# Answer 3\n",
    "#### In order to full fill such requirement, we need to set 'Jump' part.\n",
    "#### For example, for below mentioned list which has 10 elements and we want to retrieve first, third, fifth, seventh and so on then\n",
    "    l = [1,2,3,4,5,6,7,8,9,10]\n",
    "    modified_l = l[0:len(l):2]\n",
    "#### In above mentioned example, modified_l will going to contain [1,3,5,7,9] because we sent jump as '2'"
   ]
  },
  {
   "cell_type": "markdown",
   "id": "8dd6f519",
   "metadata": {},
   "source": [
    "# Question 4\n",
    "#### Explain the distinctions between indexing and slicing."
   ]
  },
  {
   "cell_type": "markdown",
   "id": "be9baf63",
   "metadata": {},
   "source": [
    "# Answer 4\n",
    "#### Indexing is used to get individual element\n",
    "#### Slicing is used to get sequence of element(s).\n",
    "\n",
    "#### Indexing starts from 0 index.\n",
    "#### Slicing is range of index(s)"
   ]
  },
  {
   "cell_type": "markdown",
   "id": "c745e589",
   "metadata": {},
   "source": [
    "# Question 5\n",
    "#### What happens if one of the slicing expression's indexes is out of range?"
   ]
  },
  {
   "cell_type": "markdown",
   "id": "9b357ad7",
   "metadata": {},
   "source": [
    "# Answer 5\n",
    "#### It'll result into into empty string output instead of error"
   ]
  },
  {
   "cell_type": "markdown",
   "id": "60b3a1f5",
   "metadata": {},
   "source": [
    "# Question 6\n",
    "#### If you pass a list to a function, and if you want the function to be able to change the values of the list—so that the list is different after the function returns—what action should you avoid?"
   ]
  },
  {
   "cell_type": "markdown",
   "id": "424800d7",
   "metadata": {},
   "source": [
    "# Answer 6\n",
    "#### If such is a case then One should avoid modification into original list object which has been passed inside function.\n",
    "#### Because in python, list is a mutable object hence any modification into original list object will be visible outside of function as well.\n",
    "#### That way we should create a separate list object by making copy of orginal and perform operation upon it so that we can keep original data intact."
   ]
  },
  {
   "cell_type": "markdown",
   "id": "841f37ea",
   "metadata": {},
   "source": [
    "# Question 7\n",
    "#### What is the concept of an unbalanced matrix?"
   ]
  },
  {
   "cell_type": "markdown",
   "id": "1717434d",
   "metadata": {},
   "source": [
    "# Answer 7\n",
    "#### A matrix is balanced if all cells in the matrix are balanced and a cell of the matrix is balanced if the number of cells in that matrix that are adjacent to that cell is strictly greater than the value written in this cell. \n",
    "#### Adjacent cell means cells in the top, down, left, and right cell of each cell if it exists. \n",
    "#### If above condition is not satisfied then such matrix is called 'Unbalanced'."
   ]
  },
  {
   "cell_type": "markdown",
   "id": "312f353c",
   "metadata": {},
   "source": [
    "# Question 8\n",
    "#### Why is it necessary to use either list comprehension or a loop to create arbitrarily large matrices?"
   ]
  },
  {
   "cell_type": "markdown",
   "id": "7ec62149",
   "metadata": {},
   "source": [
    "# Answer 8\n",
    "#### In order to create large matrices, we need a loop mechanism which is also faster approach as well.\n",
    "#### In terms of execution time , List comprehensions are often faster and easier to read, but they have one significant limitation. What happens if you want to execute more than one simple instruction? List comprehension can’t accept multiple statements (without sacrificing readability). But in many cases, you can wrap those multiple statements in a function.\n",
    "#### Hence for such case, It will be better to use simple loop approach."
   ]
  }
 ],
 "metadata": {
  "kernelspec": {
   "display_name": "Python 3 (ipykernel)",
   "language": "python",
   "name": "python3"
  },
  "language_info": {
   "codemirror_mode": {
    "name": "ipython",
    "version": 3
   },
   "file_extension": ".py",
   "mimetype": "text/x-python",
   "name": "python",
   "nbconvert_exporter": "python",
   "pygments_lexer": "ipython3",
   "version": "3.9.7"
  }
 },
 "nbformat": 4,
 "nbformat_minor": 5
}
