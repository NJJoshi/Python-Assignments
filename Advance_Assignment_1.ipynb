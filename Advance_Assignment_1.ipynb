{
 "cells": [
  {
   "cell_type": "markdown",
   "id": "df997a21",
   "metadata": {},
   "source": [
    "# Question 1\n",
    "#### What is the purpose of Python's OOP?"
   ]
  },
  {
   "cell_type": "markdown",
   "id": "9632bc0d",
   "metadata": {},
   "source": [
    "# Answer 1\n",
    "#### The main purpose of Python's OOPs concept is to bind the data and the functions that work on that together as a single unit so that no other part of the code can access this data. "
   ]
  },
  {
   "cell_type": "markdown",
   "id": "6a64b76d",
   "metadata": {},
   "source": [
    "# Question 2\n",
    "#### Where does an inheritance search look for an attribute?"
   ]
  },
  {
   "cell_type": "markdown",
   "id": "e0401cb2",
   "metadata": {},
   "source": [
    "# Answer 2\n",
    "#### Python searches the namespace tree at and above object, for the first attr it can find. Python searches upward in this tree from instances to superclasses, each time you use qualification to fetch an attribute name from an instance object."
   ]
  },
  {
   "cell_type": "markdown",
   "id": "1fcfca00",
   "metadata": {},
   "source": [
    "# Question 3\n",
    "#### How do you distinguish between a class object and an instance object ?"
   ]
  },
  {
   "cell_type": "markdown",
   "id": "e4d9dd61",
   "metadata": {},
   "source": [
    "# Answer 3\n",
    "#### Class is template for declaring and creating an object. A Object is a instance of class.\n",
    "#### Class can be declare like \n",
    "#### class car:\n",
    "####   def __init__(self):\n",
    "####         pass\n",
    "#### Object can be created as \n",
    "#### bmw = car()"
   ]
  },
  {
   "cell_type": "markdown",
   "id": "d57e2639",
   "metadata": {},
   "source": [
    "# Question 4\n",
    "#### What makes the first argument in a class’s method function special?"
   ]
  },
  {
   "cell_type": "markdown",
   "id": "46fc66d1",
   "metadata": {},
   "source": [
    "# Answer 4\n",
    "#### It's a reference to class itself. Usually we can name it as we want but usually we named it as 'self'. It will useful for getting access to class variable(s)."
   ]
  },
  {
   "cell_type": "markdown",
   "id": "01483efc",
   "metadata": {},
   "source": [
    "# Question 5\n",
    "#### What is the purpose of the __init__ method ?"
   ]
  },
  {
   "cell_type": "markdown",
   "id": "c67f1db0",
   "metadata": {},
   "source": [
    "# Answer 5\n",
    "#### It's acting like a constructor so that while creating object we can define rule or initialise mandatory variable(s) at the time of object creation. "
   ]
  },
  {
   "cell_type": "markdown",
   "id": "06d67bca",
   "metadata": {},
   "source": [
    "# Question 6\n",
    "#### What is the process for creating a class instance?"
   ]
  },
  {
   "cell_type": "markdown",
   "id": "a88c5f42",
   "metadata": {},
   "source": [
    "# Answer 6\n",
    "#### In order to access variable(s) and method(s) defined inside class template, we need to create class instance. so that with help of instance variable, one can execute method(s) defined inside class template."
   ]
  },
  {
   "cell_type": "markdown",
   "id": "27737514",
   "metadata": {},
   "source": [
    "# Question 7\n",
    "#### What is the process for creating a class?"
   ]
  },
  {
   "cell_type": "markdown",
   "id": "38b22f8a",
   "metadata": {},
   "source": [
    "# Answer 7\n",
    "#### we just need to declare class template as follow:\n",
    "####    class car:\n",
    "####         def __init__(self):\n",
    "####                 pass\n",
    "#### This will create a class called 'car'"
   ]
  },
  {
   "cell_type": "markdown",
   "id": "13ad9531",
   "metadata": {},
   "source": [
    "# Question 8\n",
    "#### How would you define the superclasses of a class?"
   ]
  },
  {
   "cell_type": "markdown",
   "id": "1361fa29",
   "metadata": {},
   "source": [
    "# Answer 8\n",
    "#### we declare superclass inside '()' of a class declare which is shown as below\n",
    "#### class person(object):\n",
    "####   pass\n",
    "#### Here 'Object' is a superclass and 'person' is a subclass."
   ]
  },
  {
   "cell_type": "code",
   "execution_count": null,
   "id": "218c0835",
   "metadata": {},
   "outputs": [],
   "source": []
  }
 ],
 "metadata": {
  "kernelspec": {
   "display_name": "Python 3 (ipykernel)",
   "language": "python",
   "name": "python3"
  },
  "language_info": {
   "codemirror_mode": {
    "name": "ipython",
    "version": 3
   },
   "file_extension": ".py",
   "mimetype": "text/x-python",
   "name": "python",
   "nbconvert_exporter": "python",
   "pygments_lexer": "ipython3",
   "version": "3.9.7"
  }
 },
 "nbformat": 4,
 "nbformat_minor": 5
}
