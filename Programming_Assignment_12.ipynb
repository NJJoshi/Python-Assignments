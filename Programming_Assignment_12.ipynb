{
 "cells": [
  {
   "cell_type": "markdown",
   "id": "d47daef9",
   "metadata": {},
   "source": [
    "# Question 1\n",
    "#### Write a Python program to Extract Unique values dictionary values?"
   ]
  },
  {
   "cell_type": "markdown",
   "id": "cfd96f1a",
   "metadata": {},
   "source": [
    "# Answer 1"
   ]
  },
  {
   "cell_type": "code",
   "execution_count": 1,
   "id": "05d91c25",
   "metadata": {},
   "outputs": [
    {
     "name": "stdout",
     "output_type": "stream",
     "text": [
      "Unique values from dictionary values: [1, 2, 3, 4, 5, 6, 7, 8, 9]\n"
     ]
    }
   ],
   "source": [
    "from itertools import chain\n",
    "\n",
    "def extract_unique_values_dict(my_dict):\n",
    "    return list(sorted(set(chain(*my_dict.values()))))\n",
    "\n",
    "def main():\n",
    "    my_dict = {'a':[1,2,3,4], \n",
    "                'b':[3,4,5,6,7],\n",
    "                'c':[4,5,6,7,8,9]}\n",
    "    my_unique_values = extract_unique_values_dict(my_dict)\n",
    "    print('Unique values from dictionary values:', my_unique_values)\n",
    "\n",
    "main()"
   ]
  },
  {
   "cell_type": "markdown",
   "id": "783d7eac",
   "metadata": {},
   "source": [
    "# Question 2\n",
    "#### 2.\tWrite a Python program to find the sum of all items in a dictionary"
   ]
  },
  {
   "cell_type": "markdown",
   "id": "4b7ebb60",
   "metadata": {},
   "source": [
    "# Answer 2"
   ]
  },
  {
   "cell_type": "code",
   "execution_count": 2,
   "id": "5548961d",
   "metadata": {},
   "outputs": [
    {
     "name": "stdout",
     "output_type": "stream",
     "text": [
      "Sum of all dictionary values: 830\n"
     ]
    }
   ],
   "source": [
    "def sum_dict_values(my_dict):\n",
    "    sum = 0\n",
    "    for i in my_dict:\n",
    "        sum += my_dict[i]\n",
    "    return sum\n",
    "\n",
    "def main():\n",
    "    my_dict = {'a': 110, 'b': 220, 'c': 500}\n",
    "    print('Sum of all dictionary values:', sum_dict_values(my_dict))\n",
    "\n",
    "main()"
   ]
  },
  {
   "cell_type": "markdown",
   "id": "45035e2e",
   "metadata": {},
   "source": [
    "# Question 3\n",
    "#### Write a Python program to Merging two Dictionaries"
   ]
  },
  {
   "cell_type": "markdown",
   "id": "102f1787",
   "metadata": {},
   "source": [
    "# Answer 3"
   ]
  },
  {
   "cell_type": "code",
   "execution_count": 7,
   "id": "4d105340",
   "metadata": {},
   "outputs": [
    {
     "name": "stdout",
     "output_type": "stream",
     "text": [
      "Merged result: {'a': 11, 'b': 12, 'c': 15, 'd': 16}\n"
     ]
    }
   ],
   "source": [
    "def merge_dict(dict1, dict2):\n",
    "    #dict1.update(dict2)\n",
    "    return dict1 | dict2\n",
    "\n",
    "def main():\n",
    "    dict1 = {'a': 11, 'b': 12}\n",
    "    dict2 = {'c': 15, 'd': 16}\n",
    "    #merge_dict(dict1, dict2)\n",
    "    print('Merged result:', merge_dict(dict1, dict2))\n",
    "\n",
    "main()"
   ]
  },
  {
   "cell_type": "markdown",
   "id": "b4d9f432",
   "metadata": {},
   "source": [
    "# Question 4\n",
    "#### Write a Python program to convert key-values list to flat dictionary"
   ]
  },
  {
   "cell_type": "markdown",
   "id": "e288da9e",
   "metadata": {},
   "source": [
    "# Answer 4"
   ]
  },
  {
   "cell_type": "code",
   "execution_count": 19,
   "id": "2e26a828",
   "metadata": {},
   "outputs": [
    {
     "name": "stdout",
     "output_type": "stream",
     "text": [
      "Flatten dictionary is: {1: 'Jan', 2: 'Feb', 3: 'March'}\n"
     ]
    }
   ],
   "source": [
    "\n",
    "def get_flat_dict(test_dict):\n",
    "    result = dict(zip(*(test_dict.values())))\n",
    "    return result\n",
    "\n",
    "\n",
    "def main():\n",
    "    test_dict = {'month' : [1, 2, 3],\n",
    "             'name' : ['Jan', 'Feb', 'March']}\n",
    "    flatten_dict = get_flat_dict(test_dict)\n",
    "    print('Flatten dictionary is:', flatten_dict)\n",
    "\n",
    "    \n",
    "main()"
   ]
  },
  {
   "cell_type": "markdown",
   "id": "0a0280b8",
   "metadata": {},
   "source": [
    "# Question 5\n",
    "#### Write a Python program to insertion at the beginning in OrderedDict"
   ]
  },
  {
   "cell_type": "markdown",
   "id": "2f3e65fa",
   "metadata": {},
   "source": [
    "# Answer 5"
   ]
  },
  {
   "cell_type": "code",
   "execution_count": 4,
   "id": "e5409374",
   "metadata": {},
   "outputs": [
    {
     "name": "stdout",
     "output_type": "stream",
     "text": [
      "Intermediate result: OrderedDict([('a', 1), ('b', 2), ('c', 3)])\n",
      "Final result: OrderedDict([('c', 3), ('a', 1), ('b', 2)])\n"
     ]
    }
   ],
   "source": [
    "from collections import OrderedDict\n",
    "\n",
    "\n",
    "def main(): \n",
    "    iniordered_dict = OrderedDict([('a',1), ('b',2)])\n",
    "    iniordered_dict.update({'c':3})\n",
    "    iniordered_dict.move_to_end('c', last=False)\n",
    "    print('Final result:', str(iniordered_dict))\n",
    "    \n",
    "    \n",
    "main()"
   ]
  },
  {
   "cell_type": "markdown",
   "id": "e3f94055",
   "metadata": {},
   "source": [
    "# Question 6\n",
    "#### Write a Python program to check order of character in string using OrderedDict()"
   ]
  },
  {
   "cell_type": "markdown",
   "id": "0c5b97c4",
   "metadata": {},
   "source": [
    "# Answer 6"
   ]
  },
  {
   "cell_type": "code",
   "execution_count": 6,
   "id": "63052a39",
   "metadata": {},
   "outputs": [
    {
     "name": "stdout",
     "output_type": "stream",
     "text": [
      "Please enter string:Engineer\n",
      "Please enter pattern we want to find occurance:er\n",
      "Order is present\n"
     ]
    }
   ],
   "source": [
    "from collections import OrderedDict\n",
    "\n",
    "def check_order(input_str, pattern_str):\n",
    "    my_dict = OrderedDict.fromkeys(input_str)\n",
    "    ptrlen = 0\n",
    "    \n",
    "    for key,val in my_dict.items():\n",
    "        if(key == pattern_str[ptrlen]):\n",
    "            ptrlen += 1\n",
    "        if(ptrlen == len(pattern_str)):\n",
    "            return True\n",
    "    return False\n",
    "\n",
    "def main():\n",
    "    input_str = input('Please enter string:')\n",
    "    input_pattern = input('Please enter pattern we want to find occurance:')\n",
    "    print('Order is present' if check_order(input_str, input_pattern) else 'Order is not present')\n",
    "    \n",
    "main()"
   ]
  },
  {
   "cell_type": "markdown",
   "id": "c48c2628",
   "metadata": {},
   "source": [
    "# Question 7\n",
    "#### Write a Python program to sort Python Dictionaries by Key or Value"
   ]
  },
  {
   "cell_type": "markdown",
   "id": "78740dff",
   "metadata": {},
   "source": [
    "# Answer 7"
   ]
  },
  {
   "cell_type": "code",
   "execution_count": 9,
   "id": "7165701a",
   "metadata": {},
   "outputs": [
    {
     "name": "stdout",
     "output_type": "stream",
     "text": [
      "Sorted by key-value: OrderedDict([('rajnish', '9'), ('ravi', '10'), ('sanjeev', '15'), ('suraj', '32'), ('yash', '2')])\n"
     ]
    }
   ],
   "source": [
    "from collections import OrderedDict\n",
    "\n",
    "def sortby_key_value(my_dict):\n",
    "    my_sorted_dict = OrderedDict(sorted(my_dict.items()))\n",
    "    return my_sorted_dict\n",
    "\n",
    "def main():\n",
    "    my_dict = {'ravi':'10','rajnish':'9','sanjeev':'15','yash':'2','suraj':'32'}\n",
    "    print('Sorted by key-value:', str(sortby_key_value(my_dict)))\n",
    "\n",
    "main()"
   ]
  }
 ],
 "metadata": {
  "kernelspec": {
   "display_name": "Python 3 (ipykernel)",
   "language": "python",
   "name": "python3"
  },
  "language_info": {
   "codemirror_mode": {
    "name": "ipython",
    "version": 3
   },
   "file_extension": ".py",
   "mimetype": "text/x-python",
   "name": "python",
   "nbconvert_exporter": "python",
   "pygments_lexer": "ipython3",
   "version": "3.9.7"
  }
 },
 "nbformat": 4,
 "nbformat_minor": 5
}
