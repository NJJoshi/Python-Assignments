{
 "cells": [
  {
   "cell_type": "markdown",
   "id": "a7740db0",
   "metadata": {},
   "source": [
    "# Question 1\n",
    "#### What is the difference between \"__getattr__\" and \"__getattribute__\"?"
   ]
  },
  {
   "cell_type": "markdown",
   "id": "f9cdb2fb",
   "metadata": {},
   "source": [
    "# Answer 1\n",
    "#### getattribute: It's used to retrieve an attribute from instance. It capture every attempt to access an instance attribute by using dot notation.\n",
    "#### getattr: It is executed as the last resource when attribute is not found in object."
   ]
  },
  {
   "cell_type": "markdown",
   "id": "75c49685",
   "metadata": {},
   "source": [
    "# Question 2\n",
    "#### What is the difference between properties and descriptors?"
   ]
  },
  {
   "cell_type": "markdown",
   "id": "9b163965",
   "metadata": {},
   "source": [
    "# Answer 2\n",
    "#### descriptors are a low-level mechanism that lets you hook into an object's attributes being accessed. \n",
    "#### Properties are a high-level application of this which is, properties are implemented using descriptors OR better yet, properties are descriptors that are already provided for you in the standard library"
   ]
  },
  {
   "cell_type": "markdown",
   "id": "2973ea0d",
   "metadata": {},
   "source": [
    "# Question 3\n",
    "#### What are the key differences in functionality between __getattr__ and __getattribute__, as well as properties and descriptors?"
   ]
  },
  {
   "cell_type": "markdown",
   "id": "16d5a752",
   "metadata": {},
   "source": [
    "# Answer 3\n",
    "#### A key difference between __getattr__ and __getattribute__ is that\n",
    "#### - __getattr__ is only invoked if the attribute wasn't found the usual ways. It's good for implementing a fallback for missing attributes, and is probably the one of two you want.\n",
    "#### - __getattribute__ is invoked before looking at the actual attributes on the object, and so can be tricky to implement correctly. You can end up in infinite recursions very easily.\n",
    "\n",
    "#### A key diiference between properties and descriptors is \n",
    "#### - The most accessible technique is to use the property function to define get, set and delete methods associated with an attribute name. The property function builds descriptors for you\n",
    "#### - A slightly less accessible, but more extensible and reusable technique is to define descriptor classes yourself. This allows you considerable flexibility. You do this by creating a class which defines get, set and delete methods, and you associate your descriptor class with an attribute name."
   ]
  }
 ],
 "metadata": {
  "kernelspec": {
   "display_name": "Python 3 (ipykernel)",
   "language": "python",
   "name": "python3"
  },
  "language_info": {
   "codemirror_mode": {
    "name": "ipython",
    "version": 3
   },
   "file_extension": ".py",
   "mimetype": "text/x-python",
   "name": "python",
   "nbconvert_exporter": "python",
   "pygments_lexer": "ipython3",
   "version": "3.9.7"
  }
 },
 "nbformat": 4,
 "nbformat_minor": 5
}
