{
 "cells": [
  {
   "cell_type": "markdown",
   "id": "28f7d19d",
   "metadata": {},
   "source": [
    "# Question 1\n",
    "#### How many seconds are in an hour? Use the interactive interpreter as a calculator and multiply the number of seconds in a minute (60) by the number of minutes in an hour (also 60)."
   ]
  },
  {
   "cell_type": "markdown",
   "id": "bb8b1275",
   "metadata": {},
   "source": [
    "# Answer 1\n",
    "#### 3600 secs into an hour"
   ]
  },
  {
   "cell_type": "markdown",
   "id": "25445655",
   "metadata": {},
   "source": [
    "# Question 2\n",
    "#### Assign the result from the previous task (seconds in an hour) to a variable called seconds_per_hour."
   ]
  },
  {
   "cell_type": "markdown",
   "id": "1a4e25c3",
   "metadata": {},
   "source": [
    "# Answer 2\n",
    "    seconds_per_hour = 60 * 60"
   ]
  },
  {
   "cell_type": "markdown",
   "id": "a3f4e376",
   "metadata": {},
   "source": [
    "# Question 3\n",
    "#### How many seconds do you think there are in a day? Make use of the variables seconds per hour and minutes per hour."
   ]
  },
  {
   "cell_type": "markdown",
   "id": "8ee3c703",
   "metadata": {},
   "source": [
    "# Answer 3\n",
    "#### It will show as below:\n",
    "    seconds_per_minute = 60\n",
    "    seconds_per_hour = seconds_per_minute * 60\n",
    "    secounds_per_day = seconds_per_hour * 24"
   ]
  },
  {
   "cell_type": "markdown",
   "id": "b08e7580",
   "metadata": {},
   "source": [
    "# Question 4\n",
    "#### Calculate seconds per day again, but this time save the result in a variable called seconds_per_day"
   ]
  },
  {
   "cell_type": "markdown",
   "id": "36faa18f",
   "metadata": {},
   "source": [
    "# Answer 4\n",
    "    seconds_per_minute = 60\n",
    "    seconds_per_hour = seconds_per_minute * 60\n",
    "    secounds_per_day = seconds_per_hour * 24"
   ]
  },
  {
   "cell_type": "markdown",
   "id": "91bc1937",
   "metadata": {},
   "source": [
    "# Question 5\n",
    "#### Divide seconds_per_day by seconds_per_hour. Use floating-point (/) division."
   ]
  },
  {
   "cell_type": "markdown",
   "id": "dc9cd153",
   "metadata": {},
   "source": [
    "# Answer 5\n",
    "#### It will done as mentioned below:\n",
    "    result = seconds_per_day/seconds_per_hour"
   ]
  },
  {
   "cell_type": "markdown",
   "id": "50eaf407",
   "metadata": {},
   "source": [
    "# Question 6\n",
    "#### Divide seconds_per_day by seconds_per_hour, using integer (//) division. Did this number agree with the floating-point value from the previous question, aside from the final .0?"
   ]
  },
  {
   "cell_type": "markdown",
   "id": "ab4172f7",
   "metadata": {},
   "source": [
    "# Answer 6\n",
    "#### It will return Boolean value 'True' when we perform below mentioned operation:\n",
    "    result = (seconds_per_day//seconds_per_hour)\n",
    "    print(result == 0.0)"
   ]
  },
  {
   "cell_type": "markdown",
   "id": "9e97031a",
   "metadata": {},
   "source": [
    "# Question 7\n",
    "#### Write a generator, genPrimes, that returns the sequence of prime numbers on successive calls to its next() method: 2, 3, 5, 7, 11, ..."
   ]
  },
  {
   "cell_type": "markdown",
   "id": "2bda710e",
   "metadata": {},
   "source": [
    "# Answer 7\n",
    "#### Code to generate prime function is as below:\n",
    "    def prime_generator(end):\n",
    "        for n in range(2,end):\n",
    "            for i in range(2,n):\n",
    "                if n % i == 0 :\n",
    "                    break\n",
    "                else:\n",
    "                        yield n\n",
    "    \n",
    "    my_prime_nos= prime_generator(1000)\n",
    "    print(list(my_prime_nos))"
   ]
  }
 ],
 "metadata": {
  "kernelspec": {
   "display_name": "Python 3 (ipykernel)",
   "language": "python",
   "name": "python3"
  },
  "language_info": {
   "codemirror_mode": {
    "name": "ipython",
    "version": 3
   },
   "file_extension": ".py",
   "mimetype": "text/x-python",
   "name": "python",
   "nbconvert_exporter": "python",
   "pygments_lexer": "ipython3",
   "version": "3.9.7"
  }
 },
 "nbformat": 4,
 "nbformat_minor": 5
}
