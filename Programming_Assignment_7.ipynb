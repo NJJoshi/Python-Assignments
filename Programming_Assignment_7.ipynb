{
 "cells": [
  {
   "cell_type": "markdown",
   "id": "18b15c81",
   "metadata": {},
   "source": [
    "# Question 1\n",
    "#### Write a Python Program to find sum of array"
   ]
  },
  {
   "cell_type": "markdown",
   "id": "b453f800",
   "metadata": {},
   "source": [
    "# Answer 1"
   ]
  },
  {
   "cell_type": "code",
   "execution_count": 1,
   "id": "c92b078d",
   "metadata": {},
   "outputs": [
    {
     "name": "stdout",
     "output_type": "stream",
     "text": [
      "Enter number of Elements:3\n",
      "1\n",
      "2\n",
      "3\n",
      "Provided input list is: [1, 2, 3]\n",
      "Sum of list element is : 6\n"
     ]
    }
   ],
   "source": [
    "def sum_list(arr):\n",
    "    sum = 0\n",
    "    for i in arr:\n",
    "        sum += i\n",
    "    return sum\n",
    "\n",
    "def main():\n",
    "    lst = []\n",
    "    n = int(input('Enter number of Elements:'))\n",
    "    for i in range(0, n):\n",
    "        element = int(input())\n",
    "        lst.append(element)\n",
    "    print('Provided input list is:', lst)\n",
    "    print('Sum of list element is :',sum_list(lst))\n",
    "\n",
    "main()"
   ]
  },
  {
   "cell_type": "markdown",
   "id": "b49fe259",
   "metadata": {},
   "source": [
    "# Question 2\n",
    "#### Write a Python Program to find largest element in an array"
   ]
  },
  {
   "cell_type": "markdown",
   "id": "fee11b12",
   "metadata": {},
   "source": [
    "# Answer 2"
   ]
  },
  {
   "cell_type": "code",
   "execution_count": 2,
   "id": "46543ebb",
   "metadata": {},
   "outputs": [
    {
     "name": "stdout",
     "output_type": "stream",
     "text": [
      "Enter number of Elements:5\n",
      "21\n",
      "34\n",
      "55\n",
      "66\n",
      "1\n",
      "Provided input list is: [21, 34, 55, 66, 1]\n",
      "Maximum number from list is : 66\n"
     ]
    }
   ],
   "source": [
    "def max_element_from_list(arr):\n",
    "    max = arr[0]\n",
    "    for i in range(0, len(arr)):\n",
    "        if arr[i] > max:\n",
    "            max = arr[i]\n",
    "    return max\n",
    "\n",
    "def main():\n",
    "    lst = []\n",
    "    n = int(input('Enter number of Elements:'))\n",
    "    for i in range(0, n):\n",
    "        element = int(input())\n",
    "        lst.append(element)\n",
    "    print('Provided input list is:', lst)\n",
    "    print('Maximum number from list is :',max_element_from_list(lst))\n",
    "\n",
    "main()"
   ]
  },
  {
   "cell_type": "markdown",
   "id": "cb044340",
   "metadata": {},
   "source": [
    "# Question 3\n",
    "#### Write a Python Program for array rotation"
   ]
  },
  {
   "cell_type": "markdown",
   "id": "3b16e266",
   "metadata": {},
   "source": [
    "# Answer 3"
   ]
  },
  {
   "cell_type": "code",
   "execution_count": 11,
   "id": "daac0581",
   "metadata": {},
   "outputs": [
    {
     "name": "stdout",
     "output_type": "stream",
     "text": [
      "Enter number of Elements:5\n",
      "1\n",
      "2\n",
      "3\n",
      "4\n",
      "5\n",
      "Provided input list is: [1, 2, 3, 4, 5]\n",
      "Array after left rotation is:  [4, 5, 1, 2, 3]\n"
     ]
    }
   ],
   "source": [
    "def rotate_array(arr, total_length, rotation_by):\n",
    "    result = arr[rotation_by:]\n",
    "    result += arr[:rotation_by]        \n",
    "    return result\n",
    "\n",
    "def main():\n",
    "    lst = []\n",
    "    n = int(input('Enter number of Elements:'))\n",
    "    for i in range(0, n):\n",
    "        element = int(input())\n",
    "        lst.append(element)\n",
    "    print('Provided input list is:', lst)\n",
    "    print(\"Array after left rotation is: \", end=' ')\n",
    "    print(rotate_array(lst, len(lst), 3))\n",
    "\n",
    "main()"
   ]
  },
  {
   "cell_type": "markdown",
   "id": "504993cb",
   "metadata": {},
   "source": [
    "# Question 4\n",
    "#### Write a Python Program to Split the array and add the first part to the end"
   ]
  },
  {
   "cell_type": "markdown",
   "id": "65803455",
   "metadata": {},
   "source": [
    "# Answer 4"
   ]
  },
  {
   "cell_type": "code",
   "execution_count": 14,
   "id": "bd6afac9",
   "metadata": {},
   "outputs": [
    {
     "name": "stdout",
     "output_type": "stream",
     "text": [
      "Enter number of Elements:6\n",
      "Enter Split by factor:2\n",
      "1\n",
      "2\n",
      "3\n",
      "4\n",
      "5\n",
      "6\n",
      "Provided input list is: [1, 2, 3, 4, 5, 6]\n",
      "Final result is: [3, 4, 5, 6, 1, 2]\n"
     ]
    }
   ],
   "source": [
    "def splitArr(arr, total_length, split_by): \n",
    "   b = arr[:split_by]\n",
    "   return (arr[split_by::]+b[::])\n",
    "\n",
    "def main():\n",
    "    lst = []\n",
    "    split_by = 1\n",
    "    n = int(input('Enter number of Elements:'))\n",
    "    split_by = int(input('Enter Split by factor:'))\n",
    "    for i in range(0, n):\n",
    "        element = int(input())\n",
    "        lst.append(element)\n",
    "    print('Provided input list is:', lst)\n",
    "    print('Final result is:', splitArr(lst, n, split_by))\n",
    "\n",
    "main()"
   ]
  },
  {
   "cell_type": "markdown",
   "id": "30c48531",
   "metadata": {},
   "source": [
    "# Question 5\n",
    "#### Write a Python Program to check if given array is Monotonic"
   ]
  },
  {
   "cell_type": "markdown",
   "id": "e48db45e",
   "metadata": {},
   "source": [
    "# Answer 5"
   ]
  },
  {
   "cell_type": "code",
   "execution_count": 16,
   "id": "77aa7d2c",
   "metadata": {},
   "outputs": [
    {
     "name": "stdout",
     "output_type": "stream",
     "text": [
      "Enter number of Elements:5\n",
      "1\n",
      "4\n",
      "2\n",
      "3\n",
      "11\n",
      "Provided input list is: [1, 4, 2, 3, 11]\n",
      "Is provided list input monotonic ? ( False )\n"
     ]
    }
   ],
   "source": [
    "def isMonotonic(A):\n",
    "  \n",
    "    return (all(A[i] <= A[i + 1] for i in range(len(A) - 1)) or\n",
    "            all(A[i] >= A[i + 1] for i in range(len(A) - 1)))\n",
    "\n",
    "def main():\n",
    "    lst = []\n",
    "    n = int(input('Enter number of Elements:'))\n",
    "    for i in range(0, n):\n",
    "        element = int(input())\n",
    "        lst.append(element)\n",
    "    print('Provided input list is:', lst)\n",
    "    print('Is provided list input monotonic ? (', isMonotonic(lst), ')')\n",
    "\n",
    "main()"
   ]
  }
 ],
 "metadata": {
  "kernelspec": {
   "display_name": "Python 3 (ipykernel)",
   "language": "python",
   "name": "python3"
  },
  "language_info": {
   "codemirror_mode": {
    "name": "ipython",
    "version": 3
   },
   "file_extension": ".py",
   "mimetype": "text/x-python",
   "name": "python",
   "nbconvert_exporter": "python",
   "pygments_lexer": "ipython3",
   "version": "3.9.7"
  }
 },
 "nbformat": 4,
 "nbformat_minor": 5
}
