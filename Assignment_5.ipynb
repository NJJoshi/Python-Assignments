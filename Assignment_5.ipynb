{
 "cells": [
  {
   "cell_type": "code",
   "execution_count": 1,
   "id": "7552e14d",
   "metadata": {},
   "outputs": [],
   "source": [
    "## Question 1\n",
    "## What does an empty dictionary's code look like?\n",
    "##"
   ]
  },
  {
   "cell_type": "code",
   "execution_count": 2,
   "id": "65d6ee94",
   "metadata": {},
   "outputs": [],
   "source": [
    "## Answer 1\n",
    "## {}\n",
    "##"
   ]
  },
  {
   "cell_type": "code",
   "execution_count": 3,
   "id": "f941590c",
   "metadata": {},
   "outputs": [],
   "source": [
    "## Question 2\n",
    "## What is the value of a dictionary value with the key 'foo' and the value 42?\n",
    "##"
   ]
  },
  {
   "cell_type": "code",
   "execution_count": 4,
   "id": "f79db137",
   "metadata": {},
   "outputs": [],
   "source": [
    "## Answer 2\n",
    "##  [42]\n",
    "##"
   ]
  },
  {
   "cell_type": "code",
   "execution_count": 5,
   "id": "c89ee256",
   "metadata": {},
   "outputs": [],
   "source": [
    "## Question 3\n",
    "## What is the most significant distinction between a dictionary and a list?\n",
    "##"
   ]
  },
  {
   "cell_type": "code",
   "execution_count": 6,
   "id": "13da96e8",
   "metadata": {},
   "outputs": [],
   "source": [
    "## Answer 3\n",
    "## List is like array in other language which contains data in order of insertion and it's mutable.\n",
    "## Dictionary is unordered key-value pair based collection.\n",
    "##"
   ]
  },
  {
   "cell_type": "code",
   "execution_count": 7,
   "id": "0b922cf6",
   "metadata": {},
   "outputs": [],
   "source": [
    "## Question 4\n",
    "## What happens if you try to access spam['foo'] if spam is {'bar': 100}?\n",
    "## "
   ]
  },
  {
   "cell_type": "code",
   "execution_count": 8,
   "id": "45d360be",
   "metadata": {},
   "outputs": [],
   "source": [
    "## Answer 4\n",
    "## It will result into KeyError because spam do not contain any key known as 'foo'\n",
    "##"
   ]
  },
  {
   "cell_type": "code",
   "execution_count": 9,
   "id": "4ac709e6",
   "metadata": {},
   "outputs": [],
   "source": [
    "## Question 5\n",
    "## If a dictionary is stored in spam, what is the difference between the expressions 'cat' in spam and 'cat' in spam.keys()?\n",
    "##"
   ]
  },
  {
   "cell_type": "code",
   "execution_count": 10,
   "id": "f732c7f3",
   "metadata": {},
   "outputs": [],
   "source": [
    "## Answer 5\n",
    "## 'cat' is a key to represent value 42. hence expression 'cat' in spam will result into fetching respective value against key 'cat'.\n",
    "## Only spam.keys() call will fetch only keys inside spam dictionary.\n",
    "##"
   ]
  },
  {
   "cell_type": "code",
   "execution_count": 11,
   "id": "eae026b2",
   "metadata": {},
   "outputs": [],
   "source": [
    "## Question 6\n",
    "## If a dictionary is stored in spam, what is the difference between the expressions 'cat' in spam and 'cat' in spam.values()?\n",
    "##"
   ]
  },
  {
   "cell_type": "code",
   "execution_count": 12,
   "id": "e6af6958",
   "metadata": {},
   "outputs": [],
   "source": [
    "## Answer 6\n",
    "## 'cat' is a key to represent value 42. hence expression 'cat' in spam will result into fetching respective value against key 'cat'.\n",
    "## spam.values() will retrieve all values stored inside spam dictionary.\n",
    "##"
   ]
  },
  {
   "cell_type": "code",
   "execution_count": 13,
   "id": "cd064e4c",
   "metadata": {},
   "outputs": [],
   "source": [
    "## Question 7\n",
    "## What is a shortcut for the following code?\n",
    "## if 'color' not in spam:\n",
    "##   spam['color'] = 'black'\n",
    "##"
   ]
  },
  {
   "cell_type": "code",
   "execution_count": 14,
   "id": "de6f7edc",
   "metadata": {},
   "outputs": [],
   "source": [
    "## Answer 7\n",
    "## spam.setdefault('color', 'black')\n",
    "##"
   ]
  },
  {
   "cell_type": "code",
   "execution_count": 15,
   "id": "9b424678",
   "metadata": {},
   "outputs": [],
   "source": [
    "## Question 8\n",
    "##\n",
    "## How do you \"pretty print\" dictionary values using which module and function?"
   ]
  },
  {
   "cell_type": "code",
   "execution_count": null,
   "id": "14f8f618",
   "metadata": {},
   "outputs": [],
   "source": [
    "## Answer 8\n",
    "## import pprint\n",
    "## pprint.pprint(spam)\n",
    "##"
   ]
  }
 ],
 "metadata": {
  "kernelspec": {
   "display_name": "Python 3 (ipykernel)",
   "language": "python",
   "name": "python3"
  },
  "language_info": {
   "codemirror_mode": {
    "name": "ipython",
    "version": 3
   },
   "file_extension": ".py",
   "mimetype": "text/x-python",
   "name": "python",
   "nbconvert_exporter": "python",
   "pygments_lexer": "ipython3",
   "version": "3.9.7"
  }
 },
 "nbformat": 4,
 "nbformat_minor": 5
}
