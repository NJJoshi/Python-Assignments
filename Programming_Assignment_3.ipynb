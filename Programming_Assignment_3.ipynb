{
 "cells": [
  {
   "cell_type": "markdown",
   "id": "df590bdf",
   "metadata": {},
   "source": [
    "# Question 1\n",
    "#### Write a Python Program to Check if a Number is Positive, Negative or Zero?"
   ]
  },
  {
   "cell_type": "markdown",
   "id": "52e85f0b",
   "metadata": {},
   "source": [
    "# Answer 1"
   ]
  },
  {
   "cell_type": "code",
   "execution_count": 9,
   "id": "77d1d562",
   "metadata": {},
   "outputs": [
    {
     "name": "stdout",
     "output_type": "stream",
     "text": [
      "Please provide valid number:0\n",
      "Number is Zero\n"
     ]
    }
   ],
   "source": [
    "def check_number(val):\n",
    "    \"\"\"\n",
    "    Funtion will going to check provided argument val is positive, negative or Zero\n",
    "    \"\"\"\n",
    "    num = 0\n",
    "    try:\n",
    "        num = int(val)\n",
    "    except ValueError as e:\n",
    "        try:\n",
    "            num = float(val)\n",
    "        except ValueError as e:\n",
    "            print('Please provide valid number value for identification')\n",
    "            return\n",
    "\n",
    "    \n",
    "    if num > 0 :\n",
    "        print('Number is positive')\n",
    "    elif num < 0:\n",
    "        print('Number is negative')\n",
    "    elif num == 0:\n",
    "        print('Number is Zero')\n",
    "\n",
    "def main():\n",
    "    input_num = input('Please provide valid number:')\n",
    "    check_number(input_num)\n",
    "\n",
    "main()"
   ]
  },
  {
   "cell_type": "markdown",
   "id": "e09b4e67",
   "metadata": {},
   "source": [
    "# Question 2\n",
    "#### Write a Python Program to Check if a Number is Odd or Even?"
   ]
  },
  {
   "cell_type": "markdown",
   "id": "0335ee51",
   "metadata": {},
   "source": [
    "# Answer 2"
   ]
  },
  {
   "cell_type": "code",
   "execution_count": 11,
   "id": "7212ff49",
   "metadata": {},
   "outputs": [
    {
     "name": "stdout",
     "output_type": "stream",
     "text": [
      "Please enter number:29\n",
      "Provide number is ODD\n"
     ]
    }
   ],
   "source": [
    "def check_odd_even(val):\n",
    "    \"\"\"\n",
    "    This function will going to check that provide value into argument is Odd or Even and print message on console\n",
    "    \"\"\"\n",
    "    try:        \n",
    "        num = int(val)\n",
    "        if num%2==0 :\n",
    "            print('Provide number is EVEN')\n",
    "        else:\n",
    "            print('Provide number is ODD')\n",
    "    except ValueError as e:\n",
    "        print('Please provided valid number for odd even check')\n",
    "        return\n",
    "\n",
    "def main():\n",
    "    input_num = input('Please enter number:')\n",
    "    check_odd_even(input_num)\n",
    "\n",
    "main()"
   ]
  },
  {
   "cell_type": "markdown",
   "id": "fde80cff",
   "metadata": {},
   "source": [
    "# Question 3\n",
    "#### Write a Python Program to Check Leap Year?"
   ]
  },
  {
   "cell_type": "markdown",
   "id": "175e5ed9",
   "metadata": {},
   "source": [
    "# Answer 3"
   ]
  },
  {
   "cell_type": "code",
   "execution_count": 24,
   "id": "bf9a672d",
   "metadata": {},
   "outputs": [
    {
     "name": "stdout",
     "output_type": "stream",
     "text": [
      "Please provide year: 2003\n",
      "Not a Leap Year\n"
     ]
    }
   ],
   "source": [
    "import calendar\n",
    "\n",
    "def checkYear(year):\n",
    "    \n",
    "    # Return true if year is a multiple\n",
    "    # of 4 and not multiple of 100.\n",
    "    # OR year is multiple of 400.\n",
    "    return(calendar.isleap(year))\n",
    " \n",
    "def main():\n",
    "    try:\n",
    "        year = int(input('Please provide year: '))\n",
    "        if year < 0 :\n",
    "            raise Exception('Invalid year value has provided')\n",
    "        if(checkYear(year)):\n",
    "            print(\"Leap Year\")\n",
    "        else:\n",
    "            print(\"Not a Leap Year\")\n",
    "    except :\n",
    "        print('Invalid value provided for year. Please provide valid value')\n",
    "\n",
    "main()"
   ]
  },
  {
   "cell_type": "markdown",
   "id": "fc3b32ba",
   "metadata": {},
   "source": [
    "# Question 4\n",
    "#### Write a Python Program to Check Prime Number"
   ]
  },
  {
   "cell_type": "markdown",
   "id": "40e4b9c7",
   "metadata": {},
   "source": [
    "# Answer 4"
   ]
  },
  {
   "cell_type": "code",
   "execution_count": 28,
   "id": "2e408783",
   "metadata": {},
   "outputs": [
    {
     "name": "stdout",
     "output_type": "stream",
     "text": [
      "Please provide number:23\n",
      "23 is prime\n"
     ]
    }
   ],
   "source": [
    "def check_prime_number(val):\n",
    "    \"\"\"\n",
    "    This function will going to take a single argument which is a integer number and it will going to check whether it's prime\n",
    "    number or not.\n",
    "    \"\"\"\n",
    "    try:\n",
    "        num = int(val)\n",
    "        for i in range(2, int(num/2) + 1):\n",
    "            if num % i == 0:\n",
    "                print(str(num) + ' is not prime')\n",
    "                return\n",
    "        else:\n",
    "            print(str(num) + ' is prime')\n",
    "            return            \n",
    "    except ValueError as e:\n",
    "        print('Provide value is not integer.')\n",
    "        return\n",
    "\n",
    "def main():\n",
    "    input_val = input('Please provide number:')\n",
    "    check_prime_number(input_val)\n",
    "\n",
    "main()"
   ]
  },
  {
   "cell_type": "markdown",
   "id": "235dadc2",
   "metadata": {},
   "source": [
    "# Question 5\n",
    "#### Write a Python Program to Print all Prime Numbers in an Interval of 1-10000"
   ]
  },
  {
   "cell_type": "markdown",
   "id": "8c0d6da4",
   "metadata": {},
   "source": [
    "# Answer 5"
   ]
  },
  {
   "cell_type": "code",
   "execution_count": 32,
   "id": "69ac49ac",
   "metadata": {},
   "outputs": [
    {
     "name": "stdout",
     "output_type": "stream",
     "text": [
      "Please enter lower value of range:0\n",
      "Please enter higher value of range:29\n",
      "[2, 3, 5, 7, 11, 13, 17, 19, 23, 29]\n"
     ]
    }
   ],
   "source": [
    "def get_all_prime_number_in_range(x,y):\n",
    "    \"\"\"\n",
    "    This function will going to accept lower bound and upper bound value into it's argument.\n",
    "    It will going to return all prime numbers present into their range.\n",
    "    \"\"\"\n",
    "    try:\n",
    "        lower_bound = int(x)\n",
    "        upper_bound = int(y)\n",
    "        prime_numbers = []\n",
    "        for i in range(lower_bound,upper_bound+1):\n",
    "            if i == 0 or i == 1 :\n",
    "                continue\n",
    "            else:\n",
    "                for j in range(2, int(i/2)+1):\n",
    "                    if i % j == 0:\n",
    "                        break\n",
    "                else:\n",
    "                    prime_numbers.append(i)\n",
    "        return prime_numbers\n",
    "    except ValueError as e:\n",
    "        print('Please provide value values for x,y')\n",
    "        return\n",
    "\n",
    "    \n",
    "def main():\n",
    "    input_x = input('Please enter lower value of range:')\n",
    "    input_y = input('Please enter higher value of range:')\n",
    "    prime_nos = get_all_prime_number_in_range(input_x, input_y)\n",
    "    print(prime_nos)\n",
    "    \n",
    "    \n",
    "main()"
   ]
  }
 ],
 "metadata": {
  "kernelspec": {
   "display_name": "Python 3 (ipykernel)",
   "language": "python",
   "name": "python3"
  },
  "language_info": {
   "codemirror_mode": {
    "name": "ipython",
    "version": 3
   },
   "file_extension": ".py",
   "mimetype": "text/x-python",
   "name": "python",
   "nbconvert_exporter": "python",
   "pygments_lexer": "ipython3",
   "version": "3.9.7"
  }
 },
 "nbformat": 4,
 "nbformat_minor": 5
}
