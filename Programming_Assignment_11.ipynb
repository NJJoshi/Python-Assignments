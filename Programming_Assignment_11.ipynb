{
 "cells": [
  {
   "cell_type": "markdown",
   "id": "78522c00",
   "metadata": {},
   "source": [
    "# Question 1\n",
    "#### Write a Python program to find words which are greater than given length k"
   ]
  },
  {
   "cell_type": "markdown",
   "id": "6f927191",
   "metadata": {},
   "source": [
    "# Answer 1"
   ]
  },
  {
   "cell_type": "code",
   "execution_count": 2,
   "id": "abb29fd5",
   "metadata": {},
   "outputs": [
    {
     "name": "stdout",
     "output_type": "stream",
     "text": [
      "Please enter string:Hi How are you doing ?\n",
      "Please enter length:2\n",
      "Final result is: ['How', 'are', 'you', 'doing']\n"
     ]
    }
   ],
   "source": [
    "def string_k(k, str):\n",
    "    strings = []\n",
    "    text = str.split(\" \")\n",
    "    for x in text :\n",
    "        if (len(x) > k) :\n",
    "            strings.append(x)\n",
    "    return strings\n",
    "\n",
    "\n",
    "def main():\n",
    "    my_input_str = input('Please enter string:')\n",
    "    my_len = int(input('Please enter length:'))\n",
    "    my_arr = string_k(my_len, my_input_str)\n",
    "    print('Final result is:', my_arr)\n",
    "    \n",
    "    \n",
    "main()"
   ]
  },
  {
   "cell_type": "markdown",
   "id": "8ddf4328",
   "metadata": {},
   "source": [
    "# Question 2\n",
    "#### Write a Python program for removing i-th character from a string"
   ]
  },
  {
   "cell_type": "markdown",
   "id": "097bd36d",
   "metadata": {},
   "source": [
    "# Answer 2"
   ]
  },
  {
   "cell_type": "code",
   "execution_count": 3,
   "id": "3254a8f6",
   "metadata": {},
   "outputs": [
    {
     "name": "stdout",
     "output_type": "stream",
     "text": [
      "Please enter string:Nirav J Joshi\n",
      "Please enter index of character which we want to delete:3\n",
      "Original input String: Nirav J Joshi\n",
      "Modified string post character deletion is: Nirv J Joshi\n"
     ]
    }
   ],
   "source": [
    "def remove_character_at_index(my_str, index):\n",
    "    custom_str = my_str[:index]\n",
    "    custom_str += my_str[index + 1:]\n",
    "    return custom_str\n",
    "\n",
    "\n",
    "def main():\n",
    "    my_str = input('Please enter string:')\n",
    "    my_idx = int(input('Please enter index of character which we want to delete:'))\n",
    "    result_str = remove_character_at_index(my_str, my_idx)\n",
    "    print('Original input String:', my_str)\n",
    "    print('Modified string post character deletion is:', result_str)\n",
    "\n",
    "    \n",
    "main()"
   ]
  },
  {
   "cell_type": "markdown",
   "id": "917c2497",
   "metadata": {},
   "source": [
    "# Question 3\n",
    "#### Write a Python program to split and join a string"
   ]
  },
  {
   "cell_type": "markdown",
   "id": "1b18bf65",
   "metadata": {},
   "source": [
    "# Answer 3"
   ]
  },
  {
   "cell_type": "code",
   "execution_count": 5,
   "id": "3d84aa88",
   "metadata": {},
   "outputs": [
    {
     "name": "stdout",
     "output_type": "stream",
     "text": [
      "Please enter a string:Hi Nirav Joshi\n",
      "Splitted string: ['Hi', 'Nirav', 'Joshi']\n",
      "Joining string: Hi-Nirav-Joshi\n"
     ]
    }
   ],
   "source": [
    "def split_string(my_str):\n",
    "    modified_str = my_str.split(\" \")\n",
    "    return modified_str\n",
    "\n",
    "def join_string(my_str):\n",
    "    modified_str = \"-\".join(my_str)\n",
    "    return modified_str\n",
    "\n",
    "def main():\n",
    "    my_str = input('Please enter a string:')\n",
    "    print('Splitted string:', split_string(my_str))\n",
    "    print('Joining string:',join_string(split_string(my_str)))\n",
    "    \n",
    "main()"
   ]
  },
  {
   "cell_type": "markdown",
   "id": "2ca8aa7b",
   "metadata": {},
   "source": [
    "# Question 4\n",
    "#### Write a Python to check if a given string is binary string or not"
   ]
  },
  {
   "cell_type": "markdown",
   "id": "304fa795",
   "metadata": {},
   "source": [
    "# Answer 4"
   ]
  },
  {
   "cell_type": "code",
   "execution_count": 9,
   "id": "6d082824",
   "metadata": {},
   "outputs": [
    {
     "name": "stdout",
     "output_type": "stream",
     "text": [
      "Please enter your string:010h\n",
      "Not Binary String\n"
     ]
    }
   ],
   "source": [
    "def check(my_str):\n",
    "    t = \"01\"\n",
    "    count = 0\n",
    "    for element in my_str:\n",
    "        if element not in t:\n",
    "            count = 1\n",
    "            break\n",
    "        else:\n",
    "            pass\n",
    "    return count == 0\n",
    "\n",
    "\n",
    "def main():\n",
    "    my_input_str = input('Please enter your string:')\n",
    "    print(\"It's Binary String\" if check(my_input_str) else \"Not Binary String\")\n",
    "\n",
    "main()"
   ]
  },
  {
   "cell_type": "markdown",
   "id": "f65b66b7",
   "metadata": {},
   "source": [
    "# Question 5\n",
    "#### Write a Python program to find uncommon words from two Strings"
   ]
  },
  {
   "cell_type": "markdown",
   "id": "81850583",
   "metadata": {},
   "source": [
    "# Answer 5"
   ]
  },
  {
   "cell_type": "code",
   "execution_count": 12,
   "id": "664e0272",
   "metadata": {},
   "outputs": [
    {
     "name": "stdout",
     "output_type": "stream",
     "text": [
      "Enter string 1:hi NJ this is test 1\n",
      "Enter string 2:hi Nirav this is test 2\n",
      "Uncommon words from both string: ['NJ', '1', 'Nirav', '2']\n"
     ]
    }
   ],
   "source": [
    "def find_uncommon_words(my_str1, my_str2):\n",
    "    words = []\n",
    "    my_lst1 = my_str1.split(\" \")\n",
    "    my_lst2 = my_str2.split(\" \")\n",
    "    for word in my_lst1:\n",
    "        if word not in my_lst2:\n",
    "            words.append(word)\n",
    "    \n",
    "    for word in my_lst2:\n",
    "        if word not in my_lst1:\n",
    "            words.append(word)\n",
    "    return words\n",
    "\n",
    "\n",
    "def main():\n",
    "    my_str1 = input('Enter string 1:')\n",
    "    my_str2 = input('Enter string 2:')\n",
    "    uncommon_words = find_uncommon_words(my_str1, my_str2)\n",
    "    print('Uncommon words from both string:', list(set(uncommon_words)))\n",
    "\n",
    "    \n",
    "main()"
   ]
  },
  {
   "cell_type": "markdown",
   "id": "44c740bf",
   "metadata": {},
   "source": [
    "# Question 6\n",
    "#### Write a Python to find all duplicate characters in string"
   ]
  },
  {
   "cell_type": "markdown",
   "id": "606ca006",
   "metadata": {},
   "source": [
    "# Answer 6"
   ]
  },
  {
   "cell_type": "code",
   "execution_count": 15,
   "id": "9d16a88b",
   "metadata": {},
   "outputs": [
    {
     "name": "stdout",
     "output_type": "stream",
     "text": [
      "Please enter string:Hi Nirav, This is test string\n",
      "Duplicate characters into strings : {'s', 'r', 'i', 't', ' '}\n"
     ]
    }
   ],
   "source": [
    "def duplicate_characters_in_string(my_str):\n",
    "    duplicate_characters = []\n",
    "    for character in my_str:\n",
    "        if (my_str.count(character) > 1) :\n",
    "            duplicate_characters.append(character)\n",
    "    return duplicate_characters\n",
    "\n",
    "def main():\n",
    "    my_input_str = input('Please enter string:')\n",
    "    print('Duplicate characters into strings :', set(duplicate_characters_in_string(my_input_str)))\n",
    "    \n",
    "main()"
   ]
  },
  {
   "cell_type": "markdown",
   "id": "10d0716d",
   "metadata": {},
   "source": [
    "# Question 7\n",
    "#### Write a Python Program to check if a string contains any special character"
   ]
  },
  {
   "cell_type": "markdown",
   "id": "13aea95a",
   "metadata": {},
   "source": [
    "# Answer 7"
   ]
  },
  {
   "cell_type": "code",
   "execution_count": null,
   "id": "f171e835",
   "metadata": {},
   "outputs": [],
   "source": [
    "import re\n",
    "\n",
    "def check_for_specific_chars(my_str):\n",
    "    regex_str = \"[@_!#$%^&*()<>?/\\|}{~:]\"\n",
    "    regex = re.compile(regex_str)\n",
    "    if(regex.search(my_str) == None):\n",
    "        print('String without special character')\n",
    "    else:\n",
    "        print('String with special character')\n",
    "\n",
    "def main():\n",
    "    my_str = input('Please provide string:')\n",
    "    check_for_specific_chars(my_str)\n",
    "    \n",
    "main()"
   ]
  },
  {
   "cell_type": "code",
   "execution_count": null,
   "id": "9837c5e7",
   "metadata": {},
   "outputs": [],
   "source": []
  }
 ],
 "metadata": {
  "kernelspec": {
   "display_name": "Python 3 (ipykernel)",
   "language": "python",
   "name": "python3"
  },
  "language_info": {
   "codemirror_mode": {
    "name": "ipython",
    "version": 3
   },
   "file_extension": ".py",
   "mimetype": "text/x-python",
   "name": "python",
   "nbconvert_exporter": "python",
   "pygments_lexer": "ipython3",
   "version": "3.9.7"
  }
 },
 "nbformat": 4,
 "nbformat_minor": 5
}
