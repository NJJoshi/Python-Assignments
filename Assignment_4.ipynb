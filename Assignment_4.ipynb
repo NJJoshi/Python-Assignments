{
 "cells": [
  {
   "cell_type": "code",
   "execution_count": 1,
   "id": "13337cb3",
   "metadata": {},
   "outputs": [],
   "source": [
    "## Question 1\n",
    "## What exactly is []?\n",
    "##"
   ]
  },
  {
   "cell_type": "code",
   "execution_count": 2,
   "id": "4abe54f6",
   "metadata": {},
   "outputs": [],
   "source": [
    "## Answer 1\n",
    "## It indicate that we are creating empty list.\n",
    "##"
   ]
  },
  {
   "cell_type": "code",
   "execution_count": 3,
   "id": "880ff911",
   "metadata": {},
   "outputs": [],
   "source": [
    "## Question 2\n",
    "## In a list of values stored in a variable called spam, how would you assign the value 'hello' as the third value? \n",
    "## (Assume [2, 4, 6, 8, 10] are in spam.)\n",
    "## "
   ]
  },
  {
   "cell_type": "code",
   "execution_count": 4,
   "id": "a962c0cd",
   "metadata": {},
   "outputs": [],
   "source": [
    "## Answer 2\n",
    "## spam[2] = 'hello'\n",
    "##"
   ]
  },
  {
   "cell_type": "code",
   "execution_count": 7,
   "id": "49c7664c",
   "metadata": {},
   "outputs": [],
   "source": [
    "## Question 3\n",
    "## Let's pretend the spam includes the list ['a', 'b', 'c', 'd'] for the next three queries.\n",
    "## What is the value of spam[int(int('3' * 2) / 11)]?\n",
    "## "
   ]
  },
  {
   "cell_type": "code",
   "execution_count": 8,
   "id": "a17b5554",
   "metadata": {},
   "outputs": [],
   "source": [
    "## Answer 3\n",
    "## 'd' because spam[int(int('3' * 2) / 11)] -> spam[3] which is 'd'"
   ]
  },
  {
   "cell_type": "code",
   "execution_count": 9,
   "id": "d54ce21c",
   "metadata": {},
   "outputs": [],
   "source": [
    "## Question 4\n",
    "## What is the value of spam[-1]?\n",
    "##"
   ]
  },
  {
   "cell_type": "code",
   "execution_count": 10,
   "id": "d6c7435d",
   "metadata": {},
   "outputs": [],
   "source": [
    "## Answer 4\n",
    "## 'd'\n",
    "##"
   ]
  },
  {
   "cell_type": "code",
   "execution_count": 11,
   "id": "b42c4856",
   "metadata": {},
   "outputs": [],
   "source": [
    "## Question 5\n",
    "## What is the value of spam[:2]?\n",
    "## "
   ]
  },
  {
   "cell_type": "code",
   "execution_count": 12,
   "id": "3c79a669",
   "metadata": {},
   "outputs": [],
   "source": [
    "## Answer 5\n",
    "## ['a', 'b']\n",
    "##"
   ]
  },
  {
   "cell_type": "code",
   "execution_count": 13,
   "id": "8ac14782",
   "metadata": {},
   "outputs": [],
   "source": [
    "## Question 6\n",
    "## Let's pretend bacon has the list [3.14, 'cat', 11, 'cat', True] for the next three questions.\n",
    "##\n",
    "## What is the value of bacon.index('cat')?\n",
    "##"
   ]
  },
  {
   "cell_type": "code",
   "execution_count": 14,
   "id": "af341ebe",
   "metadata": {},
   "outputs": [],
   "source": [
    "## Answer 6\n",
    "##  1\n",
    "##"
   ]
  },
  {
   "cell_type": "code",
   "execution_count": 15,
   "id": "e3b74294",
   "metadata": {},
   "outputs": [],
   "source": [
    "## Question 7\n",
    "## How does bacon.append(99) change the look of the list value in bacon?\n",
    "##"
   ]
  },
  {
   "cell_type": "code",
   "execution_count": 16,
   "id": "2e024936",
   "metadata": {},
   "outputs": [],
   "source": [
    "## Answer 7\n",
    "## [3.14, 'cat', 11, 'cat', True, 99]\n",
    "##"
   ]
  },
  {
   "cell_type": "code",
   "execution_count": 17,
   "id": "acb58792",
   "metadata": {},
   "outputs": [],
   "source": [
    "## Question 8\n",
    "## How does bacon.remove('cat') change the look of the list in bacon?\n",
    "##"
   ]
  },
  {
   "cell_type": "code",
   "execution_count": 18,
   "id": "cc25ac1c",
   "metadata": {},
   "outputs": [],
   "source": [
    "## Answer 8\n",
    "## [3.14, 11, 'cat', True, 99]\n",
    "## It will remove first appearing 'cat' value from list\n",
    "##"
   ]
  },
  {
   "cell_type": "code",
   "execution_count": 19,
   "id": "18bead5d",
   "metadata": {},
   "outputs": [],
   "source": [
    "## Question 9\n",
    "## What are the list concatenation and list replication operators?\n",
    "##"
   ]
  },
  {
   "cell_type": "code",
   "execution_count": 20,
   "id": "d4197a8b",
   "metadata": {},
   "outputs": [],
   "source": [
    "## Answer 9\n",
    "## * operator can be use for list concatenation & replication\n",
    "## + operator can be use for list concatenation\n",
    "##"
   ]
  },
  {
   "cell_type": "code",
   "execution_count": 21,
   "id": "0655f8f6",
   "metadata": {},
   "outputs": [],
   "source": [
    "## Question 10\n",
    "## What is difference between the list methods append() and insert()?\n",
    "##"
   ]
  },
  {
   "cell_type": "code",
   "execution_count": 22,
   "id": "05a9b3ce",
   "metadata": {},
   "outputs": [],
   "source": [
    "## Answer 10\n",
    "##\n",
    "## append(x:object):None => Adds an element x to the end of the list and returns None\n",
    "## insert(index: int, x: object):None => Inserts an element x at a given index.\n",
    "##"
   ]
  },
  {
   "cell_type": "code",
   "execution_count": 23,
   "id": "04b4e92e",
   "metadata": {},
   "outputs": [],
   "source": [
    "## Question 11\n",
    "## What are the two methods for removing items from a list?\n",
    "## "
   ]
  },
  {
   "cell_type": "code",
   "execution_count": 24,
   "id": "d0dfee93",
   "metadata": {},
   "outputs": [],
   "source": [
    "## Answer 11\n",
    "## Using pop()\n",
    "## Using remove()\n",
    "##"
   ]
  },
  {
   "cell_type": "code",
   "execution_count": 25,
   "id": "346a3ac5",
   "metadata": {},
   "outputs": [],
   "source": [
    "## Question 12\n",
    "## Describe how list values and string values are identical.\n",
    "##"
   ]
  },
  {
   "cell_type": "code",
   "execution_count": 26,
   "id": "3fbc868a",
   "metadata": {},
   "outputs": [],
   "source": [
    "## Answer 12\n",
    "## Lists are similar to strings, which are ordered collections of characters\n",
    "## except that the elements of a list can have any type and for any one list\n",
    "##"
   ]
  },
  {
   "cell_type": "code",
   "execution_count": 27,
   "id": "16949783",
   "metadata": {},
   "outputs": [],
   "source": [
    "## Question 13\n",
    "## What's the difference between tuples and lists?\n",
    "##"
   ]
  },
  {
   "cell_type": "code",
   "execution_count": 28,
   "id": "81c229b0",
   "metadata": {},
   "outputs": [],
   "source": [
    "## Answer 13\n",
    "## list is a mutable where as tuple is immutable\n",
    "## which means we can reassign/change elements inside list\n",
    "## where as it's not possible in tuple.\n",
    "##"
   ]
  },
  {
   "cell_type": "code",
   "execution_count": 29,
   "id": "393887af",
   "metadata": {},
   "outputs": [],
   "source": [
    "## Question 14\n",
    "## How do you type a tuple value that only contains the integer 42?\n",
    "## "
   ]
  },
  {
   "cell_type": "code",
   "execution_count": 30,
   "id": "d4ec9b78",
   "metadata": {},
   "outputs": [],
   "source": [
    "## Answer 14\n",
    "## (42)\n",
    "##"
   ]
  },
  {
   "cell_type": "code",
   "execution_count": 31,
   "id": "3a32cd41",
   "metadata": {},
   "outputs": [],
   "source": [
    "## Question 15\n",
    "## How do you get a list value's tuple form? How do you get a tuple value's list form?\n",
    "##"
   ]
  },
  {
   "cell_type": "code",
   "execution_count": 32,
   "id": "fbdbda18",
   "metadata": {},
   "outputs": [],
   "source": [
    "## Answer 15\n",
    "## to get list from values's tuple , we need to use list() function\n",
    "## to get tuple from value's list, we need to use tuple() function\n",
    "##"
   ]
  },
  {
   "cell_type": "code",
   "execution_count": 33,
   "id": "d8143008",
   "metadata": {},
   "outputs": [],
   "source": [
    "## Question 16\n",
    "## Variables that \"contain\" list values are not necessarily lists themselves. Instead, what do they contain?\n",
    "##"
   ]
  },
  {
   "cell_type": "code",
   "execution_count": 34,
   "id": "f91e3365",
   "metadata": {},
   "outputs": [],
   "source": [
    "## Answer 16\n",
    "## Variables will contain references to list values rather than list values themselves. \n",
    "## But for strings and integer values, variables simply contain the string or integer value.\n",
    "##"
   ]
  },
  {
   "cell_type": "code",
   "execution_count": 35,
   "id": "172109c8",
   "metadata": {},
   "outputs": [],
   "source": [
    "## Question 17\n",
    "## How do you distinguish between copy.copy() and copy.deepcopy()?\n",
    "##"
   ]
  },
  {
   "cell_type": "code",
   "execution_count": 36,
   "id": "c911f346",
   "metadata": {},
   "outputs": [],
   "source": [
    "## Answer 17\n",
    "## A shallow copy constructs a new compound object and then (to the extent possible) inserts references into it to the objects found in the original.\n",
    "## A deep copy constructs a new compound object and then, recursively, inserts copies into it of the objects found in the original.\n",
    "##"
   ]
  },
  {
   "cell_type": "code",
   "execution_count": null,
   "id": "b3c3fdef",
   "metadata": {},
   "outputs": [],
   "source": []
  }
 ],
 "metadata": {
  "kernelspec": {
   "display_name": "Python 3 (ipykernel)",
   "language": "python",
   "name": "python3"
  },
  "language_info": {
   "codemirror_mode": {
    "name": "ipython",
    "version": 3
   },
   "file_extension": ".py",
   "mimetype": "text/x-python",
   "name": "python",
   "nbconvert_exporter": "python",
   "pygments_lexer": "ipython3",
   "version": "3.9.7"
  }
 },
 "nbformat": 4,
 "nbformat_minor": 5
}
