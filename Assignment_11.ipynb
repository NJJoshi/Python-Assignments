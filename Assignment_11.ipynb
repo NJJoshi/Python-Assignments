{
 "cells": [
  {
   "cell_type": "code",
   "execution_count": 1,
   "id": "838eb6e3",
   "metadata": {},
   "outputs": [],
   "source": [
    "## Question 1\n",
    "## Create an assert statement that throws an AssertionError if the variable spam is a negative integer.\n",
    "##"
   ]
  },
  {
   "cell_type": "code",
   "execution_count": 5,
   "id": "5820d793",
   "metadata": {},
   "outputs": [
    {
     "name": "stdout",
     "output_type": "stream",
     "text": [
      "The value of a / b is : \n"
     ]
    },
    {
     "ename": "AssertionError",
     "evalue": "",
     "output_type": "error",
     "traceback": [
      "\u001b[0;31m---------------------------------------------------------------------------\u001b[0m",
      "\u001b[0;31mAssertionError\u001b[0m                            Traceback (most recent call last)",
      "\u001b[0;32m/var/folders/fl/z22jjgns4l57m82gbk62h2cw0000gn/T/ipykernel_1471/1790157704.py\u001b[0m in \u001b[0;36m<module>\u001b[0;34m\u001b[0m\n\u001b[1;32m      7\u001b[0m \u001b[0;31m# using assert to check for 0\u001b[0m\u001b[0;34m\u001b[0m\u001b[0;34m\u001b[0m\u001b[0m\n\u001b[1;32m      8\u001b[0m \u001b[0mprint\u001b[0m\u001b[0;34m(\u001b[0m\u001b[0;34m\"The value of a / b is : \"\u001b[0m\u001b[0;34m)\u001b[0m\u001b[0;34m\u001b[0m\u001b[0;34m\u001b[0m\u001b[0m\n\u001b[0;32m----> 9\u001b[0;31m \u001b[0;32massert\u001b[0m \u001b[0mspam\u001b[0m \u001b[0;34m>=\u001b[0m \u001b[0;36m0\u001b[0m\u001b[0;34m\u001b[0m\u001b[0;34m\u001b[0m\u001b[0m\n\u001b[0m",
      "\u001b[0;31mAssertionError\u001b[0m: "
     ]
    }
   ],
   "source": [
    "## Answer 1\n",
    "## \n",
    "  \n",
    "# initializing number\n",
    "spam = -1\n",
    "  \n",
    "# using assert to check for 0\n",
    "print(\"The value of a / b is : \")\n",
    "assert spam >= 0"
   ]
  },
  {
   "cell_type": "code",
   "execution_count": 6,
   "id": "9452e5d2",
   "metadata": {},
   "outputs": [],
   "source": [
    "## Question 2\n",
    "##\n",
    "## Write an assert statement that triggers an AssertionError if the variables eggs and bacon contain strings that are the same as each other, \n",
    "## even if their cases are different (that is, 'hello' and 'hello' are considered the same, and 'goodbye' and 'GOODbye' are also considered the same).\n",
    "##"
   ]
  },
  {
   "cell_type": "code",
   "execution_count": 8,
   "id": "5b49f488",
   "metadata": {},
   "outputs": [
    {
     "ename": "AssertionError",
     "evalue": "",
     "output_type": "error",
     "traceback": [
      "\u001b[0;31m---------------------------------------------------------------------------\u001b[0m",
      "\u001b[0;31mAssertionError\u001b[0m                            Traceback (most recent call last)",
      "\u001b[0;32m/var/folders/fl/z22jjgns4l57m82gbk62h2cw0000gn/T/ipykernel_1471/3997824124.py\u001b[0m in \u001b[0;36m<module>\u001b[0;34m\u001b[0m\n\u001b[1;32m      3\u001b[0m \u001b[0meggs\u001b[0m \u001b[0;34m=\u001b[0m \u001b[0;34m'Test'\u001b[0m\u001b[0;34m\u001b[0m\u001b[0;34m\u001b[0m\u001b[0m\n\u001b[1;32m      4\u001b[0m \u001b[0mbeacon\u001b[0m \u001b[0;34m=\u001b[0m \u001b[0;34m'TeST'\u001b[0m\u001b[0;34m\u001b[0m\u001b[0;34m\u001b[0m\u001b[0m\n\u001b[0;32m----> 5\u001b[0;31m \u001b[0;32massert\u001b[0m \u001b[0meggs\u001b[0m\u001b[0;34m.\u001b[0m\u001b[0mcasefold\u001b[0m\u001b[0;34m(\u001b[0m\u001b[0;34m)\u001b[0m \u001b[0;34m!=\u001b[0m \u001b[0mbeacon\u001b[0m\u001b[0;34m.\u001b[0m\u001b[0mcasefold\u001b[0m\u001b[0;34m(\u001b[0m\u001b[0;34m)\u001b[0m\u001b[0;34m\u001b[0m\u001b[0;34m\u001b[0m\u001b[0m\n\u001b[0m",
      "\u001b[0;31mAssertionError\u001b[0m: "
     ]
    }
   ],
   "source": [
    "## Answer 2\n",
    "## \n",
    "eggs = 'Test'\n",
    "beacon = 'TeST'\n",
    "assert eggs.casefold() != beacon.casefold()"
   ]
  },
  {
   "cell_type": "code",
   "execution_count": 9,
   "id": "80991b99",
   "metadata": {},
   "outputs": [],
   "source": [
    "## Question 3\n",
    "## \n",
    "## Create an assert statement that throws an AssertionError every time.\n",
    "##"
   ]
  },
  {
   "cell_type": "code",
   "execution_count": 10,
   "id": "9d470137",
   "metadata": {
    "scrolled": true
   },
   "outputs": [
    {
     "ename": "AssertionError",
     "evalue": "",
     "output_type": "error",
     "traceback": [
      "\u001b[0;31m---------------------------------------------------------------------------\u001b[0m",
      "\u001b[0;31mAssertionError\u001b[0m                            Traceback (most recent call last)",
      "\u001b[0;32m/var/folders/fl/z22jjgns4l57m82gbk62h2cw0000gn/T/ipykernel_1471/36052305.py\u001b[0m in \u001b[0;36m<module>\u001b[0;34m\u001b[0m\n\u001b[1;32m      2\u001b[0m \u001b[0;31m##\u001b[0m\u001b[0;34m\u001b[0m\u001b[0;34m\u001b[0m\u001b[0m\n\u001b[1;32m      3\u001b[0m \u001b[0;31m##\u001b[0m\u001b[0;34m\u001b[0m\u001b[0;34m\u001b[0m\u001b[0m\n\u001b[0;32m----> 4\u001b[0;31m \u001b[0;32massert\u001b[0m \u001b[0;36m1\u001b[0m \u001b[0;34m!=\u001b[0m \u001b[0;36m1\u001b[0m\u001b[0;34m\u001b[0m\u001b[0;34m\u001b[0m\u001b[0m\n\u001b[0m",
      "\u001b[0;31mAssertionError\u001b[0m: "
     ]
    }
   ],
   "source": [
    "## Answer 3\n",
    "##\n",
    "## \n",
    "assert 1 != 1"
   ]
  },
  {
   "cell_type": "code",
   "execution_count": 11,
   "id": "3cc8db3b",
   "metadata": {},
   "outputs": [],
   "source": [
    "## Question 4\n",
    "##\n",
    "## What are the two lines that must be present in your software in order to call logging.debug()?\n",
    "##"
   ]
  },
  {
   "cell_type": "code",
   "execution_count": 12,
   "id": "980a6931",
   "metadata": {},
   "outputs": [],
   "source": [
    "## Answer 4\n",
    "## import logging\n",
    "## logging.basicConfig(filename='test.log', level=log.DEBUG, format='%(asctime)s:%(levelname)s:%(message)s')\n",
    "##"
   ]
  },
  {
   "cell_type": "code",
   "execution_count": 13,
   "id": "281b73ea",
   "metadata": {},
   "outputs": [],
   "source": [
    "## Question 5\n",
    "##\n",
    "## What are the two lines that your program must have in order to have logging.debug() send a logging message to a file named programLog.txt?\n",
    "##"
   ]
  },
  {
   "cell_type": "code",
   "execution_count": 14,
   "id": "313245cb",
   "metadata": {},
   "outputs": [],
   "source": [
    "## Answer 5\n",
    "## import logging\n",
    "## logging.basicConfig(filename='programLog.txt', level=log.INFO, format='%(asctime)s:%(levelname)s:%(message)s')\n",
    "##"
   ]
  },
  {
   "cell_type": "code",
   "execution_count": 15,
   "id": "9552132c",
   "metadata": {},
   "outputs": [],
   "source": [
    "## Question 6\n",
    "##\n",
    "## What are the five levels of logging?\n",
    "##"
   ]
  },
  {
   "cell_type": "code",
   "execution_count": 16,
   "id": "3adabf61",
   "metadata": {},
   "outputs": [],
   "source": [
    "## Answer 6\n",
    "##\n",
    "## INFO, WARNING, DEBUG, ERROR, CRITICAL\n",
    "##"
   ]
  },
  {
   "cell_type": "code",
   "execution_count": 17,
   "id": "3c892ec8",
   "metadata": {},
   "outputs": [],
   "source": [
    "## Question 7\n",
    "##\n",
    "## What line of code would you add to your software to disable all logging messages?\n",
    "##"
   ]
  },
  {
   "cell_type": "code",
   "execution_count": 18,
   "id": "84517ffd",
   "metadata": {},
   "outputs": [],
   "source": [
    "## Answer 7\n",
    "##\n",
    "## logging.disable(logging.NOTSET)"
   ]
  },
  {
   "cell_type": "code",
   "execution_count": 19,
   "id": "4ef84164",
   "metadata": {},
   "outputs": [],
   "source": [
    "## Question 8\n",
    "##\n",
    "## Why is using logging messages better than using print() to display the same message?\n",
    "##"
   ]
  },
  {
   "cell_type": "code",
   "execution_count": 20,
   "id": "866050cb",
   "metadata": {},
   "outputs": [],
   "source": [
    "## Answer 8\n",
    "##\n",
    "## logging has many of feature like \n",
    "## 1. Easy to see where and when (even what line no.) a logging call is being made from.\n",
    "## 2. You can log to files, sockets, pretty much anything, all at the same time.\n",
    "## 3. You can differentiate your logging based on severity.\n",
    "## \n",
    "## Print doesn't have any of these.\n",
    "##"
   ]
  },
  {
   "cell_type": "code",
   "execution_count": 21,
   "id": "5ee85854",
   "metadata": {},
   "outputs": [],
   "source": [
    "## Question 9\n",
    "##\n",
    "## What are the differences between the Step Over, Step In, and Step Out buttons in the debugger?\n",
    "##"
   ]
  },
  {
   "cell_type": "code",
   "execution_count": 22,
   "id": "211b5f5a",
   "metadata": {},
   "outputs": [],
   "source": [
    "## Answer 9\n",
    "##\n",
    "## Step Over - It states move to next consequetive line while debugging instead of going inside method defination\n",
    "## Step In - It states move to method defination, if current debug point contains any.\n",
    "## Step Out - It states to executes the rest of the current function and breaks when the function return is completed\n",
    "## "
   ]
  },
  {
   "cell_type": "code",
   "execution_count": 23,
   "id": "72b28522",
   "metadata": {},
   "outputs": [],
   "source": [
    "## Question 10\n",
    "##\n",
    "## After you click Continue, when will the debugger stop ?\n",
    "##"
   ]
  },
  {
   "cell_type": "code",
   "execution_count": 24,
   "id": "ca6f12be",
   "metadata": {},
   "outputs": [],
   "source": [
    "## Answer 10\n",
    "##\n",
    "## It will stop when a breakpoint is encountered or reached to end of execution.\n",
    "##"
   ]
  },
  {
   "cell_type": "code",
   "execution_count": 25,
   "id": "482aa386",
   "metadata": {},
   "outputs": [],
   "source": [
    "## Question 11\n",
    "##\n",
    "## What is the concept of a breakpoint?\n",
    "##"
   ]
  },
  {
   "cell_type": "code",
   "execution_count": null,
   "id": "51c9ced4",
   "metadata": {},
   "outputs": [],
   "source": [
    "## Answer 11\n",
    "##\n",
    "## It will enable a developer to pause program execution , see what stuff is going on, check variable/object state.\n",
    "##"
   ]
  }
 ],
 "metadata": {
  "kernelspec": {
   "display_name": "Python 3 (ipykernel)",
   "language": "python",
   "name": "python3"
  },
  "language_info": {
   "codemirror_mode": {
    "name": "ipython",
    "version": 3
   },
   "file_extension": ".py",
   "mimetype": "text/x-python",
   "name": "python",
   "nbconvert_exporter": "python",
   "pygments_lexer": "ipython3",
   "version": "3.9.7"
  }
 },
 "nbformat": 4,
 "nbformat_minor": 5
}
