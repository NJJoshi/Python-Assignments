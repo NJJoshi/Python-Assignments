{
 "cells": [
  {
   "cell_type": "markdown",
   "id": "65f37142",
   "metadata": {},
   "source": [
    "# Question 1\n",
    "#### Create an assert statement that throws an AssertionError if the variable spam is a negative integer.\n"
   ]
  },
  {
   "cell_type": "markdown",
   "id": "cffe17b9",
   "metadata": {},
   "source": [
    "# Answer 1\n",
    "\n",
    "#### assert spam >= 0"
   ]
  },
  {
   "cell_type": "markdown",
   "id": "022be005",
   "metadata": {},
   "source": [
    "# Question 2\n",
    "#### Write an assert statement that triggers an AssertionError if the variables eggs and bacon contain strings that are the same as each other,  even if their cases are different (that is, 'hello' and 'hello' are considered the same, and 'goodbye' and 'GOODbye' are also considered the same)."
   ]
  },
  {
   "cell_type": "markdown",
   "id": "24459307",
   "metadata": {},
   "source": [
    "# Answer 2 \n",
    "#### assert eggs.casefold() != beacon.casefold()"
   ]
  },
  {
   "cell_type": "markdown",
   "id": "b63c43ae",
   "metadata": {},
   "source": [
    "# Question 3 \n",
    "#### Create an assert statement that throws an AssertionError every time."
   ]
  },
  {
   "cell_type": "markdown",
   "id": "48251297",
   "metadata": {
    "scrolled": true
   },
   "source": [
    "# Answer 3\n",
    "#### assert 1 != 1"
   ]
  },
  {
   "cell_type": "markdown",
   "id": "0da04267",
   "metadata": {},
   "source": [
    "# Question 4\n",
    "#### What are the two lines that must be present in your software in order to call logging.debug()?"
   ]
  },
  {
   "cell_type": "markdown",
   "id": "cb9315e5",
   "metadata": {},
   "source": [
    "# Answer 4\n",
    "#### import logging\n",
    "#### logging.basicConfig(filename='test.log', level=log.DEBUG, format='%(asctime)s:%(levelname)s:%(message)s')\n"
   ]
  },
  {
   "cell_type": "markdown",
   "id": "cf3293bc",
   "metadata": {},
   "source": [
    "# Question 5\n",
    "#### What are the two lines that your program must have in order to have logging.debug() send a logging message to a file named programLog.txt?"
   ]
  },
  {
   "cell_type": "markdown",
   "id": "c70478cd",
   "metadata": {},
   "source": [
    "# Answer 5\n",
    "#### import logging\n",
    "#### logging.basicConfig(filename='programLog.txt', level=log.INFO, format='%(asctime)s:%(levelname)s:%(message)s')"
   ]
  },
  {
   "cell_type": "markdown",
   "id": "44c03816",
   "metadata": {},
   "source": [
    "# Question 6\n",
    "#### What are the five levels of logging?"
   ]
  },
  {
   "cell_type": "markdown",
   "id": "78d172df",
   "metadata": {},
   "source": [
    "# Answer 6\n",
    "#### INFO, WARNING, DEBUG, ERROR, CRITICAL"
   ]
  },
  {
   "cell_type": "markdown",
   "id": "b0e73d0e",
   "metadata": {},
   "source": [
    "# Question 7\n",
    "#### What line of code would you add to your software to disable all logging messages?"
   ]
  },
  {
   "cell_type": "markdown",
   "id": "ef5ce41d",
   "metadata": {},
   "source": [
    "# Answer 7\n",
    "#### logging.disable(logging.NOTSET)"
   ]
  },
  {
   "cell_type": "markdown",
   "id": "8b3e9bdf",
   "metadata": {},
   "source": [
    "# Question 8\n",
    "#### Why is using logging messages better than using print() to display the same message?"
   ]
  },
  {
   "cell_type": "markdown",
   "id": "b46bb1f8",
   "metadata": {},
   "source": [
    "# Answer 8\n",
    "#### logging has many of feature like \n",
    "#### 1. Easy to see where and when (even what line no.) a logging call is being made from.\n",
    "#### 2. You can log to files, sockets, pretty much anything, all at the same time.\n",
    "#### 3. You can differentiate your logging based on severity.\n",
    "#### \n",
    "#### Print doesn't have any of these."
   ]
  },
  {
   "cell_type": "markdown",
   "id": "88f3e74c",
   "metadata": {},
   "source": [
    "# Question 9\n",
    "#### What are the differences between the Step Over, Step In, and Step Out buttons in the debugger?"
   ]
  },
  {
   "cell_type": "markdown",
   "id": "b4df22cd",
   "metadata": {},
   "source": [
    "# Answer 9\n",
    "#### Step Over - It states move to next consequetive line while debugging instead of going inside method defination\n",
    "#### Step In - It states move to method defination, if current debug point contains any.\n",
    "#### Step Out - It states to executes the rest of the current function and breaks when the function return is completed "
   ]
  },
  {
   "cell_type": "markdown",
   "id": "f44e9969",
   "metadata": {},
   "source": [
    "# Question 10\n",
    "#### After you click Continue, when will the debugger stop ?"
   ]
  },
  {
   "cell_type": "markdown",
   "id": "baed80f2",
   "metadata": {},
   "source": [
    "# Answer 10\n",
    "#### It will stop when a breakpoint is encountered or reached to end of execution."
   ]
  },
  {
   "cell_type": "markdown",
   "id": "63acbe4e",
   "metadata": {},
   "source": [
    "# Question 11\n",
    "#### What is the concept of a breakpoint?"
   ]
  },
  {
   "cell_type": "markdown",
   "id": "f4bbb91d",
   "metadata": {},
   "source": [
    "# Answer 11\n",
    "#### It will enable a developer to pause program execution , see what stuff is going on, check variable/object state."
   ]
  }
 ],
 "metadata": {
  "kernelspec": {
   "display_name": "Python 3 (ipykernel)",
   "language": "python",
   "name": "python3"
  },
  "language_info": {
   "codemirror_mode": {
    "name": "ipython",
    "version": 3
   },
   "file_extension": ".py",
   "mimetype": "text/x-python",
   "name": "python",
   "nbconvert_exporter": "python",
   "pygments_lexer": "ipython3",
   "version": "3.9.7"
  }
 },
 "nbformat": 4,
 "nbformat_minor": 5
}
