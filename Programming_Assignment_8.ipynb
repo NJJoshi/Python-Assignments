{
 "cells": [
  {
   "cell_type": "markdown",
   "id": "762bd2ab",
   "metadata": {},
   "source": [
    "# Question 1\n",
    "#### Write a Python Program to Add Two Matrices"
   ]
  },
  {
   "cell_type": "markdown",
   "id": "aa4e0493",
   "metadata": {},
   "source": [
    "# Answer 1"
   ]
  },
  {
   "cell_type": "code",
   "execution_count": 3,
   "id": "7e72d520",
   "metadata": {},
   "outputs": [
    {
     "name": "stdout",
     "output_type": "stream",
     "text": [
      "Addition of Matrix: [[17, 15, 4], [10, 12, 9], [11, 13, 18]]\n"
     ]
    }
   ],
   "source": [
    "def matrix_addition(X,Y):\n",
    "    result = [[X[i][j] + Y[i][j]  for j in range(len(X[0]))] for i in range(len(X))]\n",
    "    return result\n",
    "\n",
    "def main():\n",
    "    X = [[12,7,3],\n",
    "        [4 ,5,6],\n",
    "        [7 ,8,9]]\n",
    "\n",
    "    Y = [[5,8,1],\n",
    "        [6,7,3],\n",
    "        [4,5,9]]\n",
    "    \n",
    "    print('Addition of Matrix:', matrix_addition(X,Y))\n",
    "\n",
    "main()"
   ]
  },
  {
   "cell_type": "markdown",
   "id": "4e952a9c",
   "metadata": {},
   "source": [
    "# Question 2\n",
    "#### Write a Python Program to Multiply Two Matrices"
   ]
  },
  {
   "cell_type": "markdown",
   "id": "d8f68019",
   "metadata": {},
   "source": [
    "# Answer 2"
   ]
  },
  {
   "cell_type": "code",
   "execution_count": 6,
   "id": "90d96d13",
   "metadata": {},
   "outputs": [
    {
     "name": "stdout",
     "output_type": "stream",
     "text": [
      "Multiplication of Matrix: [[114, 160, 60, 27], [74, 97, 73, 14], [119, 157, 112, 23]]\n"
     ]
    }
   ],
   "source": [
    "def matrix_multiply(X,Y):\n",
    "    result = [[0,0,0,0],\n",
    "             [0,0,0,0],\n",
    "             [0,0,0,0]]\n",
    "    for i in range(len(X)):\n",
    "       # iterate through columns of Y\n",
    "       for j in range(len(Y[0])):\n",
    "           # iterate through rows of Y\n",
    "           for k in range(len(Y)):\n",
    "               result[i][j] += X[i][k] * Y[k][j]\n",
    "    return result\n",
    "\n",
    "def main():\n",
    "    X = [[12,7,3],\n",
    "        [4 ,5,6],\n",
    "        [7 ,8,9]]\n",
    "\n",
    "    Y = [[5,8,1,2],\n",
    "        [6,7,3,0],\n",
    "        [4,5,9,1]]\n",
    "    \n",
    "    print('Multiplication of Matrix:', matrix_multiply(X,Y))\n",
    "\n",
    "main()"
   ]
  },
  {
   "cell_type": "markdown",
   "id": "8ac1c14a",
   "metadata": {},
   "source": [
    "# Question 3\n",
    "#### Write a Python Program to Transpose a Matrix"
   ]
  },
  {
   "cell_type": "markdown",
   "id": "f2fbf93f",
   "metadata": {},
   "source": [
    "# Answer 3"
   ]
  },
  {
   "cell_type": "code",
   "execution_count": 7,
   "id": "0ddb5aeb",
   "metadata": {},
   "outputs": [
    {
     "name": "stdout",
     "output_type": "stream",
     "text": [
      "Transposed Matrix: [[12, 4, 3], [7, 5, 8]]\n"
     ]
    }
   ],
   "source": [
    "def matrix_transpose(X):\n",
    "    result = [[0,0,0],\n",
    "             [0,0,0]]\n",
    "     #iterate through rows\n",
    "    for i in range(len(X)):\n",
    "       # iterate through columns\n",
    "       for j in range(len(X[0])):\n",
    "           result[j][i] = X[i][j]\n",
    "    return result\n",
    "\n",
    "def main():\n",
    "    X = [[12,7],\n",
    "        [4 ,5],\n",
    "        [3 ,8]]\n",
    "    print('Transposed Matrix:', matrix_transpose(X))\n",
    "\n",
    "main()"
   ]
  },
  {
   "cell_type": "markdown",
   "id": "36d74c4e",
   "metadata": {},
   "source": [
    "# Question 4\n",
    "#### Write a Python Program to Sort Words in Alphabetic Order"
   ]
  },
  {
   "cell_type": "markdown",
   "id": "55a58b43",
   "metadata": {},
   "source": [
    "# Answer 4"
   ]
  },
  {
   "cell_type": "code",
   "execution_count": 10,
   "id": "f9f60356",
   "metadata": {},
   "outputs": [
    {
     "name": "stdout",
     "output_type": "stream",
     "text": [
      "Enter a string: Hi Nirav, How are you ?\n",
      "?\n",
      "are\n",
      "hi\n",
      "how\n",
      "nirav,\n",
      "you\n"
     ]
    }
   ],
   "source": [
    "def sort_words(my_str):\n",
    "    list_of_words = []\n",
    "    \n",
    "    for word in my_str.split():\n",
    "        list_of_words.append(word.lower())\n",
    "\n",
    "    list_of_words.sort()\n",
    "    \n",
    "    return list_of_words\n",
    "\n",
    "def main():\n",
    "    my_str = input(\"Enter a string: \")\n",
    "    words = sort_words(my_str)\n",
    "    for word in words:\n",
    "        print(word)\n",
    "\n",
    "main()"
   ]
  },
  {
   "cell_type": "markdown",
   "id": "1f3c1e2f",
   "metadata": {},
   "source": [
    "# Question 5\n",
    "#### Write a Python Program to Remove Punctuation From a String"
   ]
  },
  {
   "cell_type": "markdown",
   "id": "caefe4b8",
   "metadata": {},
   "source": [
    "# Answer 5"
   ]
  },
  {
   "cell_type": "code",
   "execution_count": 11,
   "id": "881ed0a2",
   "metadata": {},
   "outputs": [
    {
     "name": "stdout",
     "output_type": "stream",
     "text": [
      "Please enter string:Hi Nirav, How are you ?\n",
      "Result string: Hi Nirav How are you \n"
     ]
    }
   ],
   "source": [
    "def remove_punctuation(my_str):\n",
    "    no_punct = \"\"\n",
    "    punctuations = '''!()-[]{};:'\"\\,<>./?@#$%^&*_~'''\n",
    "    \n",
    "    for char in my_str:\n",
    "       if char not in punctuations:\n",
    "           no_punct = no_punct + char\n",
    "    return no_punct\n",
    "\n",
    "def main():\n",
    "    my_str = input('Please enter string:')\n",
    "    print('Result string:',remove_punctuation(my_str))\n",
    "\n",
    "main()"
   ]
  }
 ],
 "metadata": {
  "kernelspec": {
   "display_name": "Python 3 (ipykernel)",
   "language": "python",
   "name": "python3"
  },
  "language_info": {
   "codemirror_mode": {
    "name": "ipython",
    "version": 3
   },
   "file_extension": ".py",
   "mimetype": "text/x-python",
   "name": "python",
   "nbconvert_exporter": "python",
   "pygments_lexer": "ipython3",
   "version": "3.9.7"
  }
 },
 "nbformat": 4,
 "nbformat_minor": 5
}
