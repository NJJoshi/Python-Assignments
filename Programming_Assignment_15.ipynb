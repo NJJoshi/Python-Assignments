{
 "cells": [
  {
   "cell_type": "markdown",
   "id": "ed67bd72",
   "metadata": {},
   "source": [
    "# Question 1\n",
    "#### Please write a program using generator to print the numbers which can be divisible by 5 and 7 between 0 and n in comma separated form while n is input by console\n",
    "#### Example:\n",
    "#### If the following n is given as input to the program:\n",
    "#### 100\n",
    "#### Then, the output of the program should be:\n",
    "#### 0,35,70"
   ]
  },
  {
   "cell_type": "markdown",
   "id": "586010a9",
   "metadata": {},
   "source": [
    "# Answer 1\n",
    "    import pyinputplus as pypi\n",
    "\n",
    "\n",
    "    class CustomGenerator:\n",
    "\n",
    "        def __init__(self, iteration):\n",
    "            self.iteration = iteration\n",
    "\n",
    "        def my_generator(self):\n",
    "            for i in range(self.iteration):\n",
    "                if i % 7 == 0 and i % 5 == 0:\n",
    "                    yield i\n",
    "\n",
    "\n",
    "    def main():\n",
    "        no_of_iteration = pypi.inputInt(prompt='Please enter number:', default=0)\n",
    "        custom_generator = CustomGenerator(no_of_iteration)\n",
    "        result_list = list(custom_generator.my_generator())\n",
    "        print(result_list)\n",
    "\n",
    "\n",
    "    main()"
   ]
  },
  {
   "cell_type": "markdown",
   "id": "805c3950",
   "metadata": {},
   "source": [
    "# Question 2\n",
    "#### Please write a program using generator to print the even numbers between 0 and n in comma separated form while n is input by console\n",
    "#### Example:\n",
    "#### If the following n is given as input to the program:\n",
    "#### 10\n",
    "#### Then, the output of the program should be:\n",
    "#### 0,2,4,6,8,10"
   ]
  },
  {
   "cell_type": "markdown",
   "id": "2509f61a",
   "metadata": {},
   "source": [
    "# Answer 2\n",
    "    import pyinputplus as pypi\n",
    "\n",
    "\n",
    "    class CustomGenerator:\n",
    "\n",
    "        def __init__(self, iteration):\n",
    "            self.iteration = iteration\n",
    "\n",
    "        def my_generator(self):\n",
    "            for i in range(self.iteration):\n",
    "                if i % 2 == 0:\n",
    "                    yield i\n",
    "\n",
    "\n",
    "    def main():\n",
    "        no_of_iteration = pypi.inputInt(prompt='Please enter number:', default=0)\n",
    "        custom_generator = CustomGenerator(no_of_iteration)\n",
    "        result_list = list(custom_generator.my_generator())\n",
    "        print(result_list)\n",
    "\n",
    "\n",
    "    main()"
   ]
  },
  {
   "cell_type": "markdown",
   "id": "be856676",
   "metadata": {},
   "source": [
    "# Question 3\n",
    "#### The Fibonacci Sequence is computed based on the following formula:\n",
    "#### f(n)=0 if n=0\n",
    "#### f(n)=1 if n=1\n",
    "#### f(n)=f(n-1)+f(n-2) if n>1\n",
    "#### Please write a program using list comprehension to print the Fibonacci Sequence in comma separated form with a given n input by console.\n",
    "#### Example:\n",
    "#### If the following n is given as input to the program:\n",
    "#### 7\n",
    "#### Then, the output of the program should be:\n",
    "#### 0,1,1,2,3,5,8,13"
   ]
  },
  {
   "cell_type": "markdown",
   "id": "ccd6eadf",
   "metadata": {},
   "source": [
    "# Answer 3\n",
    "    import pyinputplus as pypi\n",
    "\n",
    "\n",
    "    def fib_generator(n):\n",
    "        last = 0\n",
    "        curr = 1\n",
    "\n",
    "        if n == 0:\n",
    "            return\n",
    "\n",
    "        yield last\n",
    "        if n == 1:\n",
    "            return\n",
    "\n",
    "        yield curr\n",
    "        if n == 2:\n",
    "            return\n",
    "\n",
    "        ii = 2\n",
    "        while ii < n + 1:\n",
    "            next = curr + last\n",
    "            yield next\n",
    "            last = curr\n",
    "            curr = next\n",
    "            ii += 1\n",
    "\n",
    "        return fib_generator(n)\n",
    "\n",
    "\n",
    "    def main():\n",
    "        n = pypi.inputInt(prompt='Please enter number:', default=0)\n",
    "        fib = [xx for xx in fib_n_generator(n)]\n",
    "        print(fib)\n",
    "\n",
    "\n",
    "    main()"
   ]
  },
  {
   "cell_type": "markdown",
   "id": "d010a116",
   "metadata": {},
   "source": [
    "# Question 4\n",
    "#### Assuming that we have some email addresses in the \"username@companyname.com\" format, please write program to print the user name of a given email address. Both user names and company names are composed of letters only.\n",
    "#### Example:\n",
    "#### If the following email address is given as input to the program:\n",
    "#### john@google.com\n",
    "#### Then, the output of the program should be:\n",
    "#### john"
   ]
  },
  {
   "cell_type": "markdown",
   "id": "edeb48d1",
   "metadata": {},
   "source": [
    "# Answer 4\n",
    "    import re\n",
    "\n",
    "    regexStr = r'^([^@]+)@[^@]+$'\n",
    "    emailStr = 'john@google.com'\n",
    "    matchobj = re.search(regexStr, emailStr)\n",
    "    if  matchobj is None:\n",
    "        print(\"Did not match\")\n",
    "    else:\n",
    "        print(matchobj.group(1))"
   ]
  },
  {
   "cell_type": "markdown",
   "id": "38010c17",
   "metadata": {},
   "source": [
    "# Question 5\n",
    "#### Define a class named Shape and its subclass Square. The Square class has an init function which takes a length as argument. Both classes have a area function which can print the area of the shape where Shape's area is 0 by default."
   ]
  },
  {
   "cell_type": "markdown",
   "id": "68fa6cb6",
   "metadata": {},
   "source": [
    "# Answer 5\n",
    "\n",
    "    class Shape:\n",
    "        def __init__(self):\n",
    "            pass\n",
    "\n",
    "        def area(self):\n",
    "            return 0\n",
    "\n",
    "\n",
    "    class Square(Shape):\n",
    "        def __init__(self, length):\n",
    "            Shape.__init__(self)\n",
    "            self.length = length\n",
    "\n",
    "        def area(self):\n",
    "            return self.length * self.length\n",
    "            \n",
    "    def main():\n",
    "        square = Square(10)\n",
    "        print('Area of Square is ', square.area())\n",
    "\n",
    "\n",
    "    main()"
   ]
  }
 ],
 "metadata": {
  "kernelspec": {
   "display_name": "Python 3 (ipykernel)",
   "language": "python",
   "name": "python3"
  },
  "language_info": {
   "codemirror_mode": {
    "name": "ipython",
    "version": 3
   },
   "file_extension": ".py",
   "mimetype": "text/x-python",
   "name": "python",
   "nbconvert_exporter": "python",
   "pygments_lexer": "ipython3",
   "version": "3.9.7"
  }
 },
 "nbformat": 4,
 "nbformat_minor": 5
}
