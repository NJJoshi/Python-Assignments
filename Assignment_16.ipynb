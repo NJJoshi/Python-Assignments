{
 "cells": [
  {
   "cell_type": "markdown",
   "id": "628fb9d1",
   "metadata": {},
   "source": [
    "# Question 1\n",
    "#### Create a list called years_list, starting with the year of your birth, and each year thereafter until the year of your fifth birthday. For example, if you were born in 1980. the list would be years_list = [1980, 1981, 1982, 1983, 1984, 1985]."
   ]
  },
  {
   "cell_type": "markdown",
   "id": "78266cb9",
   "metadata": {},
   "source": [
    "# Answer 1\n",
    "#### It is created as below:\n",
    "    birth_year = 1986\n",
    "    years_list = []\n",
    "    for i in range(1,6):\n",
    "        years_list.append(birth_year + i)\n",
    "    print(years_list)"
   ]
  },
  {
   "cell_type": "markdown",
   "id": "74dd481a",
   "metadata": {},
   "source": [
    "# Question 2\n",
    "#### In which year in years_list was your third birthday? Remember, you were 0 years of age for your first year."
   ]
  },
  {
   "cell_type": "markdown",
   "id": "c447a54c",
   "metadata": {},
   "source": [
    "# Answer 2\n",
    "#### It will into year where it will meet birth_year + 3"
   ]
  },
  {
   "cell_type": "markdown",
   "id": "035b697a",
   "metadata": {},
   "source": [
    "# Question 3\n",
    "#### In the years list, which year were you the oldest ?"
   ]
  },
  {
   "cell_type": "markdown",
   "id": "8ed9ddd9",
   "metadata": {},
   "source": [
    "# Answer 3\n",
    "#### Oldest age will be find by max(years_list)"
   ]
  },
  {
   "cell_type": "markdown",
   "id": "cec66639",
   "metadata": {},
   "source": [
    "# Question 4\n",
    "#### Make a list called things with these three strings as elements: \"mozzarella\", \"cinderella\", \"salmonella\"."
   ]
  },
  {
   "cell_type": "markdown",
   "id": "821ec3a6",
   "metadata": {},
   "source": [
    "# Answer 4\n",
    "    things = [\"mozzarella\", \"cinderella\", \"salmonella\"]"
   ]
  },
  {
   "cell_type": "markdown",
   "id": "36f70107",
   "metadata": {},
   "source": [
    "# Question 5\n",
    "#### Capitalize the element in things that refers to a person and then print the list. Did it change the element in the list?"
   ]
  },
  {
   "cell_type": "markdown",
   "id": "ecae1596",
   "metadata": {},
   "source": [
    "# Answer 5\n",
    "#### To capitalize each element into list\n",
    "    things = [\"mozzarella\", \"cinderella\", \"salmonella\"]\n",
    "    for my_str in things:\n",
    "        print(my_str.capitalize())\n",
    "#### Above mentioned code will not make any change into 'things' object element"
   ]
  },
  {
   "cell_type": "markdown",
   "id": "6d66de53",
   "metadata": {},
   "source": [
    "# Question 6\n",
    "#### Make a surprise list with the elements \"Groucho,\" \"Chico,\" and \"Harpo.\""
   ]
  },
  {
   "cell_type": "markdown",
   "id": "37cb6da8",
   "metadata": {},
   "source": [
    "# Answer 6\n",
    "    surprise = [\"Groucho\", \"Chico\", \"Harpo\"]"
   ]
  },
  {
   "cell_type": "markdown",
   "id": "7fb6afa9",
   "metadata": {},
   "source": [
    "# Question 7\n",
    "#### Lowercase the last element of the surprise list, reverse it, and then capitalize it"
   ]
  },
  {
   "cell_type": "markdown",
   "id": "370802b4",
   "metadata": {},
   "source": [
    "# Answer 7\n",
    "    surprise = [\"Groucho\", \"Chico\", \"Harpo\"]\n",
    "    print(surprise[2].lower()[::-1].capitalize())"
   ]
  },
  {
   "cell_type": "markdown",
   "id": "2d7c61f0",
   "metadata": {},
   "source": [
    "# Question 8\n",
    "#### Make an English-to-French dictionary called e2f and print it. Here are your starter words: dog is chien, cat is chat, and walrus is morse."
   ]
  },
  {
   "cell_type": "markdown",
   "id": "2c936772",
   "metadata": {},
   "source": [
    "# Answer 8\n",
    "#### It will done as shown below:\n",
    "    e2f = {\n",
    "           'dog':'chien',\n",
    "           'cat':'chat',\n",
    "           'walrus':'morse'\n",
    "          }\n",
    "    print(e2f)"
   ]
  },
  {
   "cell_type": "markdown",
   "id": "33b78099",
   "metadata": {},
   "source": [
    "# Question 9\n",
    "#### Write the French word for walrus in your three-word dictionary e2f."
   ]
  },
  {
   "cell_type": "markdown",
   "id": "c496b482",
   "metadata": {},
   "source": [
    "# Answer 9\n",
    "#### we can get it by following way\n",
    "    print(e2f.get('walrus'))"
   ]
  },
  {
   "cell_type": "markdown",
   "id": "68a2d639",
   "metadata": {},
   "source": [
    "# Question 10\n",
    "#### Make a French-to-English dictionary called f2e from e2f. Use the items method"
   ]
  },
  {
   "cell_type": "markdown",
   "id": "82e09d40",
   "metadata": {},
   "source": [
    "# Answer 10\n",
    "#### we can do it by follwing way:\n",
    "    f2e = {}\n",
    "    for key, value in e2f.items():\n",
    "        f2e[value]=key\n",
    "    print(f2e)"
   ]
  },
  {
   "cell_type": "markdown",
   "id": "e806acf0",
   "metadata": {},
   "source": [
    "# Question 11\n",
    "#### Print the English version of the French word chien using f2e."
   ]
  },
  {
   "cell_type": "markdown",
   "id": "a18f27b1",
   "metadata": {},
   "source": [
    "# Answer 11\n",
    "    f2e = {}\n",
    "    for key, value in e2f.items():\n",
    "        f2e[value]=key\n",
    "    print(f2e.get('chien'))"
   ]
  },
  {
   "cell_type": "markdown",
   "id": "a0b32085",
   "metadata": {},
   "source": [
    "# Question 12\n",
    "#### Make and print a set of English words from the keys in e2f"
   ]
  },
  {
   "cell_type": "markdown",
   "id": "5209e4d6",
   "metadata": {},
   "source": [
    "# Answer 12\n",
    "#### It will be done as follows:\n",
    "    print(set(e2f.keys()))"
   ]
  },
  {
   "cell_type": "markdown",
   "id": "2c4dac27",
   "metadata": {},
   "source": [
    "# Question 13\n",
    "#### Make a multilevel dictionary called life. Use these strings for the topmost keys: 'animals', 'plants', and 'other'. Make the 'animals' key refer to another dictionary with the keys 'cats', 'octopi', and 'emus'. Make the 'cats' key refer to a list of strings with the values 'Henri', 'Grumpy', and 'Lucy'. Make all the other keys refer to empty dictionaries."
   ]
  },
  {
   "cell_type": "markdown",
   "id": "1b94105e",
   "metadata": {},
   "source": [
    "# Answer 13\n",
    "#### It will be done as mentioned below:\n",
    "    life = {'animals': {\n",
    "                        'cats':['Henri','Grumpy','Lucy'], \n",
    "                        'octopi':{},\n",
    "                        'emus':{}\n",
    "                        },\n",
    "             'plants': {}\n",
    "            }"
   ]
  },
  {
   "cell_type": "markdown",
   "id": "0394d6f2",
   "metadata": {},
   "source": [
    "# Question 14\n",
    "#### Print the top-level keys of life."
   ]
  },
  {
   "cell_type": "markdown",
   "id": "9c03e9ac",
   "metadata": {},
   "source": [
    "# Answer 14\n",
    "#### It will be done as mentioned below:\n",
    "    for k in life.keys():\n",
    "        print(k)"
   ]
  },
  {
   "cell_type": "markdown",
   "id": "5079967c",
   "metadata": {},
   "source": [
    "# Question 15\n",
    "#### Print the keys for life['animals']."
   ]
  },
  {
   "cell_type": "markdown",
   "id": "28bd8eb9",
   "metadata": {},
   "source": [
    "# Answer 15\n",
    "#### It will be done as mentioned below:\n",
    "    for k in life['animals'].keys():\n",
    "        print(k)"
   ]
  },
  {
   "cell_type": "markdown",
   "id": "8624b741",
   "metadata": {},
   "source": [
    "# Question 16\n",
    "#### Print the values for life['animals']['cats']"
   ]
  },
  {
   "cell_type": "markdown",
   "id": "9ee389b9",
   "metadata": {},
   "source": [
    "# Answer 16\n",
    "#### It will done as mentioned below:\n",
    "    for val in life['animals']['cats']:\n",
    "        print(val)"
   ]
  }
 ],
 "metadata": {
  "kernelspec": {
   "display_name": "Python 3 (ipykernel)",
   "language": "python",
   "name": "python3"
  },
  "language_info": {
   "codemirror_mode": {
    "name": "ipython",
    "version": 3
   },
   "file_extension": ".py",
   "mimetype": "text/x-python",
   "name": "python",
   "nbconvert_exporter": "python",
   "pygments_lexer": "ipython3",
   "version": "3.9.7"
  }
 },
 "nbformat": 4,
 "nbformat_minor": 5
}
