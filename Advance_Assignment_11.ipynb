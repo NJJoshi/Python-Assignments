{
 "cells": [
  {
   "cell_type": "markdown",
   "id": "d00eb683",
   "metadata": {},
   "source": [
    "# Question 1\n",
    "#### What is the concept of a metaclass?"
   ]
  },
  {
   "cell_type": "markdown",
   "id": "974c9193",
   "metadata": {},
   "source": [
    "# Answer 1\n",
    "#### A metaclass in Python is a class of a class that defines how a class behaves. A class is itself an instance of a metaclass. A class in Python defines how the instance of the class will behave."
   ]
  },
  {
   "cell_type": "markdown",
   "id": "2f3a5211",
   "metadata": {},
   "source": [
    "# Question 2\n",
    "#### What is the best way to declare a class's metaclass?"
   ]
  },
  {
   "cell_type": "markdown",
   "id": "e3c8a335",
   "metadata": {},
   "source": [
    "# Answer 2\n",
    "#### I think following is best way to create class's metaclass.\n",
    "     class INeuron(type):\n",
    "         pass\n",
    "  \n",
    "     class DSClass(metaclass=INeuron):\n",
    "         pass"
   ]
  },
  {
   "cell_type": "markdown",
   "id": "3e93f6d8",
   "metadata": {},
   "source": [
    "# Question 3\n",
    "#### How do class decorators overlap with metaclasses for handling classes?"
   ]
  },
  {
   "cell_type": "markdown",
   "id": "0135315d",
   "metadata": {},
   "source": [
    "# Answer 3\n",
    "#### Decorators are much, much simpler and more limited -- and therefore should be preferred whenever the desired effect can be achieved with either a metaclass or a class decorator.\n",
    "\n",
    "#### Anything you can do with a class decorator, you can of course do with a custom metaclass (just apply the functionality of the \"decorator function\", i.e., the one that takes a class object and modifies it, in the course of the metaclass's \"__new__\" or \"__init__\" that make the class object!"
   ]
  },
  {
   "cell_type": "markdown",
   "id": "e39fd41d",
   "metadata": {},
   "source": [
    "# Question 4\n",
    "#### How do class decorators overlap with metaclasses for handling instances?"
   ]
  },
  {
   "cell_type": "markdown",
   "id": "5622483d",
   "metadata": {},
   "source": [
    "# Answer 4\n",
    "#### They overlap because decorators are also return original instance from which class instance is made up which is similar as Metaclass."
   ]
  }
 ],
 "metadata": {
  "kernelspec": {
   "display_name": "Python 3 (ipykernel)",
   "language": "python",
   "name": "python3"
  },
  "language_info": {
   "codemirror_mode": {
    "name": "ipython",
    "version": 3
   },
   "file_extension": ".py",
   "mimetype": "text/x-python",
   "name": "python",
   "nbconvert_exporter": "python",
   "pygments_lexer": "ipython3",
   "version": "3.9.7"
  }
 },
 "nbformat": 4,
 "nbformat_minor": 5
}
