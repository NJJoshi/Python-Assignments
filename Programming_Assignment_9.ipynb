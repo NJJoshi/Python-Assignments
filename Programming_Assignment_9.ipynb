{
 "cells": [
  {
   "cell_type": "markdown",
   "id": "562efc89",
   "metadata": {},
   "source": [
    "# Question 1\n",
    "#### Write a Python program to check if the given number is a Disarium Number"
   ]
  },
  {
   "cell_type": "markdown",
   "id": "d2dff703",
   "metadata": {},
   "source": [
    "# Answer 1"
   ]
  },
  {
   "cell_type": "code",
   "execution_count": 10,
   "id": "c5c15c86",
   "metadata": {},
   "outputs": [
    {
     "name": "stdout",
     "output_type": "stream",
     "text": [
      "Please enter integer:135\n",
      "135  is Disarium number\n"
     ]
    }
   ],
   "source": [
    "import math\n",
    "import pyinputplus as pypi\n",
    " \n",
    "# Method to check whether a number is disarium or not\n",
    "def check_disarium_number(n) :\n",
    " \n",
    "    # Count digits in n.\n",
    "    count_digits = len(str(n))\n",
    "      \n",
    "    # Compute sum of terms like digit multiplied by\n",
    "    # power of position\n",
    "    sum = 0  # Initialize sum of terms\n",
    "    x = n\n",
    "    while (x>0) :\n",
    " \n",
    "        # Get the rightmost digit\n",
    "        r = x % 10\n",
    "          \n",
    "        # Sum the digits by powering according to\n",
    "        # the positions\n",
    "        sum = (int) (sum + math.pow(r, count_digits))\n",
    "        count_digits = count_digits - 1\n",
    "        x = int(x/10)\n",
    "        \n",
    "    # If sum is same as number, then number is\n",
    "    if sum == n :\n",
    "        return 1\n",
    "    else :\n",
    "        return 0\n",
    "\n",
    "def main():\n",
    "    input_number = pypi.inputInt(prompt='Please enter integer:', default=0)\n",
    "    if(check_disarium_number(input_number) == 1):\n",
    "        print(input_number, ' is Disarium number')\n",
    "    else:\n",
    "        print(input_number, ' is not Disarium number')\n",
    "\n",
    "main()"
   ]
  },
  {
   "cell_type": "markdown",
   "id": "f3f2d261",
   "metadata": {},
   "source": [
    "# Question 2\n",
    "#### Write a Python program to print all disarium numbers between 1 to 100"
   ]
  },
  {
   "cell_type": "markdown",
   "id": "a431042d",
   "metadata": {},
   "source": [
    "# Answer 2"
   ]
  },
  {
   "cell_type": "code",
   "execution_count": 11,
   "id": "38306dd5",
   "metadata": {},
   "outputs": [
    {
     "name": "stdout",
     "output_type": "stream",
     "text": [
      "1  is Disarium number\n",
      "2  is Disarium number\n",
      "3  is Disarium number\n",
      "4  is Disarium number\n",
      "5  is Disarium number\n",
      "6  is Disarium number\n",
      "7  is Disarium number\n",
      "8  is Disarium number\n",
      "9  is Disarium number\n",
      "89  is Disarium number\n"
     ]
    }
   ],
   "source": [
    "import math\n",
    "import pyinputplus as pypi\n",
    " \n",
    "\n",
    "# Method to check whether a number is disarium or not\n",
    "def check_disarium_number(n) :\n",
    " \n",
    "    # Count digits in n.\n",
    "    count_digits = len(str(n))\n",
    "      \n",
    "    # Compute sum of terms like digit multiplied by\n",
    "    # power of position\n",
    "    sum = 0  # Initialize sum of terms\n",
    "    x = n\n",
    "    while (x>0) :\n",
    " \n",
    "        # Get the rightmost digit\n",
    "        r = x % 10\n",
    "          \n",
    "        # Sum the digits by powering according to\n",
    "        # the positions\n",
    "        sum = (int) (sum + math.pow(r, count_digits))\n",
    "        count_digits = count_digits - 1\n",
    "        x = int(x/10)\n",
    "        \n",
    "    # If sum is same as number, then number is\n",
    "    if sum == n :\n",
    "        return 1\n",
    "    else :\n",
    "        return 0\n",
    "\n",
    "    \n",
    "\n",
    "def main():\n",
    "    for i in range(1, 101):\n",
    "        if(check_disarium_number(i) == 1):\n",
    "            print(i, ' is Disarium number')\n",
    "            \n",
    "            \n",
    "main()"
   ]
  },
  {
   "cell_type": "markdown",
   "id": "1a6ba8b9",
   "metadata": {},
   "source": [
    "# Question 3\n",
    "#### Write a Python program to check if the given number is Happy Number"
   ]
  },
  {
   "cell_type": "markdown",
   "id": "9579ef3c",
   "metadata": {},
   "source": [
    "# Answer 3"
   ]
  },
  {
   "cell_type": "code",
   "execution_count": 2,
   "id": "93186e50",
   "metadata": {},
   "outputs": [
    {
     "name": "stdout",
     "output_type": "stream",
     "text": [
      "Please enter integer:19\n",
      "19 is Happy Number\n"
     ]
    }
   ],
   "source": [
    "import pyinputplus as pypi\n",
    "\n",
    "\n",
    "def numSquareSum(n):\n",
    "    \"\"\"\n",
    "    It is a Utility method to return sum of square of digit of n\n",
    "    \"\"\"\n",
    "    squareSum = 0;\n",
    "    while(n):\n",
    "        squareSum += (n % 10) * (n % 10);\n",
    "        n = int(n / 10);\n",
    "    return squareSum;\n",
    " \n",
    "    \n",
    "def isHappynumber(n):\n",
    "    \"\"\"\n",
    "    This method return true if n is Happy number\n",
    "    \"\"\" \n",
    "    # initialize slow\n",
    "    # and fast by n\n",
    "    slow = n;\n",
    "    fast = n;\n",
    "    while(True):\n",
    "         \n",
    "        # move slow number\n",
    "        # by one iteration\n",
    "        slow = numSquareSum(slow);\n",
    " \n",
    "        # move fast number\n",
    "        # by two iteration\n",
    "        fast = numSquareSum(numSquareSum(fast))\n",
    "        if(slow != fast):\n",
    "            continue;\n",
    "        else:\n",
    "            break;\n",
    " \n",
    "    # if both number meet at 1,\n",
    "    # then return true\n",
    "    return (slow == 1)\n",
    "\n",
    "\n",
    "def main():\n",
    "    input_num = pypi.inputInt(prompt='Please enter integer:', default=0)\n",
    "    msg = ''\n",
    "    if isHappynumber(input_num):\n",
    "        msg = str(input_num) + ' is Happy Number'\n",
    "    else:\n",
    "        msg = str(input_num) + ' is not Happy Number'\n",
    "    print(msg)\n",
    "    \n",
    "main()"
   ]
  },
  {
   "cell_type": "markdown",
   "id": "e1d571d8",
   "metadata": {},
   "source": [
    "# Question 4\n",
    "#### Write a Python program to print all happy numbers between 1 and 100"
   ]
  },
  {
   "cell_type": "markdown",
   "id": "bd068f57",
   "metadata": {},
   "source": [
    "# Answer 4"
   ]
  },
  {
   "cell_type": "code",
   "execution_count": 5,
   "id": "8c61fbc0",
   "metadata": {},
   "outputs": [
    {
     "name": "stdout",
     "output_type": "stream",
     "text": [
      "Happy number are : [1, 7, 10, 13, 19, 23, 28, 31, 32, 44, 49, 68, 70, 79, 82, 86, 91, 94, 97, 100]\n",
      "Not Happy number are : [2, 3, 4, 5, 6, 8, 9, 11, 12, 14, 15, 16, 17, 18, 20, 21, 22, 24, 25, 26, 27, 29, 30, 33, 34, 35, 36, 37, 38, 39, 40, 41, 42, 43, 45, 46, 47, 48, 50, 51, 52, 53, 54, 55, 56, 57, 58, 59, 60, 61, 62, 63, 64, 65, 66, 67, 69, 71, 72, 73, 74, 75, 76, 77, 78, 80, 81, 83, 84, 85, 87, 88, 89, 90, 92, 93, 95, 96, 98, 99]\n"
     ]
    }
   ],
   "source": [
    "def numSquareSum(n):\n",
    "    \"\"\"\n",
    "    It is a Utility method to return sum of square of digit of n\n",
    "    \"\"\"\n",
    "    squareSum = 0;\n",
    "    while(n):\n",
    "        squareSum += (n % 10) * (n % 10);\n",
    "        n = int(n / 10);\n",
    "    return squareSum;\n",
    " \n",
    "    \n",
    "def isHappynumber(n):\n",
    "    \"\"\"\n",
    "    This method return true if n is Happy number\n",
    "    \"\"\" \n",
    "    # initialize slow\n",
    "    # and fast by n\n",
    "    slow = n;\n",
    "    fast = n;\n",
    "    while(True):\n",
    "         \n",
    "        # move slow number\n",
    "        # by one iteration\n",
    "        slow = numSquareSum(slow);\n",
    " \n",
    "        # move fast number\n",
    "        # by two iteration\n",
    "        fast = numSquareSum(numSquareSum(fast))\n",
    "        if(slow != fast):\n",
    "            continue;\n",
    "        else:\n",
    "            break;\n",
    " \n",
    "    # if both number meet at 1,\n",
    "    # then return true\n",
    "    return (slow == 1)\n",
    "\n",
    "def main():\n",
    "    happy_numbers = []\n",
    "    not_happy_numbers = []\n",
    "    for i in range(1,101) :\n",
    "        if isHappynumber(i):\n",
    "            happy_numbers.append(i)\n",
    "        else:\n",
    "            not_happy_numbers.append(i)\n",
    "    print('Happy number are :', happy_numbers)\n",
    "    print('Not Happy number are :', not_happy_numbers)\n",
    "\n",
    "main()"
   ]
  },
  {
   "cell_type": "markdown",
   "id": "c58d233f",
   "metadata": {},
   "source": [
    "# Question 5\n",
    "#### Write a Python program to determine whether the given number is a Harshad Number"
   ]
  },
  {
   "cell_type": "markdown",
   "id": "b0f9057d",
   "metadata": {},
   "source": [
    "# Answer 5"
   ]
  },
  {
   "cell_type": "code",
   "execution_count": 12,
   "id": "92ce9470",
   "metadata": {},
   "outputs": [
    {
     "name": "stdout",
     "output_type": "stream",
     "text": [
      "Enter number11\n",
      "11  is not Harshad Number\n"
     ]
    }
   ],
   "source": [
    "import pyinputplus as pypi\n",
    "\n",
    "\n",
    "def check_harshad_number(val):\n",
    "    sum = 0\n",
    "    temp = val\n",
    "    while temp > 0 :\n",
    "        sum += (temp % 10)\n",
    "        temp = temp//10\n",
    "    return val % sum == 0\n",
    "\n",
    "\n",
    "\n",
    "def main():\n",
    "    input_num = pypi.inputInt(prompt='Enter number', default=0)\n",
    "    if check_harshad_number(input_num) :\n",
    "        print(input_num , ' is Harshad Number')\n",
    "    else:\n",
    "        print(input_num , ' is not Harshad Number')\n",
    "\n",
    "main()"
   ]
  },
  {
   "cell_type": "markdown",
   "id": "8e2de378",
   "metadata": {},
   "source": [
    "# Question 6\n",
    "#### Write a Python program to print all pronic numbers between 1 and 100"
   ]
  },
  {
   "cell_type": "markdown",
   "id": "5f238db1",
   "metadata": {},
   "source": [
    "# Answer 6"
   ]
  },
  {
   "cell_type": "code",
   "execution_count": 13,
   "id": "1b75ba2e",
   "metadata": {},
   "outputs": [
    {
     "name": "stdout",
     "output_type": "stream",
     "text": [
      "Pronic numbers are: [2, 6, 12, 20, 30, 42, 56, 72, 90]\n"
     ]
    }
   ],
   "source": [
    "def isPronicNumber(num):    \n",
    "    flag = False\n",
    "        \n",
    "    for j in range(1, num+1):    \n",
    "        #Checks for pronic number by multiplying consecutive numbers    \n",
    "        if((j*(j+1)) == num):    \n",
    "            flag = True\n",
    "            break\n",
    "    return flag\n",
    "\n",
    "\n",
    "def main():\n",
    "    pronic_num = []\n",
    "    \n",
    "    for i in range(1,101):\n",
    "        if isPronicNumber(i):\n",
    "            pronic_num.append(i)\n",
    "    print('Pronic numbers are:', pronic_num)\n",
    "\n",
    "\n",
    "main()"
   ]
  },
  {
   "cell_type": "code",
   "execution_count": null,
   "id": "11fecad6",
   "metadata": {},
   "outputs": [],
   "source": []
  }
 ],
 "metadata": {
  "kernelspec": {
   "display_name": "Python 3 (ipykernel)",
   "language": "python",
   "name": "python3"
  },
  "language_info": {
   "codemirror_mode": {
    "name": "ipython",
    "version": 3
   },
   "file_extension": ".py",
   "mimetype": "text/x-python",
   "name": "python",
   "nbconvert_exporter": "python",
   "pygments_lexer": "ipython3",
   "version": "3.9.7"
  }
 },
 "nbformat": 4,
 "nbformat_minor": 5
}
