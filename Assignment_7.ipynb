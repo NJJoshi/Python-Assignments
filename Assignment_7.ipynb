{
 "cells": [
  {
   "cell_type": "code",
   "execution_count": 1,
   "id": "d75da317",
   "metadata": {},
   "outputs": [],
   "source": [
    "## Question 1\n",
    "## What is the name of the feature responsible for generating Regex objects?\n",
    "## "
   ]
  },
  {
   "cell_type": "code",
   "execution_count": 2,
   "id": "d8961e12",
   "metadata": {},
   "outputs": [],
   "source": [
    "## Answer 1\n",
    "## Python provides a re module that supports the use of regex in Python.\n",
    "## Its primary function is to offer a search, where it takes a regular expression and a string.\n",
    "##"
   ]
  },
  {
   "cell_type": "code",
   "execution_count": 3,
   "id": "57f66500",
   "metadata": {},
   "outputs": [],
   "source": [
    "## Question 2\n",
    "## Why do raw strings often appear in Regex objects?\n",
    "##"
   ]
  },
  {
   "cell_type": "code",
   "execution_count": 4,
   "id": "e7aaddaf",
   "metadata": {},
   "outputs": [],
   "source": [
    "## Answer 2\n",
    "## The raw string is slightly different from a regular string, it won’t interpret the \\ character as an escape character. \n",
    "## This is because the regular expression engine uses \\ character for its own escaping purpose.\n",
    "## "
   ]
  },
  {
   "cell_type": "code",
   "execution_count": 5,
   "id": "a5ba6175",
   "metadata": {},
   "outputs": [],
   "source": [
    "## Question 3\n",
    "## What is the return value of the search() method?\n",
    "##"
   ]
  },
  {
   "cell_type": "code",
   "execution_count": 6,
   "id": "1f3758d6",
   "metadata": {},
   "outputs": [],
   "source": [
    "## Answer 3\n",
    "## It either return None (if pattern doesn't match) or a re.MatchObject which contains information about the matching part of string.\n",
    "##"
   ]
  },
  {
   "cell_type": "code",
   "execution_count": 7,
   "id": "cfbb06cc",
   "metadata": {},
   "outputs": [],
   "source": [
    "## Question 4\n",
    "## From a Match item, how do you get the actual strings that match the pattern?\n",
    "##"
   ]
  },
  {
   "cell_type": "code",
   "execution_count": 8,
   "id": "5305e6ff",
   "metadata": {},
   "outputs": [],
   "source": [
    "## Answer 4\n",
    "## .group() returns the part of string where there was a match\n",
    "##"
   ]
  },
  {
   "cell_type": "code",
   "execution_count": 9,
   "id": "83385183",
   "metadata": {},
   "outputs": [],
   "source": [
    "## Question 5\n",
    "## In the regex which created from the r\"(\\d\\d\\d)-(\\d\\d\\d-\\d\\d\\d\\d)\", what does group zero cover?\n",
    "## Group 2? Group 1?\n",
    "##"
   ]
  },
  {
   "cell_type": "code",
   "execution_count": 10,
   "id": "f023d5b3",
   "metadata": {},
   "outputs": [],
   "source": [
    "## Answer 5\n",
    "## if we will get .group(0) then in answer we will be getting value group 1 and group 2 \n",
    "## for example, \n",
    "## phoneNumRegex = re.compile(r'(\\d\\d\\d)-(\\d\\d\\d-\\d\\d\\d\\d)')\n",
    "## mo = phoneNumRegex.search('My phone number is 415-555-4242')\n",
    "## mo.group(0)\n",
    "##\n",
    "## Will produce output : '415-555-4242'\n",
    "##"
   ]
  },
  {
   "cell_type": "code",
   "execution_count": 11,
   "id": "db8e5995",
   "metadata": {},
   "outputs": [],
   "source": [
    "## Question 6\n",
    "## In standard expression syntax, parentheses and intervals have distinct meanings. How can you tell\n",
    "## a regex that you want it to fit real parentheses and periods?\n",
    "##"
   ]
  },
  {
   "cell_type": "code",
   "execution_count": 12,
   "id": "3387bd65",
   "metadata": {},
   "outputs": [],
   "source": [
    "## Answer 6\n",
    "## \n",
    "## we need to include backslash for it like .findall(r'\\([^)]*\\),', txt)\n",
    "##"
   ]
  },
  {
   "cell_type": "code",
   "execution_count": 13,
   "id": "c9912717",
   "metadata": {},
   "outputs": [],
   "source": [
    "## Question 7\n",
    "## The findall() method returns a string list or a list of string tuples. What causes it to return one of\n",
    "## the two options?\n",
    "##"
   ]
  },
  {
   "cell_type": "code",
   "execution_count": 14,
   "id": "f184ffd6",
   "metadata": {},
   "outputs": [],
   "source": [
    "## Answer 7\n",
    "## findall() returns the list contains the matches in the order they are found.\n",
    "## but if pattern has more than one group then findall() returns a list of string tuples.\n",
    "##"
   ]
  },
  {
   "cell_type": "code",
   "execution_count": 15,
   "id": "1c2f291f",
   "metadata": {},
   "outputs": [],
   "source": [
    "## Question 8\n",
    "## In standard expressions, what does the | character mean?\n",
    "##"
   ]
  },
  {
   "cell_type": "code",
   "execution_count": 16,
   "id": "ddd2fb03",
   "metadata": {},
   "outputs": [],
   "source": [
    "## Answer 8\n",
    "## It means 'Sets each bit to 1 if one of two bits is 1'\n",
    "##"
   ]
  },
  {
   "cell_type": "code",
   "execution_count": 17,
   "id": "57f4d657",
   "metadata": {},
   "outputs": [],
   "source": [
    "## Question 9\n",
    "## In regular expressions, what does the character stand for?\n",
    "##"
   ]
  },
  {
   "cell_type": "code",
   "execution_count": 18,
   "id": "9af065a2",
   "metadata": {},
   "outputs": [],
   "source": [
    "## Answer 9\n",
    "## It means for 'Either or'\n",
    "##"
   ]
  },
  {
   "cell_type": "code",
   "execution_count": 19,
   "id": "4b7c7c39",
   "metadata": {},
   "outputs": [],
   "source": [
    "## Question 10\n",
    "## In regular expressions, what is the difference between the + and * characters?\n",
    "##"
   ]
  },
  {
   "cell_type": "code",
   "execution_count": 20,
   "id": "9d69de92",
   "metadata": {},
   "outputs": [],
   "source": [
    "## Answer 10\n",
    "## '+' means One or more occurrences of a character/word\n",
    "## '*' means Zero or more occurrences of a character/word\n",
    "##"
   ]
  },
  {
   "cell_type": "code",
   "execution_count": 21,
   "id": "a99ac9ac",
   "metadata": {},
   "outputs": [],
   "source": [
    "## Question 11\n",
    "## What is the difference between {4} and {4,5} in regular expression?\n",
    "##"
   ]
  },
  {
   "cell_type": "code",
   "execution_count": 22,
   "id": "68491a5d",
   "metadata": {},
   "outputs": [],
   "source": [
    "## Answer 11\n",
    "## {4} - Specifies that exactly 4 copies of the previous RE should be matched; fewer matches cause the entire RE not to match. \n",
    "##       For example, a{4} will match exactly four 'a' characters, but not three.\n",
    "## {4,5} - Causes the resulting RE to match from 4 to 5 repetitions of the preceding RE, attempting to match as many repetitions as possible\n",
    "##         For example, a{4,5} will match from 4 to 5 'a' characters.\n",
    "##"
   ]
  },
  {
   "cell_type": "code",
   "execution_count": 23,
   "id": "aaa3b730",
   "metadata": {},
   "outputs": [],
   "source": [
    "## Question 12\n",
    "## What do you mean by the \\d, \\w, and \\s shorthand character classes signify in regular\n",
    "## expressions?\n",
    "##"
   ]
  },
  {
   "cell_type": "code",
   "execution_count": 24,
   "id": "b9a3c909",
   "metadata": {},
   "outputs": [],
   "source": [
    "## Answer 12\n",
    "##  \\d - Returns a match where the string contains digits (numbers from 0-9)\n",
    "##  \\w - Returns a match where the string contains any word characters (characters from a to Z, digits from 0-9, and the underscore _ character)\n",
    "##  \\s - Returns a match where the string contains a white space character\n",
    "##"
   ]
  },
  {
   "cell_type": "code",
   "execution_count": 25,
   "id": "4a3d645e",
   "metadata": {},
   "outputs": [],
   "source": [
    "## Question 13\n",
    "## What do means by \\D, \\W, and \\S shorthand character classes signify in regular expressions?\n",
    "##"
   ]
  },
  {
   "cell_type": "code",
   "execution_count": 26,
   "id": "0446550d",
   "metadata": {},
   "outputs": [],
   "source": [
    "## Answer 13\n",
    "##  \\D- Returns a match where the string DOES NOT contain digits\n",
    "##  \\W- Returns a match where the string DOES NOT contain any word characters\n",
    "##  \\S- Returns a match where the string DOES NOT contain a white space character\n",
    "##"
   ]
  },
  {
   "cell_type": "code",
   "execution_count": 27,
   "id": "f7649123",
   "metadata": {},
   "outputs": [],
   "source": [
    "## Question 14\n",
    "## What is the difference between .*? and .*?\n",
    "##"
   ]
  },
  {
   "cell_type": "code",
   "execution_count": 28,
   "id": "1df6a5d2",
   "metadata": {},
   "outputs": [],
   "source": [
    "## Answer 14\n",
    "##\n",
    "##"
   ]
  },
  {
   "cell_type": "code",
   "execution_count": 29,
   "id": "21ce2047",
   "metadata": {},
   "outputs": [],
   "source": [
    "## Question 15\n",
    "## What is the syntax for matching both numbers and lowercase letters with a character class?\n",
    "##"
   ]
  },
  {
   "cell_type": "code",
   "execution_count": 30,
   "id": "5ca9cbd8",
   "metadata": {},
   "outputs": [],
   "source": [
    "## Answer 15\n",
    "## import re\n",
    "## def text_match(text):\n",
    "##    patterns = '^[a-z0-9]*$'\n",
    "##    if re.search(patterns,  text):\n",
    "##         return 'Found a match!'\n",
    "##    else:\n",
    "##         return('Not matched!')\n",
    "## print(text_match(\"The quick brown fox jumps over the lazy dog 123.\"))"
   ]
  },
  {
   "cell_type": "code",
   "execution_count": 31,
   "id": "d48805d6",
   "metadata": {},
   "outputs": [],
   "source": [
    "## Question 16 \n",
    "## What is the procedure for making a normal expression in regax case insensitive?\n",
    "##"
   ]
  },
  {
   "cell_type": "code",
   "execution_count": null,
   "id": "2afdcccf",
   "metadata": {},
   "outputs": [],
   "source": [
    "## Answer 16\n",
    "##\n",
    "##"
   ]
  }
 ],
 "metadata": {
  "kernelspec": {
   "display_name": "Python 3 (ipykernel)",
   "language": "python",
   "name": "python3"
  },
  "language_info": {
   "codemirror_mode": {
    "name": "ipython",
    "version": 3
   },
   "file_extension": ".py",
   "mimetype": "text/x-python",
   "name": "python",
   "nbconvert_exporter": "python",
   "pygments_lexer": "ipython3",
   "version": "3.9.7"
  }
 },
 "nbformat": 4,
 "nbformat_minor": 5
}
