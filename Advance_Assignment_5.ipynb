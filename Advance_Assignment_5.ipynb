{
 "cells": [
  {
   "cell_type": "markdown",
   "id": "0b5b1076",
   "metadata": {},
   "source": [
    "# Question 1\n",
    "#### What is the meaning of multiple inheritance?"
   ]
  },
  {
   "cell_type": "markdown",
   "id": "8b4c89c6",
   "metadata": {},
   "source": [
    "# Answer 1\n",
    "#### When a class is derived from more than one base class it is called multiple Inheritance. The derived class inherits all the features of the base case.\n",
    "#### For Example,\n",
    "    class Base1:\n",
    "        Body of class\n",
    "    \n",
    "    class Base2:\n",
    "        Body of class\n",
    "        \n",
    "    class Derived(Base1, Base2):\n",
    "        Body of class\n"
   ]
  },
  {
   "cell_type": "markdown",
   "id": "52b61cee",
   "metadata": {},
   "source": [
    "# Question 2\n",
    "#### What is the concept of delegation?"
   ]
  },
  {
   "cell_type": "markdown",
   "id": "6cd427c7",
   "metadata": {},
   "source": [
    "# Answer 2\n",
    "#### Delegation is an object oriented technique (also called a design pattern). \n",
    "#### Let's say you have an object x and want to change the behaviour of just one of its methods. \n",
    "#### You can create a new class that provides a new implementation of the method you're interested in changing and delegates all other methods to the corresponding method of x."
   ]
  },
  {
   "cell_type": "markdown",
   "id": "aae63813",
   "metadata": {},
   "source": [
    "# Question 3\n",
    "#### What is the concept of composition?"
   ]
  },
  {
   "cell_type": "markdown",
   "id": "1e9e5a25",
   "metadata": {},
   "source": [
    "# Answer 3\n",
    "#### It is one of the fundamental concepts of Object-Oriented Programming. In this concept, we will describe a class that references to one or more objects of other classes as an Instance variable."
   ]
  },
  {
   "cell_type": "markdown",
   "id": "48e07eed",
   "metadata": {},
   "source": [
    "# Question 4\n",
    "#### What are bound methods and how do we use them?"
   ]
  },
  {
   "cell_type": "markdown",
   "id": "f75b2cdd",
   "metadata": {},
   "source": [
    "# Answer 4\n",
    "#### A bound method is the one which is dependent on the instance of the class as the first argument. \n",
    "#### It passes the instance as the first argument which is used to access the variables and functions. \n",
    "#### In Python 3 and newer versions of python, all functions in the class are by default bound methods."
   ]
  },
  {
   "cell_type": "markdown",
   "id": "236e33b3",
   "metadata": {},
   "source": [
    "# Question 5\n",
    "#### What is the purpose of pseudoprivate attributes?"
   ]
  },
  {
   "cell_type": "markdown",
   "id": "4bead4e6",
   "metadata": {},
   "source": [
    "# Answer 5\n",
    "#### Pseudoprivate attributes are also useful in larger frameworks or tools, \n",
    "#### To avoid introducing new method names that might accidentally hide definitions elsewhere in the class tree \n",
    "#### To reduce the chance of internal methods being replaced by names defined lower in the tree"
   ]
  }
 ],
 "metadata": {
  "kernelspec": {
   "display_name": "Python 3 (ipykernel)",
   "language": "python",
   "name": "python3"
  },
  "language_info": {
   "codemirror_mode": {
    "name": "ipython",
    "version": 3
   },
   "file_extension": ".py",
   "mimetype": "text/x-python",
   "name": "python",
   "nbconvert_exporter": "python",
   "pygments_lexer": "ipython3",
   "version": "3.9.7"
  }
 },
 "nbformat": 4,
 "nbformat_minor": 5
}
