{
 "cells": [
  {
   "cell_type": "markdown",
   "id": "b90864e2",
   "metadata": {},
   "source": [
    "# Question 1\n",
    "#### What advantages do Excel spreadsheets have over CSV spreadsheets"
   ]
  },
  {
   "cell_type": "markdown",
   "id": "32a311ac",
   "metadata": {},
   "source": [
    "# Answer 1\n",
    "#### CSV refers to Comma-Separated Values. It holds plain text as a series of values (cells) separated by commas (, ) in a series of lines (rows). CSV file can actually open in a text editor and read it.\n",
    "#### Microsoft Excel is used to displays the data in horizontal and vertical rows. The data are usually stored in the cells. We have an option of formulas in Excel that can be used for data and its place of storage. You can even add any charts, graphics, etc. to make it more presentable"
   ]
  },
  {
   "cell_type": "markdown",
   "id": "3484d73b",
   "metadata": {},
   "source": [
    "# Question 2\n",
    "#### What do you pass to csv.reader() and csv.writer() to create reader and writer objects?"
   ]
  },
  {
   "cell_type": "markdown",
   "id": "f58e3851",
   "metadata": {},
   "source": [
    "# Answer 2\n",
    "#### we need to pass 'file' object to csv.reader() and csv.writer() to create reader and writer objects."
   ]
  },
  {
   "cell_type": "markdown",
   "id": "86b5a33f",
   "metadata": {},
   "source": [
    "# Question 3\n",
    "#### What modes do File objects for reader and writer objects need to be opened in?"
   ]
  },
  {
   "cell_type": "markdown",
   "id": "1ba55fe1",
   "metadata": {},
   "source": [
    "# Answer 3\n",
    "#### For reading a file, File objects should be in 'r' mode and for writing file, File objects should be in 'w' mode."
   ]
  },
  {
   "cell_type": "markdown",
   "id": "b3537a52",
   "metadata": {},
   "source": [
    "# Question 4\n",
    "#### What method takes a list argument and writes it to a CSV file?"
   ]
  },
  {
   "cell_type": "markdown",
   "id": "90f2ddf5",
   "metadata": {},
   "source": [
    "# Answer 4\n",
    "#### 'writerow()' method will going to accept list as an argument to write CSV file."
   ]
  },
  {
   "cell_type": "markdown",
   "id": "70564061",
   "metadata": {},
   "source": [
    "# Question 5\n",
    "#### What do the keyword arguments delimiter and line terminator do?"
   ]
  },
  {
   "cell_type": "markdown",
   "id": "925f6a61",
   "metadata": {},
   "source": [
    "# Answer 5\n",
    "#### If we want to change character between cells to tab then we will give delimiter=\"\\\\t\". \n",
    "#### If we want to change characters. between rows to two newlines then lineterminator=\"\\\\n\\\\n\"."
   ]
  },
  {
   "cell_type": "markdown",
   "id": "621b9ca5",
   "metadata": {},
   "source": [
    "# Question 6\n",
    "#### What function takes a string of JSON data and returns a Python data structure?"
   ]
  },
  {
   "cell_type": "markdown",
   "id": "3e0bf01b",
   "metadata": {},
   "source": [
    "# Answer 6\n",
    "#### json.loads() will accept JSON data as an argument and return data structure ."
   ]
  },
  {
   "cell_type": "markdown",
   "id": "4865144c",
   "metadata": {},
   "source": [
    "# Question 7\n",
    "#### What function takes a Python data structure and returns a string of JSON data?"
   ]
  },
  {
   "cell_type": "markdown",
   "id": "65c1958b",
   "metadata": {},
   "source": [
    "# Answer 7\n",
    "#### json.dumps() taked string as an argument and returns a JSON data."
   ]
  }
 ],
 "metadata": {
  "kernelspec": {
   "display_name": "Python 3 (ipykernel)",
   "language": "python",
   "name": "python3"
  },
  "language_info": {
   "codemirror_mode": {
    "name": "ipython",
    "version": 3
   },
   "file_extension": ".py",
   "mimetype": "text/x-python",
   "name": "python",
   "nbconvert_exporter": "python",
   "pygments_lexer": "ipython3",
   "version": "3.9.7"
  }
 },
 "nbformat": 4,
 "nbformat_minor": 5
}
