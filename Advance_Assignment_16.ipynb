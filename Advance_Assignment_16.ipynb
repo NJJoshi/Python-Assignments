{
 "cells": [
  {
   "cell_type": "markdown",
   "id": "b284eaec",
   "metadata": {},
   "source": [
    "# Question 1\n",
    "#### What is the benefit of regular expressions?"
   ]
  },
  {
   "cell_type": "markdown",
   "id": "597d0f71",
   "metadata": {},
   "source": [
    "# Answer 1\n",
    "#### A Regular Expression is used for identifying a search pattern in a text string. It also helps in finding out the correctness of the data and even operations such as finding, replacing and formatting the data is possible using Regular Expressions."
   ]
  },
  {
   "cell_type": "markdown",
   "id": "94ffe772",
   "metadata": {},
   "source": [
    "# Question 2\n",
    "#### Describe the difference between the effects of \"(ab)c+\" and \"a(bc)+.\" Which of these, if any, is the unqualified pattern \"abc+\"?"
   ]
  },
  {
   "cell_type": "markdown",
   "id": "037e8bb4",
   "metadata": {},
   "source": [
    "# Answer 2\n",
    "#### (ab)c+ - It will search& match for string where first two characters must be 'ab' following one or more occurance of 'c'\n",
    "#### a(bc)+ - It will search & match for string where first character must start with 'a' following one or more occurance of 'bc'\n",
    "#### Both of these expression will return True for pattern 'abc+'"
   ]
  },
  {
   "cell_type": "markdown",
   "id": "a1716b85",
   "metadata": {},
   "source": [
    "# Question 3\n",
    "#### How much do you need to use the following sentence while using regular expressions?\n",
    "#### import re"
   ]
  },
  {
   "cell_type": "markdown",
   "id": "c70a0f58",
   "metadata": {},
   "source": [
    "# Answer 3\n",
    "#### Once it will be use at top of python file then we don't need to rewrite it because it will import 're' module which is require for Regular expression related operations"
   ]
  },
  {
   "cell_type": "markdown",
   "id": "e77028df",
   "metadata": {},
   "source": [
    "# Question 4\n",
    "#### Which characters have special significance in square brackets when expressing a range, and under what circumstances?"
   ]
  },
  {
   "cell_type": "markdown",
   "id": "4d6a7664",
   "metadata": {},
   "source": [
    "# Answer 4\n",
    "#### '^' caret has special significance while mentioning characters inside square brackets and it will be significate when we have scenario where we have wider unwanted choice of charactes then desired one."
   ]
  },
  {
   "cell_type": "markdown",
   "id": "14905e4e",
   "metadata": {},
   "source": [
    "# Question 5\n",
    "#### How does compiling a regular-expression object benefit you?"
   ]
  },
  {
   "cell_type": "markdown",
   "id": "7b0474f3",
   "metadata": {},
   "source": [
    "# Answer 5\n",
    "#### The biggest benefit to re.compile is being able to separate definition of the regex from its use."
   ]
  },
  {
   "cell_type": "markdown",
   "id": "41f93714",
   "metadata": {},
   "source": [
    "# Question 6\n",
    "#### What are some examples of how to use the match object returned by re.match and re.search?"
   ]
  },
  {
   "cell_type": "markdown",
   "id": "d7fcf4f3",
   "metadata": {},
   "source": [
    "# Answer 6\n",
    "#### Example to show re.search():\n",
    "    import re\n",
    "    regex = r\"([a-zA-Z]+) (\\d+)\"\n",
    "    match = re.search(regex, \"I was born on June 24\")\n",
    "    if match != None:\n",
    "        print (\"Match at index %s, %s\" % (match.start(), match.end()))\n",
    "        print (\"Full match: %s\" % (match.group(0)))\n",
    "        print (\"Month: %s\" % (match.group(1)))\n",
    "        print (\"Day: %s\" % (match.group(2)))\n",
    "    else:\n",
    "        print (\"The regex pattern does not match.\")\n",
    "    \n",
    "#### which provide output:\n",
    "    Match at index 14, 21\n",
    "    Full match: June 24\n",
    "    Month: June\n",
    "    Day: 24\n",
    "\n",
    "#### Example to show re.match():\n",
    "    import re\n",
    "    \n",
    "    def findMonthAndDate(string):\n",
    "        \n",
    "        regex = r\"([a-zA-Z]+) (\\d+)\"\n",
    "        match = re.match(regex, string)\n",
    "        \n",
    "        if match == None: \n",
    "            print (\"Not a valid date\")\n",
    "            return\n",
    "\n",
    "        print (\"Given Data: %s\" % (match.group()))\n",
    "        print (\"Month: %s\" % (match.group(1)))\n",
    "        print (\"Day: %s\" % (match.group(2)))\n",
    "\n",
    "\n",
    "    findMonthAndDate(\"Jun 24\")\n",
    "    print(\"\")\n",
    "    findMonthAndDate(\"I was born on June 24\")\n",
    "    \n",
    "#### which provide output:\n",
    "    Given Data: Jun 24\n",
    "    Month: Jun\n",
    "    Day: 24\n",
    "\n",
    "    Not a valid date\n"
   ]
  },
  {
   "cell_type": "markdown",
   "id": "7e07e3e7",
   "metadata": {},
   "source": [
    "# Question 7\n",
    "#### What is the difference between using a vertical bar (|) as an alteration and using square brackets as a character set?"
   ]
  },
  {
   "cell_type": "markdown",
   "id": "f1e80e80",
   "metadata": {},
   "source": [
    "# Answer 7\n",
    "#### The vertical bar is a regex \"or\"\n",
    "#### Square brackets are a character class meaning \"any character from a or b for [ab]."
   ]
  },
  {
   "cell_type": "markdown",
   "id": "01ea5971",
   "metadata": {},
   "source": [
    "# Question 8\n",
    "#### In regular-expression search patterns, why is it necessary to use the raw-string indicator (r)? In   replacement strings?"
   ]
  },
  {
   "cell_type": "markdown",
   "id": "b834a91d",
   "metadata": {},
   "source": [
    "# Answer 8\n",
    "#### Because regular expressions are frequently static strings, which are conveniently represented as string literals. And from the different string literal notations available, raw strings are a convenient choice, when the regular expression includes a backslash character."
   ]
  }
 ],
 "metadata": {
  "kernelspec": {
   "display_name": "Python 3 (ipykernel)",
   "language": "python",
   "name": "python3"
  },
  "language_info": {
   "codemirror_mode": {
    "name": "ipython",
    "version": 3
   },
   "file_extension": ".py",
   "mimetype": "text/x-python",
   "name": "python",
   "nbconvert_exporter": "python",
   "pygments_lexer": "ipython3",
   "version": "3.9.7"
  }
 },
 "nbformat": 4,
 "nbformat_minor": 5
}
