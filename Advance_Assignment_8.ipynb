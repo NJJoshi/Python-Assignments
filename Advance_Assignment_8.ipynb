{
 "cells": [
  {
   "cell_type": "markdown",
   "id": "6232cba3",
   "metadata": {},
   "source": [
    "# Question 1\n",
    "#### What are the two latest user-defined exception constraints in Python 3.X?"
   ]
  },
  {
   "cell_type": "markdown",
   "id": "4c8724e6",
   "metadata": {},
   "source": [
    "# Answer 1\n",
    "#### Change 1: 'as' keyword is required while Catching exceptions. You must now use 'except SomeException as variable' instead of 'except SomeException, variable'\n",
    "\n",
    " #### Change 2: Raising exceptions. You must now use 'raise Exception(args)' instead of 'raise Exception, args'."
   ]
  },
  {
   "cell_type": "markdown",
   "id": "b792537b",
   "metadata": {},
   "source": [
    "# Question 2\n",
    "#### How are class-based exceptions that have been raised matched to handlers ?"
   ]
  },
  {
   "cell_type": "markdown",
   "id": "8f6f4f6f",
   "metadata": {},
   "source": [
    "# Answer 2\n",
    "#### the original exception (that was being handled) is saved as the __context__ attribute of the secondary exception.\n",
    "#### Explicit chaining is invoked with this syntax:\n",
    "    raise SecondaryException() from primary_exception\n",
    "#### In this case, the primary exception is stored on the __cause__ attribute of the secondary exception. \n",
    "#### The traceback printed when an unhandled exception occurs walks the chain of __cause__ and __context__ attributes and prints a separate traceback for each component of the chain, with the primary exception at the top.\n",
    "#### Based upon this logic, whichever handler is there to catch custom exception class, control will flow to that handler block and custom class based exception will get handled there."
   ]
  },
  {
   "cell_type": "markdown",
   "id": "99a01ce1",
   "metadata": {},
   "source": [
    "# Question 3\n",
    "#### Describe two methods for attaching context information to exception artifacts."
   ]
  },
  {
   "cell_type": "markdown",
   "id": "7c02e112",
   "metadata": {},
   "source": [
    "# Answer 3\n",
    "#### Way 1: Setting the __context__ happens if you used raise in an exception handler shown as below.\n",
    "    raise Exception('Raising exception')\n",
    "\n",
    "#### Way 2:When raising from a exception handler where you don't want to show the context (don't want a during handling another exception happened message), then use 'raise ... from None' to set __suppress_context__ to True.\n",
    "    "
   ]
  },
  {
   "cell_type": "markdown",
   "id": "e97253d7",
   "metadata": {},
   "source": [
    "# Question 4\n",
    "#### Describe two methods for specifying the text of an exception object's error message."
   ]
  },
  {
   "cell_type": "markdown",
   "id": "464df7d9",
   "metadata": {},
   "source": [
    "# Answer 4\n",
    "#### Way 1: pass message a message while creating Exception object.\n",
    "    raise Exception('Exception message')\n",
    "#### Way 2: We can also pass custom error message text as show below.\n",
    "     try:\n",
    "         pass\n",
    "     except Exception as e:\n",
    "         print getattr(e, 'custom message', str(e))"
   ]
  },
  {
   "cell_type": "markdown",
   "id": "ca0ebef3",
   "metadata": {},
   "source": [
    "# Question 5\n",
    "#### Why do you no longer use string-based exceptions?"
   ]
  },
  {
   "cell_type": "markdown",
   "id": "8f3ae775",
   "metadata": {},
   "source": [
    "# Answer 5\n",
    "#### It is because classes have many nice properties when used as exceptions, it is desirable to migrate to a situation where classes are used exclusively. Also in order to make code base better backward compatible, "
   ]
  }
 ],
 "metadata": {
  "kernelspec": {
   "display_name": "Python 3 (ipykernel)",
   "language": "python",
   "name": "python3"
  },
  "language_info": {
   "codemirror_mode": {
    "name": "ipython",
    "version": 3
   },
   "file_extension": ".py",
   "mimetype": "text/x-python",
   "name": "python",
   "nbconvert_exporter": "python",
   "pygments_lexer": "ipython3",
   "version": "3.9.7"
  }
 },
 "nbformat": 4,
 "nbformat_minor": 5
}
