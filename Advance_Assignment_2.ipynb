{
 "cells": [
  {
   "cell_type": "markdown",
   "id": "9da082e3",
   "metadata": {},
   "source": [
    "# Question 1\n",
    "#### What is the relationship between classes and modules?"
   ]
  },
  {
   "cell_type": "markdown",
   "id": "3deedc4d",
   "metadata": {},
   "source": [
    "# Answer 1\n",
    "#### module is like where classes are declare and defined under it. Module is like it's python (.py) file."
   ]
  },
  {
   "cell_type": "markdown",
   "id": "29f0c40e",
   "metadata": {},
   "source": [
    "# Question 2\n",
    "#### How do you make instances and classes?"
   ]
  },
  {
   "cell_type": "markdown",
   "id": "286b770a",
   "metadata": {},
   "source": [
    "# Answer 2\n",
    "#### The class statement creates a new class definition. To create instances of a class, you call the class using class name and pass in whatever arguments its __init__ method accepts."
   ]
  },
  {
   "cell_type": "markdown",
   "id": "1aad8489",
   "metadata": {},
   "source": [
    "# Question 3\n",
    "#### Where and how should be class attributes created?"
   ]
  },
  {
   "cell_type": "markdown",
   "id": "b3b41300",
   "metadata": {},
   "source": [
    "# Answer 3\n",
    "#### class attributes created as:\n",
    "#### For Example,\n",
    "    class employee:\n",
    "     empCount = 0\n",
    "     empId = 0\n",
    "#### Here 'empCount' count is a class attribute "
   ]
  },
  {
   "cell_type": "markdown",
   "id": "25f002fd",
   "metadata": {},
   "source": [
    "# Question 4\n",
    "#### Where and how are instance attributes created?"
   ]
  },
  {
   "cell_type": "markdown",
   "id": "7dca5d16",
   "metadata": {},
   "source": [
    "# Answer 4\n",
    "#### 'Instance' attribute defined inside a constructor using 'self' parameter.\n",
    "#### For example,\n",
    "    class Student:\n",
    "    def __init__(self, name):\n",
    "         self.name = name\n",
    "#### Here 'name' is a Instance attribute"
   ]
  },
  {
   "cell_type": "markdown",
   "id": "85163049",
   "metadata": {},
   "source": [
    "# Question 5\n",
    "#### What does the term \"self\" in a Python class mean?"
   ]
  },
  {
   "cell_type": "markdown",
   "id": "a20dc0fe",
   "metadata": {},
   "source": [
    "# Answer 5\n",
    "#### It's just a name and it's not mandatory to have it as 'self'. Basically it's a reference pointer to the class itself so that within class , we can access class variable(s), instance variable(s) and instance method(s) as well."
   ]
  },
  {
   "cell_type": "markdown",
   "id": "f0fa198c",
   "metadata": {},
   "source": [
    "# Question 6\n",
    "#### How does a Python class handle operator overloading?"
   ]
  },
  {
   "cell_type": "markdown",
   "id": "cad298c5",
   "metadata": {},
   "source": [
    "# Answer 6\n",
    "#### When the user uses the operator on the user-defined data types of class, then a magic function that is associated with the operator will be invoked automatically."
   ]
  },
  {
   "cell_type": "markdown",
   "id": "ba33a2be",
   "metadata": {},
   "source": [
    "# Question 7\n",
    "#### When do you consider allowing operator overloading of your classes?"
   ]
  },
  {
   "cell_type": "markdown",
   "id": "e8c3f53c",
   "metadata": {},
   "source": [
    "# Answer 7\n",
    "#### The user can notice that the same inbuilt operator or function is showing different behaviour for objects of different classes."
   ]
  },
  {
   "cell_type": "markdown",
   "id": "2228eaef",
   "metadata": {},
   "source": [
    "# Question 8\n",
    "#### What is the most popular form of operator overloading?"
   ]
  },
  {
   "cell_type": "markdown",
   "id": "896fc4f2",
   "metadata": {},
   "source": [
    "# Answer 8\n",
    "#### It should be done by overloading/re-defining built-in methods like\n",
    "#### for overloading '+' operator , we need to do\n",
    "    def __add__(self, other):\n",
    "        pass\n",
    "#### for overloading '-' operator, we need to redefine below mentioned method,\n",
    "    def __sub__(self,other):\n",
    "        pass\n",
    "#### for overloading '*' operator, we need to redefine,\n",
    "    def __mul__(self,other):\n",
    "        pass\n",
    "#### for overloading '*' operator, we need to redefine,\n",
    "    def __mul__(self,other):\n",
    "        pass\n",
    "#### for overloading '/' operator, we need to redefine,\n",
    "    def __truediv__(self,other):\n",
    "        pass\n",
    "#### for overloading '**' operator, we need to redefine,\n",
    "    def __power__(self,other):\n",
    "        pass\n",
    "#### for overloading '%' operator, we need to redefine,\n",
    "    def __mod__(self,other):\n",
    "        pass\n",
    "#### for overloading '~' operator, we need to redefine,\n",
    "    def __invert__(self,other):\n",
    "        pass\n",
    "#### for overloading '&' operator, we need to redefine,\n",
    "    def __and__(self,other):\n",
    "        pass\n",
    "#### for overloading '|' operator, we need to redefine,\n",
    "    def __or__(self,other):\n",
    "        pass"
   ]
  },
  {
   "cell_type": "markdown",
   "id": "f810ce8e",
   "metadata": {},
   "source": [
    "# Question 9\n",
    "#### What are the two most important concepts to grasp in order to comprehend Python OOP code?"
   ]
  },
  {
   "cell_type": "markdown",
   "id": "8348d73e",
   "metadata": {},
   "source": [
    "# Answer 9\n",
    "#### we need to grasp 'Inheritance' and 'Polymorphism'."
   ]
  }
 ],
 "metadata": {
  "kernelspec": {
   "display_name": "Python 3 (ipykernel)",
   "language": "python",
   "name": "python3"
  },
  "language_info": {
   "codemirror_mode": {
    "name": "ipython",
    "version": 3
   },
   "file_extension": ".py",
   "mimetype": "text/x-python",
   "name": "python",
   "nbconvert_exporter": "python",
   "pygments_lexer": "ipython3",
   "version": "3.9.7"
  }
 },
 "nbformat": 4,
 "nbformat_minor": 5
}
