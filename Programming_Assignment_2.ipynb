{
 "cells": [
  {
   "cell_type": "markdown",
   "id": "11fe6d37",
   "metadata": {},
   "source": [
    "# Question 1\n",
    "#### Write a Python program to convert kilometers to miles?"
   ]
  },
  {
   "cell_type": "code",
   "execution_count": 2,
   "id": "f3795e4f",
   "metadata": {},
   "outputs": [
    {
     "name": "stdout",
     "output_type": "stream",
     "text": [
      "Please provide kilometer value:10\n",
      "for 10 kms is equivellent to 6.21371 miles\n"
     ]
    }
   ],
   "source": [
    "kms = int(input('Please provide kilometer value:'))\n",
    "miles = float(kms * 0.621371)\n",
    "print('for ' + str(kms) + ' kms is equivellent to '+ str(miles) + ' miles')"
   ]
  },
  {
   "cell_type": "markdown",
   "id": "4384e39b",
   "metadata": {},
   "source": [
    "# Question 2\n",
    "#### Write a Python program to convert Celsius to Fahrenheit ?"
   ]
  },
  {
   "cell_type": "code",
   "execution_count": 4,
   "id": "336927e9",
   "metadata": {},
   "outputs": [
    {
     "name": "stdout",
     "output_type": "stream",
     "text": [
      "Please provide celcius value:32\n",
      "for 32.0 celcius is equivellent to 1024.0 fahrenheit\n"
     ]
    }
   ],
   "source": [
    "celcius = float(input('Please provide celcius value:'))\n",
    "fahrenheit = celcius * 32\n",
    "print('for ' + str(celcius) + ' celcius is equivellent to ' + str(fahrenheit) + ' fahrenheit')"
   ]
  },
  {
   "cell_type": "markdown",
   "id": "d61f53ba",
   "metadata": {},
   "source": [
    "# Question 3\n",
    "#### Write a Python program to display calendar ?"
   ]
  },
  {
   "cell_type": "code",
   "execution_count": 5,
   "id": "b523b992",
   "metadata": {},
   "outputs": [
    {
     "name": "stdout",
     "output_type": "stream",
     "text": [
      "    January 2022\n",
      "Mo Tu We Th Fr Sa Su\n",
      "                1  2\n",
      " 3  4  5  6  7  8  9\n",
      "10 11 12 13 14 15 16\n",
      "17 18 19 20 21 22 23\n",
      "24 25 26 27 28 29 30\n",
      "31\n",
      "\n"
     ]
    }
   ],
   "source": [
    "import calendar\n",
    "yy=2022\n",
    "mm=1\n",
    "print(calendar.month(yy, mm))"
   ]
  },
  {
   "cell_type": "markdown",
   "id": "d2fcd553",
   "metadata": {},
   "source": [
    "# Question 4\n",
    "#### Write a Python program to solve quadratic equation"
   ]
  },
  {
   "cell_type": "code",
   "execution_count": 7,
   "id": "a7239079",
   "metadata": {},
   "outputs": [
    {
     "name": "stdout",
     "output_type": "stream",
     "text": [
      " real and different roots \n",
      "2.0\n",
      "-12.0\n"
     ]
    }
   ],
   "source": [
    "# Python program to find roots of quadratic equation\n",
    "# ax2 + bx + c\n",
    "# where,\n",
    "# a, b, and c are coefficient and real numbers and also a ≠ 0.\n",
    "# If a is equal to 0 that equation is not valid quadratic equation.\n",
    "\n",
    "import math \n",
    "  \n",
    "  \n",
    "# function for finding roots\n",
    "def equationroots( a, b, c): \n",
    "  \n",
    "    # calculating discriminant using formula\n",
    "    dis = b * b - 4 * a * c \n",
    "    sqrt_val = math.sqrt(abs(dis)) \n",
    "      \n",
    "    # checking condition for discriminant\n",
    "    if dis > 0: \n",
    "        print(\" real and different roots \") \n",
    "        print((-b + sqrt_val)/(2 * a)) \n",
    "        print((-b - sqrt_val)/(2 * a)) \n",
    "      \n",
    "    elif dis == 0: \n",
    "        print(\" real and same roots\") \n",
    "        print(-b / (2 * a)) \n",
    "      \n",
    "    # when discriminant is less than 0\n",
    "    else:\n",
    "        print(\"Complex Roots\") \n",
    "        print(- b / (2 * a), \" + i\", sqrt_val) \n",
    "        print(- b / (2 * a), \" - i\", sqrt_val) \n",
    "  \n",
    "# Driver Program \n",
    "a = 1\n",
    "b = 10\n",
    "c = -24\n",
    "  \n",
    "# If a is 0, then incorrect equation\n",
    "if a == 0: \n",
    "        print(\"Input correct quadratic equation\") \n",
    "  \n",
    "else:\n",
    "    equationroots(a, b, c)"
   ]
  },
  {
   "cell_type": "markdown",
   "id": "1cd1f791",
   "metadata": {},
   "source": [
    "# Question 5\n",
    "#### Write a Python program to swap two variables without temp variable ?"
   ]
  },
  {
   "cell_type": "code",
   "execution_count": 8,
   "id": "3b2ebd45",
   "metadata": {},
   "outputs": [
    {
     "name": "stdout",
     "output_type": "stream",
     "text": [
      "Before swapping: \n",
      "Value of x :  21  and y :  12\n",
      "After swapping without using temp variable: \n",
      "Value of x :  12  and y :  21\n"
     ]
    }
   ],
   "source": [
    "x = 21\n",
    "y = 12\n",
    " \n",
    "print (\"Before swapping: \")\n",
    "print(\"Value of x : \", x, \" and y : \", y)\n",
    " \n",
    "# code to swap 'x' and 'y'\n",
    "x, y = y, x\n",
    " \n",
    "print (\"After swapping without using temp variable: \")\n",
    "print(\"Value of x : \", x, \" and y : \", y)"
   ]
  }
 ],
 "metadata": {
  "kernelspec": {
   "display_name": "Python 3 (ipykernel)",
   "language": "python",
   "name": "python3"
  },
  "language_info": {
   "codemirror_mode": {
    "name": "ipython",
    "version": 3
   },
   "file_extension": ".py",
   "mimetype": "text/x-python",
   "name": "python",
   "nbconvert_exporter": "python",
   "pygments_lexer": "ipython3",
   "version": "3.9.7"
  }
 },
 "nbformat": 4,
 "nbformat_minor": 5
}
