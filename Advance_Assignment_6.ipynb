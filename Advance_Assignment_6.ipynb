{
 "cells": [
  {
   "cell_type": "markdown",
   "id": "2e79294c",
   "metadata": {},
   "source": [
    "# Question 1\n",
    "#### Describe three applications for exception processing."
   ]
  },
  {
   "cell_type": "markdown",
   "id": "4e4c8cc3",
   "metadata": {},
   "source": [
    "# Answer 1\n",
    "#### 1. File handling related operation\n",
    "#### 2. Numerical data handling like performing conversion while taking input from user\n",
    "#### 3. Database connection handling code"
   ]
  },
  {
   "cell_type": "markdown",
   "id": "1a962991",
   "metadata": {},
   "source": [
    "# Question 2\n",
    "#### What happens if you don't do something extra to treat an exception?"
   ]
  },
  {
   "cell_type": "markdown",
   "id": "39e2f922",
   "metadata": {},
   "source": [
    "# Answer 2\n",
    "#### While debugging or investigation of issue, developers may not get enough information about actual cause."
   ]
  },
  {
   "cell_type": "markdown",
   "id": "ff98a208",
   "metadata": {},
   "source": [
    "# Question 3\n",
    "#### What are your options for recovering from an exception in your script?"
   ]
  },
  {
   "cell_type": "markdown",
   "id": "9e7f6a3a",
   "metadata": {},
   "source": [
    "# Answer 3\n",
    "#### Try to handle as many possible exceptions and recorrect then if exception happing while handling user input\n",
    "#### Try to re-attempt connection in except block , if its exception while handling database exceptions\n",
    "#### Try to re-attempt connection in except block , if its exception while handling socket connection related exceptions"
   ]
  },
  {
   "cell_type": "markdown",
   "id": "cfe418ec",
   "metadata": {},
   "source": [
    "# Question 4\n",
    "#### Describe two methods for triggering exceptions in your script."
   ]
  },
  {
   "cell_type": "markdown",
   "id": "346f7688",
   "metadata": {},
   "source": [
    "# Answer 4\n",
    "####  by using 'raise' and by using 'assert'\n",
    "#### we can also initiate by purposly writing mathematically incorrect statement like int(1/0)."
   ]
  },
  {
   "cell_type": "markdown",
   "id": "dd39fbaa",
   "metadata": {},
   "source": [
    "# Question 5\n",
    "#### Identify two methods for specifying actions to be executed at termination time, regardless of whether or not an exception exists."
   ]
  },
  {
   "cell_type": "markdown",
   "id": "4f89ea04",
   "metadata": {},
   "source": [
    "# Answer 5\n",
    "#### finally block and exit handlers will always executes at termination time."
   ]
  }
 ],
 "metadata": {
  "kernelspec": {
   "display_name": "Python 3 (ipykernel)",
   "language": "python",
   "name": "python3"
  },
  "language_info": {
   "codemirror_mode": {
    "name": "ipython",
    "version": 3
   },
   "file_extension": ".py",
   "mimetype": "text/x-python",
   "name": "python",
   "nbconvert_exporter": "python",
   "pygments_lexer": "ipython3",
   "version": "3.9.7"
  }
 },
 "nbformat": 4,
 "nbformat_minor": 5
}
