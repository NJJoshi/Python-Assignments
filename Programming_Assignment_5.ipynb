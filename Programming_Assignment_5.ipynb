{
 "cells": [
  {
   "cell_type": "markdown",
   "id": "3e7e89b9",
   "metadata": {},
   "source": [
    "# Question 1\n",
    "#### Write a Python Program to Find LCM."
   ]
  },
  {
   "cell_type": "markdown",
   "id": "e40c32e4",
   "metadata": {},
   "source": [
    "# Answer 1"
   ]
  },
  {
   "cell_type": "code",
   "execution_count": 4,
   "id": "4dd14c3b",
   "metadata": {},
   "outputs": [
    {
     "name": "stdout",
     "output_type": "stream",
     "text": [
      "Please enter first number:54\n",
      "Please enter second number:24\n",
      "test-> 24\n",
      "test-> 6\n",
      "The L.C.M. is 216.0\n"
     ]
    }
   ],
   "source": [
    "def compute_gcd(x,y):\n",
    "    while y:\n",
    "        print('test->' , y)\n",
    "        x,y = y,(x%y)\n",
    "    return x\n",
    "\n",
    "def compute_lcm(x,y):\n",
    "    try:\n",
    "        x = int(x)\n",
    "        y = int(y)\n",
    "        lcm = (x*y)/compute_gcd(x,y)\n",
    "        return lcm\n",
    "    except ValueError as e:\n",
    "        print('Error occurred while conversion')\n",
    "\n",
    "def main():\n",
    "    input_x = input('Please enter first number:')\n",
    "    input_y = input('Please enter second number:')\n",
    "    print(\"The L.C.M. is\", compute_lcm(input_x, input_y))\n",
    "\n",
    "main()"
   ]
  },
  {
   "cell_type": "markdown",
   "id": "9dfcadfa",
   "metadata": {},
   "source": [
    "# Question 2\n",
    "#### Write a Python Program to Find HCF"
   ]
  },
  {
   "cell_type": "markdown",
   "id": "fd24780f",
   "metadata": {},
   "source": [
    "# Answer 2"
   ]
  },
  {
   "cell_type": "code",
   "execution_count": 7,
   "id": "f3df6346",
   "metadata": {},
   "outputs": [
    {
     "name": "stdout",
     "output_type": "stream",
     "text": [
      "Please enter first number:54\n",
      "Please enter second number:24\n",
      "The GCD is 6\n"
     ]
    }
   ],
   "source": [
    "def compute_gcd(x,y):\n",
    "    try:\n",
    "        x = int(x)\n",
    "        y = int(y)\n",
    "        while y:\n",
    "            x,y = y,(x%y)\n",
    "        return x\n",
    "    except ValueError as e:\n",
    "        print('Error occurred while conversion') \n",
    "\n",
    "def main():\n",
    "    input_x = input('Please enter first number:')\n",
    "    input_y = input('Please enter second number:')\n",
    "    print(\"The GCD is\", compute_gcd(input_x, input_y))\n",
    "\n",
    "main()"
   ]
  },
  {
   "cell_type": "markdown",
   "id": "ecbdb6e0",
   "metadata": {},
   "source": [
    "# Question 3\n",
    "#### Write a Python Program to Convert Decimal to Binary, Octal and Hexadecimal"
   ]
  },
  {
   "cell_type": "markdown",
   "id": "b7a3218f",
   "metadata": {},
   "source": [
    "# Answer 3"
   ]
  },
  {
   "cell_type": "code",
   "execution_count": 8,
   "id": "76c4fefe",
   "metadata": {},
   "outputs": [
    {
     "name": "stdout",
     "output_type": "stream",
     "text": [
      "Please enter valid integer:12\n",
      "The decimal value of 12 is:\n",
      "0b1100 in binary.\n",
      "0o14 in octal.\n",
      "0xc in hexadecimal.\n"
     ]
    }
   ],
   "source": [
    "def main():\n",
    "    # Python program to convert decimal into other number systems\n",
    "    try:\n",
    "        dec = int(input('Please enter valid integer:'))\n",
    "        print(\"The decimal value of\", dec, \"is:\")\n",
    "        print(bin(dec), \"in binary.\")\n",
    "        print(oct(dec), \"in octal.\")\n",
    "        print(hex(dec), \"in hexadecimal.\")\n",
    "    except ValueError as e:\n",
    "        print('Error occured while entered value conversion.',e)\n",
    "    except Exception as ex:\n",
    "        print('Error occured while value conversion.',ex)\n",
    "\n",
    "main()"
   ]
  },
  {
   "cell_type": "markdown",
   "id": "ffa86d80",
   "metadata": {},
   "source": [
    "# Question 4\n",
    "#### Write a Python Program To Find ASCII value of a character"
   ]
  },
  {
   "cell_type": "markdown",
   "id": "c954e252",
   "metadata": {},
   "source": [
    "# Answer 4"
   ]
  },
  {
   "cell_type": "code",
   "execution_count": 10,
   "id": "e5bff707",
   "metadata": {},
   "outputs": [
    {
     "name": "stdout",
     "output_type": "stream",
     "text": [
      "Please enter string:Nirav\n",
      "The ASCII value of 'N' is 78\n",
      "The ASCII value of 'i' is 105\n",
      "The ASCII value of 'r' is 114\n",
      "The ASCII value of 'a' is 97\n",
      "The ASCII value of 'v' is 118\n"
     ]
    }
   ],
   "source": [
    "def main():\n",
    "    input_str = input('Please enter string:')\n",
    "    for ch in input_str:\n",
    "        print(\"The ASCII value of '\" + ch + \"' is\", ord(ch))\n",
    "\n",
    "main()"
   ]
  },
  {
   "cell_type": "markdown",
   "id": "eb6cd011",
   "metadata": {},
   "source": [
    "# Question 5\n",
    "#### Write a Python Program to Make a Simple Calculator with 4 basic mathematical operations"
   ]
  },
  {
   "cell_type": "markdown",
   "id": "b0645383",
   "metadata": {},
   "source": [
    "# Answer 5"
   ]
  },
  {
   "cell_type": "code",
   "execution_count": 11,
   "id": "7dd032b4",
   "metadata": {},
   "outputs": [
    {
     "name": "stdout",
     "output_type": "stream",
     "text": [
      "Select operation.\n",
      "1.Add\n",
      "2.Subtract\n",
      "3.Multiply\n",
      "4.Divide\n",
      "Enter choice(1/2/3/4): 1\n",
      "Enter first number: 12\n",
      "Enter second number: 12\n",
      "12.0 + 12.0 = 24.0\n",
      "Let's do next calculation? (yes/no): no\n"
     ]
    }
   ],
   "source": [
    "# Program make a simple calculator\n",
    "\n",
    "# This function adds two numbers\n",
    "def add(x, y):\n",
    "    return x + y\n",
    "\n",
    "# This function subtracts two numbers\n",
    "def subtract(x, y):\n",
    "    return x - y\n",
    "\n",
    "# This function multiplies two numbers\n",
    "def multiply(x, y):\n",
    "    return x * y\n",
    "\n",
    "# This function divides two numbers\n",
    "def divide(x, y):\n",
    "    return x / y\n",
    "\n",
    "# Main function\n",
    "def main():\n",
    "    print(\"Select operation.\")\n",
    "    print(\"1.Add\")\n",
    "    print(\"2.Subtract\")\n",
    "    print(\"3.Multiply\")\n",
    "    print(\"4.Divide\")\n",
    "\n",
    "    while True:\n",
    "        # take input from the user\n",
    "        choice = input(\"Enter choice(1/2/3/4): \")\n",
    "\n",
    "        # check if choice is one of the four options\n",
    "        if choice in ('1', '2', '3', '4'):\n",
    "            num1 = float(input(\"Enter first number: \"))\n",
    "            num2 = float(input(\"Enter second number: \"))\n",
    "\n",
    "            if choice == '1':\n",
    "                print(num1, \"+\", num2, \"=\", add(num1, num2))\n",
    "\n",
    "            elif choice == '2':\n",
    "                print(num1, \"-\", num2, \"=\", subtract(num1, num2))\n",
    "\n",
    "            elif choice == '3':\n",
    "                print(num1, \"*\", num2, \"=\", multiply(num1, num2))\n",
    "\n",
    "            elif choice == '4':\n",
    "                print(num1, \"/\", num2, \"=\", divide(num1, num2))\n",
    "\n",
    "            # check if user wants another calculation\n",
    "            # break the while loop if answer is no\n",
    "            next_calculation = input(\"Let's do next calculation? (yes/no): \")\n",
    "            if next_calculation == \"no\":\n",
    "              break\n",
    "\n",
    "        else:\n",
    "            print(\"Invalid Input\")\n",
    "\n",
    "main()"
   ]
  }
 ],
 "metadata": {
  "kernelspec": {
   "display_name": "Python 3 (ipykernel)",
   "language": "python",
   "name": "python3"
  },
  "language_info": {
   "codemirror_mode": {
    "name": "ipython",
    "version": 3
   },
   "file_extension": ".py",
   "mimetype": "text/x-python",
   "name": "python",
   "nbconvert_exporter": "python",
   "pygments_lexer": "ipython3",
   "version": "3.9.7"
  }
 },
 "nbformat": 4,
 "nbformat_minor": 5
}
