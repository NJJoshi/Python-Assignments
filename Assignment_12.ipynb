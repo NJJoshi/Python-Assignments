{
 "cells": [
  {
   "attachments": {},
   "cell_type": "markdown",
   "id": "087cbd3d",
   "metadata": {},
   "source": [
    "# Question 1\n",
    "#### In what modes should the PdfFileReader() and PdfFileWriter() File objects will be opened?!"
   ]
  },
  {
   "cell_type": "markdown",
   "id": "2f981688",
   "metadata": {},
   "source": [
    "# Answer 1\n",
    "####  PdfFileReader() will need to open file into 'read-binary' (rb) mode.\n",
    "####  PdfFileWriter() will need to open file into 'write-binary' (wb) mode."
   ]
  },
  {
   "attachments": {},
   "cell_type": "markdown",
   "id": "ab7fb14c",
   "metadata": {},
   "source": [
    "# Question 2\n",
    "#### From a PdfFileReader object, how do you get a Page object for page 5?"
   ]
  },
  {
   "cell_type": "markdown",
   "id": "62254df5",
   "metadata": {},
   "source": [
    "# Answer 2\n",
    "#### We will get Page no 5 by using \"pdfReader.getPage(4)\"."
   ]
  },
  {
   "attachments": {},
   "cell_type": "markdown",
   "id": "359d082b",
   "metadata": {},
   "source": [
    "# Question 3\n",
    "#### What PdfFileReader variable stores the number of pages in the PDF document?"
   ]
  },
  {
   "cell_type": "markdown",
   "id": "859304df",
   "metadata": {},
   "source": [
    "# Answer 3\n",
    "#### \"pdfReader.numPages\" has number of pages in the PDF document"
   ]
  },
  {
   "attachments": {},
   "cell_type": "markdown",
   "id": "f3d73c4c",
   "metadata": {},
   "source": [
    "# Question 4\n",
    "#### If a PdfFileReader object’s PDF is encrypted with the password swordfish, what must you do before you can obtain Page objects from it?"
   ]
  },
  {
   "cell_type": "markdown",
   "id": "5bef5f09",
   "metadata": {},
   "source": [
    "# Answer 4\n",
    "#### We need to open file and decrypt using password 'swordfish' before we obtain Page Objects from it."
   ]
  },
  {
   "attachments": {},
   "cell_type": "markdown",
   "id": "7d5200ba",
   "metadata": {},
   "source": [
    "# Question 5\n",
    "#### What methods do you use to rotate a page?"
   ]
  },
  {
   "cell_type": "markdown",
   "id": "11a82b3e",
   "metadata": {},
   "source": [
    "# Answer 5\n",
    "#### After we will get PdfFileReader object, we will get a first page by calling, pdfReader.getPage(0). \n",
    "#### pdfReader.getPage(0) will provide Page object and on Page Object , we will going to call \"page.rotateClockwise(90)\" to rotate page into clockwise and if we want to rotate page into Counter Clockwise direction then we should be calling \"page.rotateCounterClockwise()\"."
   ]
  },
  {
   "attachments": {},
   "cell_type": "markdown",
   "id": "1da162c8",
   "metadata": {},
   "source": [
    "# Question 6\n",
    "#### What is the difference between a Run object and a Paragraph object?"
   ]
  },
  {
   "cell_type": "markdown",
   "id": "06afb28b",
   "metadata": {},
   "source": [
    "# Answer 6\n",
    "#### The Document object contains a list of Paragraph objects for the paragraphs in the document.\n",
    "#### Each of these Paragraph objects contains a list of one or more Run objects.A Run object is a contiguous run of text with the same style"
   ]
  },
  {
   "attachments": {},
   "cell_type": "markdown",
   "id": "e6173e38",
   "metadata": {},
   "source": [
    "# Question 7\n",
    "#### How do you obtain a list of Paragraph objects for a Document object that’s stored in a variable named doc?"
   ]
  },
  {
   "cell_type": "markdown",
   "id": "48c8c176",
   "metadata": {},
   "source": [
    "# Answer 7\n",
    "#### First , we will going to import docx module.\n",
    "#### second, we will going to get 'doc' object by using doc = docx.Document('demo.docx').\n",
    "#### third, we will get list of Paragraph object(s) by \"doc.paragraphs\" which tells how many paragraph(s) in this document."
   ]
  },
  {
   "attachments": {},
   "cell_type": "markdown",
   "id": "20ec472c",
   "metadata": {},
   "source": [
    "# Question 8\n",
    "#### What type of object has bold, underline, italic, strike, and outline variables?"
   ]
  },
  {
   "cell_type": "markdown",
   "id": "cb0288f6",
   "metadata": {},
   "source": [
    "# Answer 8\n",
    "#### 'text' type of object which we will get by \"doc.paragraphs[i].run[j].text\" has bold, underline, italic, strike & outline variables."
   ]
  },
  {
   "attachments": {},
   "cell_type": "markdown",
   "id": "571b685e",
   "metadata": {},
   "source": [
    "# Question 9\n",
    "#### What is the difference between False, True, and None for the bold variable?"
   ]
  },
  {
   "cell_type": "markdown",
   "id": "03f7b826",
   "metadata": {},
   "source": [
    "# Answer 9\n",
    "#### 'True' means the attribute is always enabled, no matter what other styles are applied to the run which mean 'BOLD' style will going to apply\n",
    "#### 'False' means the attribute is always disabled which mean 'BOLD' style won't be applicable for that Run.\n",
    "#### 'None' means defaults to whatever the run’s style is set to."
   ]
  },
  {
   "attachments": {},
   "cell_type": "markdown",
   "id": "d383aef4",
   "metadata": {},
   "source": [
    "# Question 10\n",
    "#### How do you create a Document object for a new Word document ?"
   ]
  },
  {
   "cell_type": "markdown",
   "id": "88bc5cc1",
   "metadata": {},
   "source": [
    "# Answer 10\n",
    "#### First , we will do 'import docx'\n",
    "#### second, we will write 'doc = docx.Document()'. This will going to create a new word document object\n",
    "#### third , we will do some writing on 'doc' object using 'doc.add_paragraph('Hello, world!')'\n",
    "#### finally , we will save 'doc' object by calling 'doc.save(\"helloworld.docx\")' by passing some document name. This will create a new document file on disk."
   ]
  },
  {
   "attachments": {},
   "cell_type": "markdown",
   "id": "c203e1fa",
   "metadata": {},
   "source": [
    "# Question 11\n",
    "#### How do you add a paragraph with the text 'Hello, there!' to a Document object stored in a variable named doc ?"
   ]
  },
  {
   "cell_type": "markdown",
   "id": "2b19e046",
   "metadata": {},
   "source": [
    "# Answer 11\n",
    "#### First , we will do 'import docx'\n",
    "#### second, we will write 'doc = docx.Document()'. This will going to create a new word document object\n",
    "#### third , we will do some writing on 'doc' object using 'doc.add_paragraph('Hello, there!')'"
   ]
  },
  {
   "attachments": {},
   "cell_type": "markdown",
   "id": "39576eca",
   "metadata": {},
   "source": [
    "# Question 12\n",
    "#### What integers represent the levels of headings available in Word documents ?"
   ]
  },
  {
   "cell_type": "markdown",
   "id": "9a2fd756",
   "metadata": {},
   "source": [
    "# Answer 12\n",
    "#### Integers 1 to 4 are for various heading levels, with 1 being the main heading and 4 the lowest subheading."
   ]
  }
 ],
 "metadata": {
  "kernelspec": {
   "display_name": "Python 3 (ipykernel)",
   "language": "python",
   "name": "python3"
  },
  "language_info": {
   "codemirror_mode": {
    "name": "ipython",
    "version": 3
   },
   "file_extension": ".py",
   "mimetype": "text/x-python",
   "name": "python",
   "nbconvert_exporter": "python",
   "pygments_lexer": "ipython3",
   "version": "3.9.7"
  }
 },
 "nbformat": 4,
 "nbformat_minor": 5
}
