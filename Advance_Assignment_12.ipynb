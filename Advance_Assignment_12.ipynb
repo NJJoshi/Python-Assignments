{
 "cells": [
  {
   "cell_type": "markdown",
   "id": "52ec8d48",
   "metadata": {},
   "source": [
    "# Question 1\n",
    "#### Does assigning a value to a string's indexed character violate Python's string immutability?"
   ]
  },
  {
   "cell_type": "markdown",
   "id": "b52461f2",
   "metadata": {},
   "source": [
    "# Answer 1\n",
    "#### String is a immutable class in Python. Once it's instance has been created , it won't get modified however one can create a new instance of with modified value. Hence we can say 'Yes' that modifying string's indexed character violate string's immutability."
   ]
  },
  {
   "cell_type": "markdown",
   "id": "197fb015",
   "metadata": {},
   "source": [
    "# Question 2\n",
    "#### Does using the += operator to concatenate strings violate Python's string immutability? Why or why not?"
   ]
  },
  {
   "cell_type": "markdown",
   "id": "0c49606c",
   "metadata": {},
   "source": [
    "# Answer 2\n",
    "#### using '+=' operator with string , It won't violate immutability because modification to string will automatically create a new string object instance. It won't modify original instance of string."
   ]
  },
  {
   "cell_type": "markdown",
   "id": "9f1e7e0d",
   "metadata": {},
   "source": [
    "# Question 3\n",
    "#### In Python, how many different ways are there to index a character?"
   ]
  },
  {
   "cell_type": "markdown",
   "id": "f0b4c5cf",
   "metadata": {},
   "source": [
    "# Answer 3\n",
    "#### There are couple of ways to do it.\n",
    "#### - Using slicing operation\n",
    "#### - Using loop till length of string, get individual characters\n",
    "#### - Using in-built methods such as replace(), lstrip(), rstrip()"
   ]
  },
  {
   "cell_type": "markdown",
   "id": "a79b2749",
   "metadata": {},
   "source": [
    "# Question 4\n",
    "#### What is the relationship between indexing and slicing?"
   ]
  },
  {
   "cell_type": "markdown",
   "id": "b452b0ec",
   "metadata": {},
   "source": [
    "# Answer 4\n",
    "#### In Python, string is sequence of characters. Hence both operations (slicing & indexing) will work with their sequence of characters. "
   ]
  },
  {
   "cell_type": "markdown",
   "id": "2c879a6a",
   "metadata": {},
   "source": [
    "# Question 5\n",
    "#### What is an indexed character's exact data type? What is the data form of a slicing-generated substring?"
   ]
  },
  {
   "cell_type": "markdown",
   "id": "e0f5dfe5",
   "metadata": {},
   "source": [
    "# Answer 5\n",
    "#### Data type of indexed character is \"class str\" and slicing generated substring has data form of 'string' only."
   ]
  },
  {
   "cell_type": "markdown",
   "id": "2df2c5ab",
   "metadata": {},
   "source": [
    "# Question 6\n",
    "#### What is the relationship between string and character \"types\" in Python?"
   ]
  },
  {
   "cell_type": "markdown",
   "id": "2a8afcb1",
   "metadata": {},
   "source": [
    "# Answer 6\n",
    "#### string is a sequence of character(s) which form a string object value."
   ]
  },
  {
   "cell_type": "markdown",
   "id": "94cb418a",
   "metadata": {},
   "source": [
    "# Question 7\n",
    "#### Identify at least two operators and one method that allow you to combine one or more smaller strings to create a larger string."
   ]
  },
  {
   "cell_type": "markdown",
   "id": "fbe2eaf3",
   "metadata": {},
   "source": [
    "# Answer 7\n",
    "#### '+' and '+=' operator will be use for creating larger string.\n",
    "#### exapndable(), ljust(), rjust() function will be use for creating larger string."
   ]
  },
  {
   "cell_type": "markdown",
   "id": "f608434f",
   "metadata": {},
   "source": [
    "# Question 8\n",
    "#### What is the benefit of first checking the target string with in or not in before using the index method to find a substring?"
   ]
  },
  {
   "cell_type": "markdown",
   "id": "f24c2991",
   "metadata": {},
   "source": [
    "# Answer 8\n",
    "#### To avoid ValueError: substring not found while doing index operation."
   ]
  },
  {
   "cell_type": "markdown",
   "id": "6efefc42",
   "metadata": {},
   "source": [
    "# Question 9\n",
    "#### Which operators and built-in string methods produce simple Boolean (true/false) results?"
   ]
  },
  {
   "cell_type": "markdown",
   "id": "98ddf578",
   "metadata": {},
   "source": [
    "# Answer 9\n",
    "#### Operators which provide Boolean results are:\n",
    "#### ==\n",
    "#### !=\n",
    "#### <=\n",
    "#### >=\n",
    "#### <\n",
    "#### >\n",
    "#### String class's in built method which produce Boolean result are:\n",
    "#### endswith(), startswith(),isalnum(),isalpha(),isdigit(),isidentifier(),islower(),isprintable(),isspace(),istitle(),isupper()"
   ]
  }
 ],
 "metadata": {
  "kernelspec": {
   "display_name": "Python 3 (ipykernel)",
   "language": "python",
   "name": "python3"
  },
  "language_info": {
   "codemirror_mode": {
    "name": "ipython",
    "version": 3
   },
   "file_extension": ".py",
   "mimetype": "text/x-python",
   "name": "python",
   "nbconvert_exporter": "python",
   "pygments_lexer": "ipython3",
   "version": "3.9.7"
  }
 },
 "nbformat": 4,
 "nbformat_minor": 5
}
