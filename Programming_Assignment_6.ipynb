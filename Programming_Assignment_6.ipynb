{
 "cells": [
  {
   "cell_type": "markdown",
   "id": "54776e63",
   "metadata": {},
   "source": [
    "# Question 1\n",
    "#### Write a Python Program to Display Fibonacci Sequence Using Recursion"
   ]
  },
  {
   "cell_type": "markdown",
   "id": "bcbd2716",
   "metadata": {},
   "source": [
    "# Answer 1"
   ]
  },
  {
   "cell_type": "code",
   "execution_count": 2,
   "id": "6749e9d7",
   "metadata": {},
   "outputs": [
    {
     "name": "stdout",
     "output_type": "stream",
     "text": [
      "Please provide terms in integer:12\n",
      "0\n",
      "1\n",
      "1\n",
      "2\n",
      "3\n",
      "5\n",
      "8\n",
      "13\n",
      "21\n",
      "34\n",
      "55\n",
      "89\n"
     ]
    }
   ],
   "source": [
    "def fibonacci_recursion(num):\n",
    "    num = int(num)\n",
    "    if num <= 1:\n",
    "        return num\n",
    "    else:\n",
    "        return fibonacci_recursion(num - 1) + fibonacci_recursion(num - 2)\n",
    " \n",
    "def main():\n",
    "    try:\n",
    "        input_num = int(input('Please provide terms in integer:'))\n",
    "        if input_num <= 0:\n",
    "            raise ValueError()\n",
    "        else:\n",
    "            for i in range(input_num):\n",
    "                print(fibonacci_recursion(i))\n",
    "        \n",
    "    except ValueError as e:\n",
    "        print('Invalid input has been provided. Please provide positive integer number only which greater than 0(Zero)')\n",
    "\n",
    "main()"
   ]
  },
  {
   "cell_type": "markdown",
   "id": "ec5c8b77",
   "metadata": {},
   "source": [
    "# Question 2\n",
    "#### Write a Python Program to Find Factorial of Number Using Recursion"
   ]
  },
  {
   "cell_type": "markdown",
   "id": "d7ad73cf",
   "metadata": {},
   "source": [
    "# Answer 2"
   ]
  },
  {
   "cell_type": "code",
   "execution_count": 4,
   "id": "9d4fde36",
   "metadata": {},
   "outputs": [
    {
     "name": "stdout",
     "output_type": "stream",
     "text": [
      "Please provide term for factorial:5\n",
      "Factorial for  5  is  120\n"
     ]
    }
   ],
   "source": [
    "def facrorial_recursion(n):\n",
    "    if n == 1:\n",
    "        return 1\n",
    "    else:\n",
    "        return n * facrorial_recursion(n - 1)\n",
    "\n",
    "def main():\n",
    "    try:\n",
    "        input_num = int(input('Please provide term for factorial:'))\n",
    "        if input_num <= 0:\n",
    "            raise ValueError('Incorrect term value for factorial')\n",
    "        else:\n",
    "            print('Factorial for ' , input_num, ' is ', facrorial_recursion(input_num))\n",
    "    except ValueError as e:\n",
    "        print('Error occurred while input value conversion, ', e)\n",
    "\n",
    "main()"
   ]
  },
  {
   "cell_type": "markdown",
   "id": "87b7c3ea",
   "metadata": {},
   "source": [
    "# Question 3\n",
    "#### Write a Python Program to calculate your Body Mass Index"
   ]
  },
  {
   "cell_type": "markdown",
   "id": "c13788ac",
   "metadata": {},
   "source": [
    "# Answer 3"
   ]
  },
  {
   "cell_type": "code",
   "execution_count": 2,
   "id": "ddb7d012",
   "metadata": {},
   "outputs": [
    {
     "name": "stdout",
     "output_type": "stream",
     "text": [
      "Please provide Height (in meters):1.67\n",
      "Please provide Weight (in Kgs):65\n",
      "The BMI is 23.306680053067517 so Healthy\n"
     ]
    }
   ],
   "source": [
    "import pyinputplus as pypi\n",
    "\n",
    "def BMI(height, weight):\n",
    "    bmi = weight/(height**2)\n",
    "    return bmi\n",
    "\n",
    "def main():\n",
    "    #height = 1.79832\n",
    "    #weight = 70\n",
    "\n",
    "    height = pypi.inputFloat(prompt='Please provide Height (in meters):', default=0.0)\n",
    "    weight = pypi.inputInt(prompt='Please provide Weight (in Kgs):', default=0)\n",
    "    \n",
    "    # calling the BMI function\n",
    "    bmi = BMI(height, weight)\n",
    "    print(\"The BMI is\", format(bmi), \"so \", end='')\n",
    "\n",
    "    # Conditions to find out BMI category\n",
    "    if (bmi < 18.5):\n",
    "        print(\"underweight\")\n",
    "\n",
    "    elif ( bmi >= 18.5 and bmi < 24.9):\n",
    "        print(\"Healthy\")\n",
    "\n",
    "    elif ( bmi >= 24.9 and bmi < 30):\n",
    "        print(\"overweight\")\n",
    "\n",
    "    elif ( bmi >=30):\n",
    "        print(\"Suffering from Obesity\")\n",
    "\n",
    "main()"
   ]
  },
  {
   "cell_type": "markdown",
   "id": "b1cd5a81",
   "metadata": {},
   "source": [
    "# Question 4\n",
    "#### Write a Python Program to calculate the natural logarithm of any number"
   ]
  },
  {
   "cell_type": "markdown",
   "id": "f6fdb211",
   "metadata": {},
   "source": [
    "# Answer 4"
   ]
  },
  {
   "cell_type": "code",
   "execution_count": 4,
   "id": "1912e2f6",
   "metadata": {},
   "outputs": [
    {
     "name": "stdout",
     "output_type": "stream",
     "text": [
      "Please enter number for which you need natural logarithm:14\n",
      "Natural logarithm of  14  is : 2.6390573296152584\n"
     ]
    }
   ],
   "source": [
    "import math,pyinputplus as pypi\n",
    " \n",
    "def main():\n",
    "    input_num = pypi.inputInt(prompt='Please enter number for which you need natural logarithm:', default=0)\n",
    "    print (\"Natural logarithm of \",input_num,\" is : \", end=\"\")\n",
    "    print (math.log(input_num))\n",
    "\n",
    "main()"
   ]
  },
  {
   "cell_type": "markdown",
   "id": "5cf35a77",
   "metadata": {},
   "source": [
    "# Question 5\n",
    "#### Write a Python Program for cube sum of first n natural numbers"
   ]
  },
  {
   "cell_type": "markdown",
   "id": "0f68b063",
   "metadata": {},
   "source": [
    "# Answer 5"
   ]
  },
  {
   "cell_type": "code",
   "execution_count": 6,
   "id": "0596530b",
   "metadata": {},
   "outputs": [
    {
     "name": "stdout",
     "output_type": "stream",
     "text": [
      "Please enter number:3\n",
      "36\n"
     ]
    }
   ],
   "source": [
    "import pyinputplus as pypi\n",
    "\n",
    "def sumOfSeries(n):\n",
    "    sum = 0\n",
    "    for i in range(1, n+1):\n",
    "        sum +=i*i*i\n",
    "          \n",
    "    return sum\n",
    "  \n",
    "   \n",
    "def main():\n",
    "    n = pypi.inputInt(prompt='Please enter number:', default=0)\n",
    "    print(sumOfSeries(n))\n",
    "\n",
    "main()"
   ]
  }
 ],
 "metadata": {
  "kernelspec": {
   "display_name": "Python 3 (ipykernel)",
   "language": "python",
   "name": "python3"
  },
  "language_info": {
   "codemirror_mode": {
    "name": "ipython",
    "version": 3
   },
   "file_extension": ".py",
   "mimetype": "text/x-python",
   "name": "python",
   "nbconvert_exporter": "python",
   "pygments_lexer": "ipython3",
   "version": "3.9.7"
  }
 },
 "nbformat": 4,
 "nbformat_minor": 5
}
