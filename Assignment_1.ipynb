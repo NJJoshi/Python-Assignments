{
 "cells": [
  {
   "cell_type": "code",
   "execution_count": 19,
   "id": "3103f4ab",
   "metadata": {},
   "outputs": [],
   "source": [
    "## Question 1\n",
    "##\n",
    "##   In the below elements which of them are values or an expression? eg:- values can be\n",
    "##   integer or string and expressions will be mathematical operators.\n",
    "##   *\n",
    "##   'hello'\n",
    "##   -87.8\n",
    "##   -\n",
    "##   /\n",
    "##   +\n",
    "##   6\n",
    "##"
   ]
  },
  {
   "cell_type": "code",
   "execution_count": 20,
   "id": "f2b720df",
   "metadata": {},
   "outputs": [],
   "source": [
    "## Answer 1\n",
    "##\n",
    "##  * -       (expression)\n",
    "##  'hello' - (value)\n",
    "##  -87.8   - (value)\n",
    "##  -       - (expression)\n",
    "##  /       - (expression)\n",
    "##  +       - (expression)\n",
    "##  6       - (value)\n",
    "##"
   ]
  },
  {
   "cell_type": "code",
   "execution_count": 18,
   "id": "d2aa9c3e",
   "metadata": {},
   "outputs": [],
   "source": [
    "## Question 2\n",
    "##\n",
    "## What is the difference between string and variable?\n",
    "##"
   ]
  },
  {
   "cell_type": "code",
   "execution_count": 21,
   "id": "48037fe3",
   "metadata": {},
   "outputs": [],
   "source": [
    "## Answer 2\n",
    "##\n",
    "## string is a datatype in python where as 'variable' is a container of a value.\n",
    "##"
   ]
  },
  {
   "cell_type": "code",
   "execution_count": 7,
   "id": "fd6e22b8",
   "metadata": {},
   "outputs": [],
   "source": [
    "## Question 3\n",
    "##\n",
    "## Describe three different data types.\n",
    "##"
   ]
  },
  {
   "cell_type": "code",
   "execution_count": 22,
   "id": "bcec059c",
   "metadata": {},
   "outputs": [],
   "source": [
    "## Answer 3\n",
    "##\n",
    "## 1) Integer : any digit with positve/negative value treated as integer into python\n",
    "## 2) String:  string is a datatype in python which contains sequence of characters\n",
    "## 3) Boolean : They represent two value True and False.\n",
    "##"
   ]
  },
  {
   "cell_type": "code",
   "execution_count": 23,
   "id": "c1339a7f",
   "metadata": {},
   "outputs": [],
   "source": [
    "## Question 4\n",
    "##\n",
    "## What is an expression made up of? What do all expressions do?\n",
    "##"
   ]
  },
  {
   "cell_type": "code",
   "execution_count": 24,
   "id": "923d6096",
   "metadata": {},
   "outputs": [],
   "source": [
    "## Answer 4\n",
    "##\n",
    "## Expression can be made up of \n",
    "## 1. name\n",
    "## 2. identifier\n",
    "## 3. literal\n",
    "## 4. operators\n",
    "## 5. enclosures\n",
    "##\n",
    "## Expression will form a statement for execution.\n",
    "##"
   ]
  },
  {
   "cell_type": "code",
   "execution_count": 25,
   "id": "b839c8c4",
   "metadata": {},
   "outputs": [],
   "source": [
    "## Question 5\n",
    "##\n",
    "## This assignment statements, like spam = 10. What is the difference between an expression and a statement?\n",
    "##"
   ]
  },
  {
   "cell_type": "code",
   "execution_count": 26,
   "id": "e9f39640",
   "metadata": {},
   "outputs": [],
   "source": [
    "## Answer 5\n",
    "##\n",
    "## Expressions only contain identifiers, literals and operators, where operators include arithmetic and boolean operators, the function call operator () the subscription operator [] and similar, and can be reduced to some kind of \"value\", which can be any Python object. \n",
    "## Statements are everything that can make up a line (or several lines) of Python code. Note that expressions are part of statements.\n",
    "##"
   ]
  },
  {
   "cell_type": "code",
   "execution_count": 27,
   "id": "87cbc7be",
   "metadata": {},
   "outputs": [],
   "source": [
    "## Question 6\n",
    "##\n",
    "## After running the following code, what does the variable bacon contain?\n",
    "## bacon = 22\n",
    "## bacon + 1\n",
    "##"
   ]
  },
  {
   "cell_type": "code",
   "execution_count": 15,
   "id": "438477a7",
   "metadata": {},
   "outputs": [],
   "source": [
    "## Answer 6\n",
    "##\n",
    "## baon = 23"
   ]
  },
  {
   "cell_type": "code",
   "execution_count": 16,
   "id": "af34640b",
   "metadata": {},
   "outputs": [],
   "source": [
    "## Question 7\n",
    "##\n",
    "## What should the values of the following two terms be?\n",
    "# 'spam' + 'spamspam'\n",
    "# 'spam' * 3\n",
    "## "
   ]
  },
  {
   "cell_type": "code",
   "execution_count": 17,
   "id": "af2aad59",
   "metadata": {},
   "outputs": [],
   "source": [
    "## Answer 7\n",
    "##\n",
    "## For both , output will be 'spamspamspam'\n",
    "## "
   ]
  },
  {
   "cell_type": "code",
   "execution_count": 28,
   "id": "ab75962c",
   "metadata": {},
   "outputs": [],
   "source": [
    "## Question 8\n",
    "##\n",
    "## Why is eggs a valid variable name while 100 is invalid?\n",
    "##"
   ]
  },
  {
   "cell_type": "code",
   "execution_count": 30,
   "id": "24bcee4c",
   "metadata": {},
   "outputs": [],
   "source": [
    "## Answer 8\n",
    "##\n",
    "## Rules for Python variables states that\n",
    "## A variable name must start with a letter or the underscore character. A variable name cannot start with a number.\n",
    "## Hence eggs is a valid variable name and 100 is invalid.\n",
    "##"
   ]
  },
  {
   "cell_type": "code",
   "execution_count": 31,
   "id": "6ba94fde",
   "metadata": {},
   "outputs": [],
   "source": [
    "## Question 9\n",
    "##\n",
    "## What three functions can be used to get the integer, floating-point number, or string version of a value?\n",
    "##"
   ]
  },
  {
   "cell_type": "code",
   "execution_count": 32,
   "id": "f1194e62",
   "metadata": {},
   "outputs": [],
   "source": [
    "## Answer 9\n",
    "##\n",
    "## To get integer , use int()\n",
    "## To get float, use float()\n",
    "## To get string, use str()\n",
    "##"
   ]
  },
  {
   "cell_type": "code",
   "execution_count": 33,
   "id": "8af980a5",
   "metadata": {},
   "outputs": [],
   "source": [
    "## Question 10\n",
    "##\n",
    "## Why does this expression cause an error? How can you fix it?\n",
    "## 'I have eaten' + 99 + 'burritos'\n",
    "##"
   ]
  },
  {
   "cell_type": "code",
   "execution_count": 34,
   "id": "5022bdb0",
   "metadata": {},
   "outputs": [],
   "source": [
    "## Answer 10\n",
    "##\n",
    "## Because concatenation between 2 different datatype is not possible.\n",
    "## to fix this, we need to apply str(99) OR '99' value instead of 99.\n",
    "##"
   ]
  },
  {
   "cell_type": "code",
   "execution_count": null,
   "id": "e2dd024e",
   "metadata": {},
   "outputs": [],
   "source": []
  }
 ],
 "metadata": {
  "kernelspec": {
   "display_name": "Python 3 (ipykernel)",
   "language": "python",
   "name": "python3"
  },
  "language_info": {
   "codemirror_mode": {
    "name": "ipython",
    "version": 3
   },
   "file_extension": ".py",
   "mimetype": "text/x-python",
   "name": "python",
   "nbconvert_exporter": "python",
   "pygments_lexer": "ipython3",
   "version": "3.9.7"
  }
 },
 "nbformat": 4,
 "nbformat_minor": 5
}
