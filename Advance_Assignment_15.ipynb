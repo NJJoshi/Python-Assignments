{
 "cells": [
  {
   "cell_type": "markdown",
   "id": "0fc75cf9",
   "metadata": {},
   "source": [
    "# Question 1\n",
    "#### What are the new features added in Python 3.8 version?"
   ]
  },
  {
   "cell_type": "markdown",
   "id": "63b941cf",
   "metadata": {},
   "source": [
    "# Answer 1\n",
    "#### 1. Walrus Operator\n",
    "#### 2. Position only argument\n",
    "#### 3. f-string now supports '='\n",
    "#### 4. reveresed() works with dictionary\n",
    "#### 5. Warning about dangerous syntax\n",
    "#### 6. Few optimization related to reduce memory footprint and make code run faster\n",
    "#### 7. No paranthesis for 'yield' and 'return'\n",
    "#### 8. Support for dictionary comprehension \n",
    "#### 9. Addition of importlib_metadata which provides API style access to installed package's metadata"
   ]
  },
  {
   "cell_type": "markdown",
   "id": "d62467d7",
   "metadata": {},
   "source": [
    "# Question 2\n",
    "#### What is monkey patching in Python?"
   ]
  },
  {
   "cell_type": "markdown",
   "id": "a5f5953f",
   "metadata": {},
   "source": [
    "# Answer 2\n",
    "#### In Python, the term monkey patch refers to dynamic (or run-time) modifications of a class or module. In Python, we can actually change the behavior of code at run-time."
   ]
  },
  {
   "cell_type": "markdown",
   "id": "7011074d",
   "metadata": {},
   "source": [
    "# Question 3\n",
    "#### What is the difference between a shallow copy and deep copy?"
   ]
  },
  {
   "cell_type": "markdown",
   "id": "b0ddf8f4",
   "metadata": {},
   "source": [
    "# Answer 3\n",
    "#### Shallow copy stores the reference of the objects to original memory address\n",
    "#### Deep copy stores copies of object's value\n",
    "#### Shallow copy reflect change  made to new/copied object in the original object\n",
    "#### Deep Copy doesn't reflect change made to new/copied object in the original object\n",
    "#### Shallow copy stores the copy of object and it's reference still point to original object\n",
    "#### Deep Copy stores the copy of original object and recursively copies object as well\n",
    "#### Shallow copy is faster\n",
    "#### Deep Copy is comparatively slower."
   ]
  },
  {
   "cell_type": "markdown",
   "id": "558a8bd8",
   "metadata": {},
   "source": [
    "# Question 4\n",
    "#### What is the maximum possible length of an identifier?"
   ]
  },
  {
   "cell_type": "markdown",
   "id": "856411e0",
   "metadata": {},
   "source": [
    "# Answer 4\n",
    "#### It's 79 characters"
   ]
  },
  {
   "cell_type": "markdown",
   "id": "f37905e2",
   "metadata": {},
   "source": [
    "# Question 5\n",
    "#### What is generator comprehension?"
   ]
  },
  {
   "cell_type": "markdown",
   "id": "03494947",
   "metadata": {},
   "source": [
    "# Answer 5\n",
    "#### Python provides a sleek syntax for defining a simple generator in a single line of code; this expression is known as a generator comprehension.\n",
    "#### For Example,\n",
    "    even_gen = (i for i in range(100) if i%2 == 0)"
   ]
  }
 ],
 "metadata": {
  "kernelspec": {
   "display_name": "Python 3 (ipykernel)",
   "language": "python",
   "name": "python3"
  },
  "language_info": {
   "codemirror_mode": {
    "name": "ipython",
    "version": 3
   },
   "file_extension": ".py",
   "mimetype": "text/x-python",
   "name": "python",
   "nbconvert_exporter": "python",
   "pygments_lexer": "ipython3",
   "version": "3.9.7"
  }
 },
 "nbformat": 4,
 "nbformat_minor": 5
}
